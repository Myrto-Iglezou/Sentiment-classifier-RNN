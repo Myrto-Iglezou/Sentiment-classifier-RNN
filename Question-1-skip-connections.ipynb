{
  "nbformat": 4,
  "nbformat_minor": 0,
  "metadata": {
    "colab": {
      "name": "model4.ipynb",
      "provenance": [],
      "include_colab_link": true
    },
    "kernelspec": {
      "name": "python3",
      "display_name": "Python 3"
    }
  },
  "cells": [
    {
      "cell_type": "markdown",
      "metadata": {
        "id": "view-in-github",
        "colab_type": "text"
      },
      "source": [
        "<a href=\"https://colab.research.google.com/github/Myrto-Iglezou/AI2-project3/blob/master/Question-1-skip-connections.ipynb\" target=\"_parent\"><img src=\"https://colab.research.google.com/assets/colab-badge.svg\" alt=\"Open In Colab\"/></a>"
      ]
    },
    {
      "cell_type": "markdown",
      "metadata": {
        "id": "eOoUR08ESUJj"
      },
      "source": [
        "## YΣ19 Artificial Intelligence II\n",
        "# Homework 3\n",
        "\n",
        "### Iglezou Myrto - 111520170038"
      ]
    },
    {
      "cell_type": "markdown",
      "metadata": {
        "id": "FF6rJUV7SUJk"
      },
      "source": [
        "# Question 1 - skip connections"
      ]
    },
    {
      "cell_type": "code",
      "metadata": {
        "id": "vqFzJfkjSUJk"
      },
      "source": [
        "import pandas as pd \n",
        "from pandas import DataFrame, read_csv"
      ],
      "execution_count": 13,
      "outputs": []
    },
    {
      "cell_type": "markdown",
      "metadata": {
        "id": "eg6ZVC_nyPH0"
      },
      "source": [
        "Download the dataset."
      ]
    },
    {
      "cell_type": "code",
      "metadata": {
        "colab": {
          "base_uri": "https://localhost:8080/",
          "height": 202
        },
        "id": "wsFlMttISUJk",
        "outputId": "7dc16de0-c85e-4778-fbd2-29864fd3bd1a"
      },
      "source": [
        "import gdown\n",
        "url = 'https://drive.google.com/file/d/1dTIWNpjlrnTQBIQtaGOh0jCRYZiAQO79/view?usp=sharing'\n",
        "path = 'https://drive.google.com/uc?export=download&id='+url.split('/')[-2]\n",
        "output = \"twitterData.csv\"\n",
        "gdown.download(path, output, quiet=True)\n",
        "twitterData = pd.read_csv(\"/content/twitterData.csv\",nrows=20000)\n",
        "df = pd.DataFrame(data=twitterData)\n",
        "df.head(5)"
      ],
      "execution_count": 14,
      "outputs": [
        {
          "output_type": "execute_result",
          "data": {
            "text/html": [
              "<div>\n",
              "<style scoped>\n",
              "    .dataframe tbody tr th:only-of-type {\n",
              "        vertical-align: middle;\n",
              "    }\n",
              "\n",
              "    .dataframe tbody tr th {\n",
              "        vertical-align: top;\n",
              "    }\n",
              "\n",
              "    .dataframe thead th {\n",
              "        text-align: right;\n",
              "    }\n",
              "</style>\n",
              "<table border=\"1\" class=\"dataframe\">\n",
              "  <thead>\n",
              "    <tr style=\"text-align: right;\">\n",
              "      <th></th>\n",
              "      <th>Unnamed: 0</th>\n",
              "      <th>target</th>\n",
              "      <th>id</th>\n",
              "      <th>date</th>\n",
              "      <th>flag</th>\n",
              "      <th>user</th>\n",
              "      <th>text</th>\n",
              "    </tr>\n",
              "  </thead>\n",
              "  <tbody>\n",
              "    <tr>\n",
              "      <th>0</th>\n",
              "      <td>680949</td>\n",
              "      <td>0</td>\n",
              "      <td>2249621587</td>\n",
              "      <td>Fri Jun 19 22:41:08 PDT 2009</td>\n",
              "      <td>NO_QUERY</td>\n",
              "      <td>sukumarpant</td>\n",
              "      <td>#brokenpromises...</td>\n",
              "    </tr>\n",
              "    <tr>\n",
              "      <th>1</th>\n",
              "      <td>406741</td>\n",
              "      <td>0</td>\n",
              "      <td>2059003515</td>\n",
              "      <td>Sat Jun 06 16:03:21 PDT 2009</td>\n",
              "      <td>NO_QUERY</td>\n",
              "      <td>MTMSparrow</td>\n",
              "      <td>David Carradine  so sad. Thai's law not sure i...</td>\n",
              "    </tr>\n",
              "    <tr>\n",
              "      <th>2</th>\n",
              "      <td>1337108</td>\n",
              "      <td>4</td>\n",
              "      <td>2017466467</td>\n",
              "      <td>Wed Jun 03 08:26:14 PDT 2009</td>\n",
              "      <td>NO_QUERY</td>\n",
              "      <td>itsmemcee</td>\n",
              "      <td>A @ 415 B @ 425. Tell your bro i say congrats!</td>\n",
              "    </tr>\n",
              "    <tr>\n",
              "      <th>3</th>\n",
              "      <td>1560887</td>\n",
              "      <td>4</td>\n",
              "      <td>2186457254</td>\n",
              "      <td>Mon Jun 15 18:52:04 PDT 2009</td>\n",
              "      <td>NO_QUERY</td>\n",
              "      <td>jdfreivald</td>\n",
              "      <td>@littlefluffycat  Indeed.</td>\n",
              "    </tr>\n",
              "    <tr>\n",
              "      <th>4</th>\n",
              "      <td>1466295</td>\n",
              "      <td>4</td>\n",
              "      <td>2064458395</td>\n",
              "      <td>Sun Jun 07 06:19:20 PDT 2009</td>\n",
              "      <td>NO_QUERY</td>\n",
              "      <td>CrazyHan</td>\n",
              "      <td>Completed Race 4 Life in 58mins with girlies f...</td>\n",
              "    </tr>\n",
              "  </tbody>\n",
              "</table>\n",
              "</div>"
            ],
            "text/plain": [
              "   Unnamed: 0  ...                                               text\n",
              "0      680949  ...                                #brokenpromises... \n",
              "1      406741  ...  David Carradine  so sad. Thai's law not sure i...\n",
              "2     1337108  ...    A @ 415 B @ 425. Tell your bro i say congrats! \n",
              "3     1560887  ...                          @littlefluffycat  Indeed.\n",
              "4     1466295  ...  Completed Race 4 Life in 58mins with girlies f...\n",
              "\n",
              "[5 rows x 7 columns]"
            ]
          },
          "metadata": {
            "tags": []
          },
          "execution_count": 14
        }
      ]
    },
    {
      "cell_type": "markdown",
      "metadata": {
        "id": "gFooeAwdyEvP"
      },
      "source": [
        "Creating a new dataframe with only two columns, target and text.\n"
      ]
    },
    {
      "cell_type": "code",
      "metadata": {
        "colab": {
          "base_uri": "https://localhost:8080/",
          "height": 202
        },
        "id": "oiQYE49Z8lAC",
        "outputId": "6d2a7d52-2c2f-4f31-ce55-246083c9cb27"
      },
      "source": [
        "df.drop(df.columns.difference(['text','target']), 1, inplace=True)\n",
        "df['target'].replace({4: 1}, inplace = True)\n",
        "df.head(5)"
      ],
      "execution_count": 15,
      "outputs": [
        {
          "output_type": "execute_result",
          "data": {
            "text/html": [
              "<div>\n",
              "<style scoped>\n",
              "    .dataframe tbody tr th:only-of-type {\n",
              "        vertical-align: middle;\n",
              "    }\n",
              "\n",
              "    .dataframe tbody tr th {\n",
              "        vertical-align: top;\n",
              "    }\n",
              "\n",
              "    .dataframe thead th {\n",
              "        text-align: right;\n",
              "    }\n",
              "</style>\n",
              "<table border=\"1\" class=\"dataframe\">\n",
              "  <thead>\n",
              "    <tr style=\"text-align: right;\">\n",
              "      <th></th>\n",
              "      <th>target</th>\n",
              "      <th>text</th>\n",
              "    </tr>\n",
              "  </thead>\n",
              "  <tbody>\n",
              "    <tr>\n",
              "      <th>0</th>\n",
              "      <td>0</td>\n",
              "      <td>#brokenpromises...</td>\n",
              "    </tr>\n",
              "    <tr>\n",
              "      <th>1</th>\n",
              "      <td>0</td>\n",
              "      <td>David Carradine  so sad. Thai's law not sure i...</td>\n",
              "    </tr>\n",
              "    <tr>\n",
              "      <th>2</th>\n",
              "      <td>1</td>\n",
              "      <td>A @ 415 B @ 425. Tell your bro i say congrats!</td>\n",
              "    </tr>\n",
              "    <tr>\n",
              "      <th>3</th>\n",
              "      <td>1</td>\n",
              "      <td>@littlefluffycat  Indeed.</td>\n",
              "    </tr>\n",
              "    <tr>\n",
              "      <th>4</th>\n",
              "      <td>1</td>\n",
              "      <td>Completed Race 4 Life in 58mins with girlies f...</td>\n",
              "    </tr>\n",
              "  </tbody>\n",
              "</table>\n",
              "</div>"
            ],
            "text/plain": [
              "   target                                               text\n",
              "0       0                                #brokenpromises... \n",
              "1       0  David Carradine  so sad. Thai's law not sure i...\n",
              "2       1    A @ 415 B @ 425. Tell your bro i say congrats! \n",
              "3       1                          @littlefluffycat  Indeed.\n",
              "4       1  Completed Race 4 Life in 58mins with girlies f..."
            ]
          },
          "metadata": {
            "tags": []
          },
          "execution_count": 15
        }
      ]
    },
    {
      "cell_type": "markdown",
      "metadata": {
        "id": "t0Zrsit-SUJm"
      },
      "source": [
        "## Data pre-processing"
      ]
    },
    {
      "cell_type": "markdown",
      "metadata": {
        "id": "pKM0_pS5SUJm"
      },
      "source": [
        "### Removing the scpecial characters"
      ]
    },
    {
      "cell_type": "code",
      "metadata": {
        "id": "nzcEiq8tSUJm"
      },
      "source": [
        "import re\n",
        "\n",
        "def RemoveSpecialCharacters(x):\n",
        "    x = re.sub(r'[^\\w]+', \" \", x)\n",
        "    return x"
      ],
      "execution_count": 16,
      "outputs": []
    },
    {
      "cell_type": "code",
      "metadata": {
        "id": "gzJ4Kd61SUJm"
      },
      "source": [
        "df['text'] = df['text'].apply(lambda x: RemoveSpecialCharacters(x) )"
      ],
      "execution_count": 17,
      "outputs": []
    },
    {
      "cell_type": "markdown",
      "metadata": {
        "id": "5P15gBnWSUJm"
      },
      "source": [
        "### Lemmatize"
      ]
    },
    {
      "cell_type": "code",
      "metadata": {
        "id": "zk9vMwm0SUJm",
        "colab": {
          "base_uri": "https://localhost:8080/",
          "height": 0
        },
        "outputId": "e127bb91-7eaf-4de9-81db-275c522c0da3"
      },
      "source": [
        "import nltk\n",
        "nltk.download('wordnet')\n",
        "from nltk.stem import WordNetLemmatizer\n",
        "\n",
        "df['text'] = df['text'].apply(lambda x: WordNetLemmatizer().lemmatize(x))"
      ],
      "execution_count": 18,
      "outputs": [
        {
          "output_type": "stream",
          "text": [
            "[nltk_data] Downloading package wordnet to /root/nltk_data...\n",
            "[nltk_data]   Package wordnet is already up-to-date!\n"
          ],
          "name": "stdout"
        }
      ]
    },
    {
      "cell_type": "markdown",
      "metadata": {
        "id": "vTzW08GKSUJm"
      },
      "source": [
        "### Removing the upercase"
      ]
    },
    {
      "cell_type": "code",
      "metadata": {
        "id": "DrBPOkWcSUJm"
      },
      "source": [
        "df['text'] = df['text'].apply(lambda x: x.lower())"
      ],
      "execution_count": 19,
      "outputs": []
    },
    {
      "cell_type": "code",
      "metadata": {
        "colab": {
          "base_uri": "https://localhost:8080/",
          "height": 202
        },
        "id": "Sdae8kuml0mh",
        "outputId": "719f7b0e-7bc2-48cf-b792-4fdbf94e7f9e"
      },
      "source": [
        "df.head(5)"
      ],
      "execution_count": 20,
      "outputs": [
        {
          "output_type": "execute_result",
          "data": {
            "text/html": [
              "<div>\n",
              "<style scoped>\n",
              "    .dataframe tbody tr th:only-of-type {\n",
              "        vertical-align: middle;\n",
              "    }\n",
              "\n",
              "    .dataframe tbody tr th {\n",
              "        vertical-align: top;\n",
              "    }\n",
              "\n",
              "    .dataframe thead th {\n",
              "        text-align: right;\n",
              "    }\n",
              "</style>\n",
              "<table border=\"1\" class=\"dataframe\">\n",
              "  <thead>\n",
              "    <tr style=\"text-align: right;\">\n",
              "      <th></th>\n",
              "      <th>target</th>\n",
              "      <th>text</th>\n",
              "    </tr>\n",
              "  </thead>\n",
              "  <tbody>\n",
              "    <tr>\n",
              "      <th>0</th>\n",
              "      <td>0</td>\n",
              "      <td>brokenpromises</td>\n",
              "    </tr>\n",
              "    <tr>\n",
              "      <th>1</th>\n",
              "      <td>0</td>\n",
              "      <td>david carradine so sad thai s law not sure if ...</td>\n",
              "    </tr>\n",
              "    <tr>\n",
              "      <th>2</th>\n",
              "      <td>1</td>\n",
              "      <td>a 415 b 425 tell your bro i say congrats</td>\n",
              "    </tr>\n",
              "    <tr>\n",
              "      <th>3</th>\n",
              "      <td>1</td>\n",
              "      <td>littlefluffycat indeed</td>\n",
              "    </tr>\n",
              "    <tr>\n",
              "      <th>4</th>\n",
              "      <td>1</td>\n",
              "      <td>completed race 4 life in 58mins with girlies f...</td>\n",
              "    </tr>\n",
              "  </tbody>\n",
              "</table>\n",
              "</div>"
            ],
            "text/plain": [
              "   target                                               text\n",
              "0       0                                    brokenpromises \n",
              "1       0  david carradine so sad thai s law not sure if ...\n",
              "2       1          a 415 b 425 tell your bro i say congrats \n",
              "3       1                            littlefluffycat indeed \n",
              "4       1  completed race 4 life in 58mins with girlies f..."
            ]
          },
          "metadata": {
            "tags": []
          },
          "execution_count": 20
        }
      ]
    },
    {
      "cell_type": "markdown",
      "metadata": {
        "id": "jnmaBb9USUJm"
      },
      "source": [
        "## Word embedding - GloVe\n",
        "GloVe is an unsupervised learning algorithm for obtaining vector representations for words. Training is performed on aggregated global word-word co-occurrence statistics from a corpus, and the resulting representations showcase interesting linear substructures of the word vector space. "
      ]
    },
    {
      "cell_type": "code",
      "metadata": {
        "id": "Jmlwwy9ynWQ9",
        "outputId": "f8ba2dd8-2838-4a10-f80e-276968d807e2",
        "colab": {
          "base_uri": "https://localhost:8080/",
          "height": 0
        }
      },
      "source": [
        "from torchtext.vocab import GloVe\n",
        "glove = GloVe(name='twitter.27B', dim=25)"
      ],
      "execution_count": 21,
      "outputs": [
        {
          "output_type": "stream",
          "text": [
            ".vector_cache/glove.twitter.27B.zip: 1.52GB [11:53, 2.13MB/s]                           \n",
            "100%|█████████▉| 1192955/1193514 [00:26<00:00, 42500.00it/s]"
          ],
          "name": "stderr"
        }
      ]
    },
    {
      "cell_type": "code",
      "metadata": {
        "id": "5l1kQXuOjXtZ"
      },
      "source": [
        "from torchtext.data import Field\n",
        "text_field = Field(sequential=True,tokenize='spacy',fix_length=100)\n",
        "\n",
        "label_field = Field(sequential=False, use_vocab=False)\n",
        "preprocessed_text = df['text'].apply(lambda x: text_field.preprocess(x)) #apply preprocess manually\n",
        "text_field.build_vocab(preprocessed_text, vectors=glove)  # load embedding with 25d\n",
        "vocab = text_field.vocab  # get the vocab instance"
      ],
      "execution_count": 22,
      "outputs": []
    },
    {
      "cell_type": "markdown",
      "metadata": {
        "id": "GTdO_4EFmZIS"
      },
      "source": [
        "### Create the datasets\n",
        "\n",
        "We have train, validation and test datasets that contain text and label information. Train has 80%, validation 10% and test 10%."
      ]
    },
    {
      "cell_type": "code",
      "metadata": {
        "id": "Vev1gKGRxQ-o"
      },
      "source": [
        "from torchtext.data import Dataset, Example\n",
        "fields = (('target', label_field),('text', text_field))\n",
        "train_dataset, valid_dataset, test_dataset= Dataset(examples=[Example.fromlist(list(r), fields)\n",
        "                                               for i, r in df.iterrows()],\n",
        "                                               fields = fields).split(split_ratio = [0.8, 0.1, 0.1])"
      ],
      "execution_count": 23,
      "outputs": []
    },
    {
      "cell_type": "markdown",
      "metadata": {
        "id": "F9sqYkzgSUJm"
      },
      "source": [
        "## Batching sentences together \n",
        "Use *BucketIterator* to create the batches for the 3 datasets with batch size 64."
      ]
    },
    {
      "cell_type": "code",
      "metadata": {
        "id": "MugWDpHxSUJm"
      },
      "source": [
        "from torchtext.data import BucketIterator\n",
        "train_iter, valid_iter, test_iter = BucketIterator.splits(datasets=(train_dataset, valid_dataset, test_dataset),\n",
        "                                                          batch_sizes=(64,64,64), sort=False)"
      ],
      "execution_count": 24,
      "outputs": []
    },
    {
      "cell_type": "markdown",
      "metadata": {
        "id": "otwbCFB8ES6W"
      },
      "source": [
        "## Training on GPU"
      ]
    },
    {
      "cell_type": "code",
      "metadata": {
        "id": "txRB3MpqETMj",
        "colab": {
          "base_uri": "https://localhost:8080/"
        },
        "outputId": "8938dde5-54b3-4ca5-c8f0-75216227a13c"
      },
      "source": [
        "import torch\r\n",
        "# First checking if GPU is available\r\n",
        "train_on_gpu=torch.cuda.is_available()\r\n",
        "\r\n",
        "if(train_on_gpu):\r\n",
        "    print('Training on GPU.')\r\n",
        "else:\r\n",
        "    print('No GPU available, training on CPU.')"
      ],
      "execution_count": 47,
      "outputs": [
        {
          "output_type": "stream",
          "text": [
            "No GPU available, training on CPU.\n"
          ],
          "name": "stdout"
        }
      ]
    },
    {
      "cell_type": "markdown",
      "metadata": {
        "id": "jzGmJL_PSUJm"
      },
      "source": [
        "## Architecture of RNN"
      ]
    },
    {
      "cell_type": "code",
      "metadata": {
        "id": "KwEPmlI8yjK-"
      },
      "source": [
        "import torch.nn as nn\n",
        "import numpy as np\n",
        "from numpy import zeros"
      ],
      "execution_count": 25,
      "outputs": []
    },
    {
      "cell_type": "code",
      "metadata": {
        "id": "54r961vkSUJm"
      },
      "source": [
        "class GRUmodel_a(nn.Module):\n",
        "    \"\"\"\n",
        "    Wrapper module for RNN, LSTM, GRU cells using pytorch api. \n",
        "    The output is fed to a FFN for classification.\n",
        "    \"\"\"\n",
        "    def __init__(self,embedding, cell_type, input_size, output_size,embedding_dim = 25, \\\n",
        "                 hidden_size=100, num_layers=1, bidirectional=False, dropout = 0):\n",
        "        super(GRUmodel_a, self).__init__()\n",
        "        \n",
        "\n",
        "        # Initializations\n",
        "        self.embedding = embedding\n",
        "        # dropout layer\n",
        "        self.dropout = nn.Dropout(dropout)\n",
        "        # self.cell_type = cell_type\n",
        "        self.input_size, self.hidden_size, self.num_layers, self.output_size = embedding_dim, hidden_size, num_layers, output_size\n",
        "        self.bidirectional = bidirectional\n",
        "        self.sigmoid = nn.Sigmoid()\n",
        "       \n",
        "        self.iL1= self.input_size\n",
        "        self.oL1= self.hidden_size\n",
        "        self.iL2= self.oL1*2 \n",
        "        self.oL2= self.hidden_size\n",
        "        self.iL3= self.oL2*2\n",
        "        self.oL3= self.hidden_size\n",
        "\n",
        "        self.gru1 = nn.GRU(self.iL1,self.oL1, batch_first=True, bidirectional= self.bidirectional)\n",
        "        self.gru2 = nn.GRU(self.iL2,self.oL2, batch_first=True, bidirectional = self.bidirectional)\n",
        "        self.gru3 = nn.GRU(self.iL3,self.oL3, batch_first=True, bidirectional = self.bidirectional)\n",
        "            \n",
        "        if bidirectional: # we'll have 2 more layers as the output to the final layer\n",
        "          self.out = nn.Linear(hidden_size * 2, output_size)\n",
        "        else:\n",
        "          self.out = nn.Linear(hidden_size, output_size)\n",
        "\n",
        "    def forward(self, x, prints=False):\n",
        "\n",
        "        x = self.embedding[x]\n",
        "        outputs = []\n",
        "\n",
        "        output1, h_n1 = self.gru1(x.detach())\n",
        "        outputs.append(output1)\n",
        "\n",
        "        output2, h_n2 = self.gru2(output1)\n",
        "        outputs.append(output2)\n",
        "\n",
        "        output3, h_n3 = self.gru3(output2)\n",
        "        outputs.append(output3)\n",
        "\n",
        "        r_out = torch.cat(outputs,dim=1)\n",
        "        \n",
        "        r_out = r_out[:, -1, :]\n",
        "\n",
        "        out = self.out(r_out)\n",
        "\n",
        "        out = self.dropout(out)\n",
        "\n",
        "        return self.sigmoid(out)"
      ],
      "execution_count": 332,
      "outputs": []
    },
    {
      "cell_type": "code",
      "metadata": {
        "id": "GQtG3m580SFy"
      },
      "source": [
        "class GRUmodel_b(nn.Module):\r\n",
        "    \"\"\"\r\n",
        "    Wrapper module for RNN, LSTM, GRU cells using pytorch api. \r\n",
        "    The output is fed to a FFN for classification.\r\n",
        "    \"\"\"\r\n",
        "    def __init__(self,embedding, cell_type, input_size, output_size,embedding_dim = 25, \\\r\n",
        "                 hidden_size=100, num_layers=1, bidirectional=False, dropout = 0):\r\n",
        "        super(GRUmodel_b, self).__init__()\r\n",
        "        \r\n",
        "\r\n",
        "        # Initializations\r\n",
        "        self.embedding = embedding\r\n",
        "        # dropout layer\r\n",
        "        self.dropout = nn.Dropout(dropout)\r\n",
        "        # self.cell_type = cell_type\r\n",
        "        self.input_size, self.hidden_size, self.num_layers, self.output_size = embedding_dim, hidden_size, num_layers, output_size\r\n",
        "        self.bidirectional = bidirectional\r\n",
        "        self.sigmoid = nn.Sigmoid()\r\n",
        "       \r\n",
        "        self.iL1= self.input_size\r\n",
        "        self.oL1= self.hidden_size\r\n",
        "        self.iL2= self.oL1*2 \r\n",
        "        self.oL2= self.hidden_size\r\n",
        "\r\n",
        "        self.gru1 = nn.GRU(self.iL1,self.oL1, batch_first=True, bidirectional= self.bidirectional)\r\n",
        "        self.gru2 = nn.GRU(self.iL2,self.oL2, batch_first=True, bidirectional = self.bidirectional)\r\n",
        "            \r\n",
        "        if bidirectional: # we'll have 2 more layers as the output to the final layer\r\n",
        "          self.out = nn.Linear(hidden_size * 2, output_size)\r\n",
        "        else:\r\n",
        "          self.out = nn.Linear(hidden_size, output_size)\r\n",
        "          \r\n",
        "    def forward(self, x, prints=False):\r\n",
        "\r\n",
        "        x = self.embedding[x]\r\n",
        "        outputs = []\r\n",
        "\r\n",
        "        output1, h_n1 = self.gru1(x.detach())\r\n",
        "        outputs.append(output1)\r\n",
        "\r\n",
        "        output2, h_n2 = self.gru2(output1)\r\n",
        "        outputs.append(output2)\r\n",
        "\r\n",
        "        r_out = torch.cat(outputs,dim=1)\r\n",
        "        \r\n",
        "        r_out = r_out[:, -1, :]\r\n",
        "\r\n",
        "        out = self.out(r_out)\r\n",
        "\r\n",
        "        out = self.dropout(out)\r\n",
        "\r\n",
        "        return self.sigmoid(out)"
      ],
      "execution_count": 333,
      "outputs": []
    },
    {
      "cell_type": "code",
      "metadata": {
        "id": "UP2XqfdmSUJm"
      },
      "source": [
        "def train(model,X,y,optimizer,loss_fn):\n",
        "\n",
        "  if train_on_gpu:\n",
        "    X, y = X.cuda(), y.cuda()\n",
        "\n",
        "  # step 1. Zero the gradients\n",
        "  optimizer.zero_grad()\n",
        "  # step 2. Compute the output\n",
        "  y_pred = model(X)\n",
        "\n",
        "  if train_on_gpu:\n",
        "    y_pred = y_pred.squeeze().cuda()\n",
        "  else:\n",
        "    y_pred = y_pred.squeeze()\n",
        "  # step 3. Compute the loss\n",
        "  loss = loss_fn(y_pred, y)\n",
        "  # step 4. use loss to produce gradients\n",
        "  loss.backward()\n",
        "  # step 5. use optimizer to take gradient step\n",
        "  optimizer.step()\n",
        "\n",
        "  return loss.item(),y_pred"
      ],
      "execution_count": 334,
      "outputs": []
    },
    {
      "cell_type": "code",
      "metadata": {
        "id": "_IePE6WPRvPL"
      },
      "source": [
        "def validate(classifier,X,y,loss_fn):\n",
        "  y_pred =  classifier(X)\n",
        "\n",
        "  if train_on_gpu:\n",
        "    y_pred = y_pred.squeeze().cuda()\n",
        "  else:\n",
        "    y_pred = y_pred.squeeze()\n",
        "\n",
        "  loss = loss_fn(y_pred, y)\n",
        "\n",
        "  return loss.item(),y_pred\n"
      ],
      "execution_count": 335,
      "outputs": []
    },
    {
      "cell_type": "code",
      "metadata": {
        "id": "Mw4BimL-SUJm"
      },
      "source": [
        "def predict(model,X):\n",
        "    outputs = model(X)\n",
        "    return torch.round(outputs)"
      ],
      "execution_count": 336,
      "outputs": []
    },
    {
      "cell_type": "markdown",
      "metadata": {
        "id": "i97djlJBSUJn"
      },
      "source": [
        "# Functions for training and testing net\n",
        "\n"
      ]
    },
    {
      "cell_type": "code",
      "metadata": {
        "id": "QIgk8Zm_Gai4"
      },
      "source": [
        "from sklearn.metrics import accuracy_score, f1_score,recall_score,precision_score\r\n",
        "\r\n",
        "def trainNet(net,train_iter,valid_iter,num_epochs,clip_param):\r\n",
        "  # move model to GPU, if available\r\n",
        "  if train_on_gpu:\r\n",
        "      net.cuda()\r\n",
        "\r\n",
        "  # Accumulate losses\r\n",
        "  train_losses = []\r\n",
        "  valid_losses = []\r\n",
        "  epoch_train_losses = []\r\n",
        "  epoch_valid_losses = []\r\n",
        "\r\n",
        "  train_accuracy = []\r\n",
        "  valid_accuracy = []\r\n",
        "\r\n",
        "  for epoch in range(num_epochs):\r\n",
        "\r\n",
        "      #change to train mode\r\n",
        "      net.train() \r\n",
        "\r\n",
        "      train_accuracy = []\r\n",
        "      valid_accuracy = []\r\n",
        "\r\n",
        "      epoch_train_losses = []\r\n",
        "      epoch_valid_losses = []\r\n",
        "      for batch in train_iter:\r\n",
        "\r\n",
        "        loss, pred = train(net, batch.text.T, batch.target.float(), optimizer, loss_function)\r\n",
        "        epoch_train_losses.append(loss)\r\n",
        "        \r\n",
        "        pred = torch.round(pred)\r\n",
        "        pred = pred.detach().numpy()\r\n",
        "        test = batch.target.float()\r\n",
        "        test = test.numpy()\r\n",
        "\r\n",
        "        train_accuracy.append(accuracy_score(test, pred))\r\n",
        "\r\n",
        "        #Clip gradients\r\n",
        "        for param in net.parameters():\r\n",
        "            if param.grad is None:\r\n",
        "                continue\r\n",
        "            grad_val = torch.clamp(param.grad, -clip_param, clip_param)\r\n",
        "      \r\n",
        "      # change to evaluation mode\r\n",
        "      net.eval()\r\n",
        "\r\n",
        "      for step,batch in enumerate(valid_iter):\r\n",
        "          with torch.no_grad():\r\n",
        "            # Faster inference\r\n",
        "              if(train_on_gpu):\r\n",
        "                    inputs, labels = batch.text.cuda(), batch.target.float().cuda()\r\n",
        "              else:\r\n",
        "                inputs, labels = batch.text, batch.target.float()\r\n",
        "              \r\n",
        "              loss, pred = validate(net, inputs.T, labels,loss_function)\r\n",
        "              epoch_valid_losses.append(loss)\r\n",
        "\r\n",
        "              pred = torch.round(pred)\r\n",
        "              pred = pred.detach().numpy()\r\n",
        "              valid = labels\r\n",
        "              valid = valid.numpy()\r\n",
        "\r\n",
        "              valid_accuracy.append(accuracy_score(valid, pred))\r\n",
        "              # print(f'Epoch: {epoch}| Validation CE loss: {loss:4f} | Test accuracy: {100 * valid_accuracy[-1]:.2f} %')\r\n",
        "\r\n",
        "      print(f'Epoch: {epoch}|| Train accuracy: {100 * np.mean(train_accuracy):.2f} | Valid accuracy: {100 * np.mean(valid_accuracy):.2f} %')\r\n",
        "      \r\n",
        "      train_losses.append(np.mean(epoch_train_losses))\r\n",
        "      valid_losses.append(np.mean(epoch_valid_losses))\r\n",
        "\r\n",
        "  return train_losses,valid_losses\r\n",
        "\r\n"
      ],
      "execution_count": 337,
      "outputs": []
    },
    {
      "cell_type": "code",
      "metadata": {
        "id": "ntrRESB_VpGk"
      },
      "source": [
        "import matplotlib.pyplot as plt\n",
        "\n",
        "def lossVSepoch(valid_losses,train_losses):\n",
        "\n",
        "    plt.figure(figsize=(8,5))\n",
        "\n",
        "    plt.plot(valid_losses,'o-',color=\"r\")\n",
        "\n",
        "    plt.plot(train_losses,'o-',color=\"g\")\n",
        "\n",
        "    plt.grid()\n",
        "\n",
        "    plt.plot(valid_losses, 'o-', color=\"r\",\n",
        "                    label=\"Validation loss\")\n",
        "    plt.plot(train_losses,  'o-', color=\"g\",\n",
        "                    label=\"Training loss\")\n",
        "\n",
        "    plt.legend(loc=\"best\")\n",
        "\n",
        "    plt.xlabel(\"epochs\")\n",
        "    plt.ylabel(\"losses\")\n",
        "    plt.title(\"Scalability of the model\")\n",
        "\n",
        "    plt.show()"
      ],
      "execution_count": 338,
      "outputs": []
    },
    {
      "cell_type": "code",
      "metadata": {
        "id": "RSq0OlyjSUJn"
      },
      "source": [
        "from sklearn.metrics import accuracy_score, f1_score,recall_score,precision_score\n",
        "from sklearn.metrics import classification_report\n",
        "\n",
        "def testNet(net, test_iter):\n",
        "\n",
        "  accuracy = []\n",
        "  f1 = []\n",
        "  recall = []\n",
        "  precision = []\n",
        "  report = []\n",
        "\n",
        "  for batch in test_iter:\n",
        "        \n",
        "      y_pred = predict(net,batch.text.T)\n",
        "      y_pred = y_pred.detach().numpy()\n",
        "      y_test = batch.target.float()\n",
        "      y_test = y_test.numpy()\n",
        "\n",
        "      acc = accuracy_score(y_test, y_pred)\n",
        "      f1_sc = f1_score(y_test, y_pred, average='macro')\n",
        "      rec = recall_score(y_test, y_pred, average='macro')\n",
        "      prec = precision_score(y_test, y_pred, average='macro')\n",
        "      \n",
        "      accuracy.append(acc)\n",
        "      f1.append(f1_sc)\n",
        "      recall.append(rec)\n",
        "      precision.append(prec)\n",
        "      \n",
        "\n",
        "      report.append(classification_report(y_test, y_pred))\n",
        "  print('\\n------------------- Scores ----------------------\\n')\n",
        "  print(f'Accuracy: {100 * np.mean(accuracy):.2f} %')\n",
        "  print(f'F1-score: {100 * np.mean(f1):.2f} %')\n",
        "  print(f'Recall-score: {100 * np.mean(recall):.2f} %')\n",
        "  print(f'Precision: {100 * np.mean(precision):.2f} %')\n",
        "  \n",
        "  return np.mean(accuracy),np.mean(f1),np.mean(recall),np.mean(precision)"
      ],
      "execution_count": 339,
      "outputs": []
    },
    {
      "cell_type": "markdown",
      "metadata": {
        "id": "A7867YrjzqVZ"
      },
      "source": [
        "## Create dataframe to keep all experiments"
      ]
    },
    {
      "cell_type": "code",
      "metadata": {
        "id": "cK_cjXZKzpHJ"
      },
      "source": [
        "FinalDf = pd.DataFrame(columns=[['Cell type','Layers of stacked RNNs','Hidden size of layers','Skip connections',\\\r\n",
        "                                 'gradient clipping','Dropout prob','Accuracy','F1-score','Recall-score','Precision']])"
      ],
      "execution_count": 340,
      "outputs": []
    },
    {
      "cell_type": "markdown",
      "metadata": {
        "id": "DCKcoFKcil_u"
      },
      "source": [
        "## Neural Network - **GRU**"
      ]
    },
    {
      "cell_type": "code",
      "metadata": {
        "colab": {
          "base_uri": "https://localhost:8080/",
          "height": 751
        },
        "id": "4Ot5JfiklIXo",
        "outputId": "b9e566b4-e9bd-4425-f8f2-213b515db057"
      },
      "source": [
        "# ============\r\n",
        "input_size = 100       # length is 100, given in Field\r\n",
        "output_size = 1     \r\n",
        "bidirectional = True\r\n",
        "cell_type = 'GRU'\r\n",
        "embedding_dim = 25\r\n",
        "# =============================\r\n",
        "hidden_size = 256     # number of hidden neurons\r\n",
        "num_layers =  1        # number of layers\r\n",
        "dropout = 0.3\r\n",
        "clip_param = 5\r\n",
        "# =============================\r\n",
        "num_epochs = 4\r\n",
        "LR = 0.01\r\n",
        "loss_function = nn.BCELoss()\r\n",
        "# ==============================\r\n",
        "\r\n",
        "\r\n",
        "net = GRUmodel_a(vocab.vectors,cell_type, input_size, output_size,embedding_dim, hidden_size, num_layers, bidirectional,dropout)\r\n",
        "optimizer = torch.optim.Adam(net.parameters(), lr=LR)   # optimize all net parameters\r\n",
        "\r\n",
        "print(f\"\\nGRU model with skip connections\")\r\n",
        "print(\"-----------------------------------------------------------------\\n\")\r\n",
        "valid_losses,train_losses = trainNet(net,train_iter,valid_iter,num_epochs,clip_param)\r\n",
        "acc, f1,recall,precision = testNet(net, test_iter)\r\n",
        "FinalDf.loc[len(FinalDf)] = [cell_type,num_layers,hidden_size,'3 layers',clip_param,dropout,acc,f1,recall,precision]\r\n",
        "print(\"\\n------------- Loss vs Epochs plot ---------------\\n\")\r\n",
        "lossVSepoch(valid_losses,train_losses)\r\n"
      ],
      "execution_count": 341,
      "outputs": [
        {
          "output_type": "stream",
          "text": [
            "\n",
            "GRU model with skip connections\n",
            "-----------------------------------------------------------------\n",
            "\n",
            "Epoch: 0|| Train accuracy: 49.98 | Valid accuracy: 48.54 %\n",
            "Epoch: 1|| Train accuracy: 49.19 | Valid accuracy: 48.54 %\n",
            "Epoch: 2|| Train accuracy: 49.94 | Valid accuracy: 51.46 %\n",
            "Epoch: 3|| Train accuracy: 49.76 | Valid accuracy: 47.80 %\n"
          ],
          "name": "stdout"
        },
        {
          "output_type": "stream",
          "text": [
            "/usr/local/lib/python3.6/dist-packages/sklearn/metrics/_classification.py:1272: UndefinedMetricWarning: Precision is ill-defined and being set to 0.0 in labels with no predicted samples. Use `zero_division` parameter to control this behavior.\n",
            "  _warn_prf(average, modifier, msg_start, len(result))\n",
            "/usr/local/lib/python3.6/dist-packages/sklearn/metrics/_classification.py:1272: UndefinedMetricWarning: Precision and F-score are ill-defined and being set to 0.0 in labels with no predicted samples. Use `zero_division` parameter to control this behavior.\n",
            "  _warn_prf(average, modifier, msg_start, len(result))\n"
          ],
          "name": "stderr"
        },
        {
          "output_type": "stream",
          "text": [
            "\n",
            "------------------- Scores ----------------------\n",
            "\n",
            "Accuracy: 48.93 %\n",
            "F1-score: 34.84 %\n",
            "Recall-score: 49.74 %\n",
            "Precision: 45.40 %\n",
            "\n",
            "------------- Loss vs Epochs plot ---------------\n",
            "\n"
          ],
          "name": "stdout"
        },
        {
          "output_type": "display_data",
          "data": {
            "image/png": "[encoded data removed]",
            "text/plain": [
              "<Figure size 576x360 with 1 Axes>"
            ]
          },
          "metadata": {
            "tags": [],
            "needs_background": "light"
          }
        }
      ]
    },
    {
      "cell_type": "code",
      "metadata": {
        "id": "6OqkSpf0W9Y_",
        "outputId": "1e4929c7-9907-4f4f-fd6f-628497fa3dec",
        "colab": {
          "base_uri": "https://localhost:8080/",
          "height": 79
        }
      },
      "source": [
        "FinalDf"
      ],
      "execution_count": 342,
      "outputs": [
        {
          "output_type": "execute_result",
          "data": {
            "text/html": [
              "<div>\n",
              "<style scoped>\n",
              "    .dataframe tbody tr th:only-of-type {\n",
              "        vertical-align: middle;\n",
              "    }\n",
              "\n",
              "    .dataframe tbody tr th {\n",
              "        vertical-align: top;\n",
              "    }\n",
              "\n",
              "    .dataframe thead tr th {\n",
              "        text-align: left;\n",
              "    }\n",
              "</style>\n",
              "<table border=\"1\" class=\"dataframe\">\n",
              "  <thead>\n",
              "    <tr>\n",
              "      <th></th>\n",
              "      <th>Cell type</th>\n",
              "      <th>Layers of stacked RNNs</th>\n",
              "      <th>Hidden size of layers</th>\n",
              "      <th>Skip connections</th>\n",
              "      <th>gradient clipping</th>\n",
              "      <th>Dropout prob</th>\n",
              "      <th>Accuracy</th>\n",
              "      <th>F1-score</th>\n",
              "      <th>Recall-score</th>\n",
              "      <th>Precision</th>\n",
              "    </tr>\n",
              "  </thead>\n",
              "  <tbody>\n",
              "    <tr>\n",
              "      <th>0</th>\n",
              "      <td>GRU</td>\n",
              "      <td>1</td>\n",
              "      <td>256</td>\n",
              "      <td>3 layers</td>\n",
              "      <td>5</td>\n",
              "      <td>0.3</td>\n",
              "      <td>0.489258</td>\n",
              "      <td>0.348416</td>\n",
              "      <td>0.497439</td>\n",
              "      <td>0.454046</td>\n",
              "    </tr>\n",
              "  </tbody>\n",
              "</table>\n",
              "</div>"
            ],
            "text/plain": [
              "  Cell type Layers of stacked RNNs  ... Recall-score Precision\n",
              "0       GRU                      1  ...     0.497439  0.454046\n",
              "\n",
              "[1 rows x 10 columns]"
            ]
          },
          "metadata": {
            "tags": []
          },
          "execution_count": 342
        }
      ]
    },
    {
      "cell_type": "code",
      "metadata": {
        "id": "CMoXMnF50gqa",
        "outputId": "308725ec-bc23-4cba-e255-781381e2ff29",
        "colab": {
          "base_uri": "https://localhost:8080/",
          "height": 751
        }
      },
      "source": [
        "# ============\r\n",
        "input_size = 100       # length is 100, given in Field\r\n",
        "output_size = 1     \r\n",
        "bidirectional = True\r\n",
        "cell_type = 'GRU'\r\n",
        "embedding_dim = 25\r\n",
        "# =============================\r\n",
        "hidden_size = 256     # number of hidden neurons\r\n",
        "num_layers =  1        # number of layers\r\n",
        "dropout = 0.3\r\n",
        "clip_param = 3\r\n",
        "# =============================\r\n",
        "num_epochs = 4\r\n",
        "LR = 0.01\r\n",
        "loss_function = nn.BCELoss()\r\n",
        "# ==============================\r\n",
        "\r\n",
        "\r\n",
        "net = GRUmodel_b(vocab.vectors,cell_type, input_size, output_size,embedding_dim, hidden_size, num_layers, bidirectional,dropout)\r\n",
        "optimizer = torch.optim.Adam(net.parameters(), lr=LR)   # optimize all net parameters\r\n",
        "\r\n",
        "print(f\"\\nGRU model with skip connections\")\r\n",
        "print(\"-----------------------------------------------------------------\\n\")\r\n",
        "valid_losses,train_losses = trainNet(net,train_iter,valid_iter,num_epochs,clip_param)\r\n",
        "acc, f1,recall,precision = testNet(net, test_iter)\r\n",
        "FinalDf.loc[len(FinalDf)] = [cell_type,num_layers,hidden_size,'2 layers',clip_param,dropout,acc,f1,recall,precision]\r\n",
        "print(\"\\n------------- Loss vs Epochs plot ---------------\\n\")\r\n",
        "lossVSepoch(valid_losses,train_losses)\r\n"
      ],
      "execution_count": 344,
      "outputs": [
        {
          "output_type": "stream",
          "text": [
            "\n",
            "GRU model with skip connections\n",
            "-----------------------------------------------------------------\n",
            "\n",
            "Epoch: 0|| Train accuracy: 52.12 | Valid accuracy: 56.05 %\n",
            "Epoch: 1|| Train accuracy: 53.51 | Valid accuracy: 58.59 %\n",
            "Epoch: 2|| Train accuracy: 55.91 | Valid accuracy: 62.84 %\n",
            "Epoch: 3|| Train accuracy: 57.16 | Valid accuracy: 51.46 %\n"
          ],
          "name": "stdout"
        },
        {
          "output_type": "stream",
          "text": [
            "/usr/local/lib/python3.6/dist-packages/sklearn/metrics/_classification.py:1272: UndefinedMetricWarning: Precision is ill-defined and being set to 0.0 in labels with no predicted samples. Use `zero_division` parameter to control this behavior.\n",
            "  _warn_prf(average, modifier, msg_start, len(result))\n",
            "/usr/local/lib/python3.6/dist-packages/sklearn/metrics/_classification.py:1272: UndefinedMetricWarning: Precision and F-score are ill-defined and being set to 0.0 in labels with no predicted samples. Use `zero_division` parameter to control this behavior.\n",
            "  _warn_prf(average, modifier, msg_start, len(result))\n"
          ],
          "name": "stderr"
        },
        {
          "output_type": "stream",
          "text": [
            "\n",
            "------------------- Scores ----------------------\n",
            "\n",
            "Accuracy: 50.88 %\n",
            "F1-score: 33.61 %\n",
            "Recall-score: 50.00 %\n",
            "Precision: 25.44 %\n",
            "\n",
            "------------- Loss vs Epochs plot ---------------\n",
            "\n"
          ],
          "name": "stdout"
        },
        {
          "output_type": "display_data",
          "data": {
            "image/png": "[encoded data removed]",
            "text/plain": [
              "<Figure size 576x360 with 1 Axes>"
            ]
          },
          "metadata": {
            "tags": [],
            "needs_background": "light"
          }
        }
      ]
    },
    {
      "cell_type": "code",
      "metadata": {
        "id": "efrR1VR6Iuxs",
        "outputId": "ac84b5a6-1c2a-45c7-9551-7c1010134e62",
        "colab": {
          "base_uri": "https://localhost:8080/",
          "height": 110
        }
      },
      "source": [
        "FinalDf"
      ],
      "execution_count": 345,
      "outputs": [
        {
          "output_type": "execute_result",
          "data": {
            "text/html": [
              "<div>\n",
              "<style scoped>\n",
              "    .dataframe tbody tr th:only-of-type {\n",
              "        vertical-align: middle;\n",
              "    }\n",
              "\n",
              "    .dataframe tbody tr th {\n",
              "        vertical-align: top;\n",
              "    }\n",
              "\n",
              "    .dataframe thead tr th {\n",
              "        text-align: left;\n",
              "    }\n",
              "</style>\n",
              "<table border=\"1\" class=\"dataframe\">\n",
              "  <thead>\n",
              "    <tr>\n",
              "      <th></th>\n",
              "      <th>Cell type</th>\n",
              "      <th>Layers of stacked RNNs</th>\n",
              "      <th>Hidden size of layers</th>\n",
              "      <th>Skip connections</th>\n",
              "      <th>gradient clipping</th>\n",
              "      <th>Dropout prob</th>\n",
              "      <th>Accuracy</th>\n",
              "      <th>F1-score</th>\n",
              "      <th>Recall-score</th>\n",
              "      <th>Precision</th>\n",
              "    </tr>\n",
              "  </thead>\n",
              "  <tbody>\n",
              "    <tr>\n",
              "      <th>0</th>\n",
              "      <td>GRU</td>\n",
              "      <td>1</td>\n",
              "      <td>256</td>\n",
              "      <td>3 layers</td>\n",
              "      <td>5</td>\n",
              "      <td>0.3</td>\n",
              "      <td>0.489258</td>\n",
              "      <td>0.348416</td>\n",
              "      <td>0.497439</td>\n",
              "      <td>0.454046</td>\n",
              "    </tr>\n",
              "    <tr>\n",
              "      <th>1</th>\n",
              "      <td>GRU</td>\n",
              "      <td>1</td>\n",
              "      <td>256</td>\n",
              "      <td>2 layers</td>\n",
              "      <td>3</td>\n",
              "      <td>0.3</td>\n",
              "      <td>0.508789</td>\n",
              "      <td>0.336084</td>\n",
              "      <td>0.500000</td>\n",
              "      <td>0.254395</td>\n",
              "    </tr>\n",
              "  </tbody>\n",
              "</table>\n",
              "</div>"
            ],
            "text/plain": [
              "  Cell type Layers of stacked RNNs  ... Recall-score Precision\n",
              "0       GRU                      1  ...     0.497439  0.454046\n",
              "1       GRU                      1  ...     0.500000  0.254395\n",
              "\n",
              "[2 rows x 10 columns]"
            ]
          },
          "metadata": {
            "tags": []
          },
          "execution_count": 345
        }
      ]
    },
    {
      "cell_type": "markdown",
      "metadata": {
        "id": "ILDXl02Rl9c0"
      },
      "source": [
        "# **Remarks**"
      ]
    },
    {
      "cell_type": "markdown",
      "metadata": {
        "id": "ICYMgJqXmDlE"
      },
      "source": [
        "\n",
        "\n",
        "*   For this model we used GloVe for the pre-process, with vector size 25. RMS was chosen as an optimizer and BCELoss as loss function, because of the binary classification.\n",
        "*   For neural network architecture:\n",
        "\n",
        "> * The first layer is an Embedding layer, which matches the input vectors to the vocabulary vectors.\n",
        "> * The second layer is a Linear hidden layer,which accepts as input size, the size of the features multiplied by the size of the GloVe vectors. It uses ReLU as activation function.\n",
        ">* The output layer is Linear with input dimension  200 and output 1 with sigmoid as activation function.\n",
        "\n",
        "\n",
        "\n",
        "\n",
        "\n",
        "\n",
        "\n"
      ]
    },
    {
      "cell_type": "markdown",
      "metadata": {
        "id": "ItgHWhmHOHNz"
      },
      "source": [
        "## References"
      ]
    },
    {
      "cell_type": "markdown",
      "metadata": {
        "id": "aFC-MQOGOKd8"
      },
      "source": [
        "\n",
        "\n",
        "*   https://towardsdatascience.com/deep-learning-for-nlp-with-pytorch-and-torchtext-4f92d69052f\n",
        "\n",
        "\n"
      ]
    }
  ]
}