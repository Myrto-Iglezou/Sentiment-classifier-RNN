{
  "nbformat": 4,
  "nbformat_minor": 0,
  "metadata": {
    "colab": {
      "name": "model4.ipynb",
      "provenance": [],
      "include_colab_link": true
    },
    "kernelspec": {
      "name": "python3",
      "display_name": "Python 3"
    },
    "accelerator": "GPU"
  },
  "cells": [
    {
      "cell_type": "markdown",
      "metadata": {
        "id": "view-in-github",
        "colab_type": "text"
      },
      "source": [
        "<a href=\"https://colab.research.google.com/github/Myrto-Iglezou/AI2-project3/blob/master/Question-1.ipynb\" target=\"_parent\"><img src=\"https://colab.research.google.com/assets/colab-badge.svg\" alt=\"Open In Colab\"/></a>"
      ]
    },
    {
      "cell_type": "markdown",
      "metadata": {
        "id": "eOoUR08ESUJj"
      },
      "source": [
        "## YΣ19 Artificial Intelligence II\n",
        "# Homework 3\n",
        "\n",
        "### Iglezou Myrto - 111520170038"
      ]
    },
    {
      "cell_type": "markdown",
      "metadata": {
        "id": "FF6rJUV7SUJk"
      },
      "source": [
        "# Question 1"
      ]
    },
    {
      "cell_type": "code",
      "metadata": {
        "id": "vqFzJfkjSUJk"
      },
      "source": [
        "import pandas as pd \n",
        "from pandas import DataFrame, read_csv"
      ],
      "execution_count": 2,
      "outputs": []
    },
    {
      "cell_type": "markdown",
      "metadata": {
        "id": "eg6ZVC_nyPH0"
      },
      "source": [
        "Download the dataset."
      ]
    },
    {
      "cell_type": "code",
      "metadata": {
        "colab": {
          "base_uri": "https://localhost:8080/",
          "height": 202
        },
        "id": "wsFlMttISUJk",
        "outputId": "fcca164c-fd4a-42d2-8a59-0b4355efc70f"
      },
      "source": [
        "import gdown\n",
        "url = 'https://drive.google.com/file/d/1dTIWNpjlrnTQBIQtaGOh0jCRYZiAQO79/view?usp=sharing'\n",
        "path = 'https://drive.google.com/uc?export=download&id='+url.split('/')[-2]\n",
        "output = \"twitterData.csv\"\n",
        "gdown.download(path, output, quiet=True)\n",
        "twitterData = pd.read_csv(\"/content/twitterData.csv\",nrows=20000)\n",
        "df = pd.DataFrame(data=twitterData)\n",
        "df.head(5)"
      ],
      "execution_count": 3,
      "outputs": [
        {
          "output_type": "execute_result",
          "data": {
            "text/html": [
              "<div>\n",
              "<style scoped>\n",
              "    .dataframe tbody tr th:only-of-type {\n",
              "        vertical-align: middle;\n",
              "    }\n",
              "\n",
              "    .dataframe tbody tr th {\n",
              "        vertical-align: top;\n",
              "    }\n",
              "\n",
              "    .dataframe thead th {\n",
              "        text-align: right;\n",
              "    }\n",
              "</style>\n",
              "<table border=\"1\" class=\"dataframe\">\n",
              "  <thead>\n",
              "    <tr style=\"text-align: right;\">\n",
              "      <th></th>\n",
              "      <th>Unnamed: 0</th>\n",
              "      <th>target</th>\n",
              "      <th>id</th>\n",
              "      <th>date</th>\n",
              "      <th>flag</th>\n",
              "      <th>user</th>\n",
              "      <th>text</th>\n",
              "    </tr>\n",
              "  </thead>\n",
              "  <tbody>\n",
              "    <tr>\n",
              "      <th>0</th>\n",
              "      <td>680949</td>\n",
              "      <td>0</td>\n",
              "      <td>2249621587</td>\n",
              "      <td>Fri Jun 19 22:41:08 PDT 2009</td>\n",
              "      <td>NO_QUERY</td>\n",
              "      <td>sukumarpant</td>\n",
              "      <td>#brokenpromises...</td>\n",
              "    </tr>\n",
              "    <tr>\n",
              "      <th>1</th>\n",
              "      <td>406741</td>\n",
              "      <td>0</td>\n",
              "      <td>2059003515</td>\n",
              "      <td>Sat Jun 06 16:03:21 PDT 2009</td>\n",
              "      <td>NO_QUERY</td>\n",
              "      <td>MTMSparrow</td>\n",
              "      <td>David Carradine  so sad. Thai's law not sure i...</td>\n",
              "    </tr>\n",
              "    <tr>\n",
              "      <th>2</th>\n",
              "      <td>1337108</td>\n",
              "      <td>4</td>\n",
              "      <td>2017466467</td>\n",
              "      <td>Wed Jun 03 08:26:14 PDT 2009</td>\n",
              "      <td>NO_QUERY</td>\n",
              "      <td>itsmemcee</td>\n",
              "      <td>A @ 415 B @ 425. Tell your bro i say congrats!</td>\n",
              "    </tr>\n",
              "    <tr>\n",
              "      <th>3</th>\n",
              "      <td>1560887</td>\n",
              "      <td>4</td>\n",
              "      <td>2186457254</td>\n",
              "      <td>Mon Jun 15 18:52:04 PDT 2009</td>\n",
              "      <td>NO_QUERY</td>\n",
              "      <td>jdfreivald</td>\n",
              "      <td>@littlefluffycat  Indeed.</td>\n",
              "    </tr>\n",
              "    <tr>\n",
              "      <th>4</th>\n",
              "      <td>1466295</td>\n",
              "      <td>4</td>\n",
              "      <td>2064458395</td>\n",
              "      <td>Sun Jun 07 06:19:20 PDT 2009</td>\n",
              "      <td>NO_QUERY</td>\n",
              "      <td>CrazyHan</td>\n",
              "      <td>Completed Race 4 Life in 58mins with girlies f...</td>\n",
              "    </tr>\n",
              "  </tbody>\n",
              "</table>\n",
              "</div>"
            ],
            "text/plain": [
              "   Unnamed: 0  ...                                               text\n",
              "0      680949  ...                                #brokenpromises... \n",
              "1      406741  ...  David Carradine  so sad. Thai's law not sure i...\n",
              "2     1337108  ...    A @ 415 B @ 425. Tell your bro i say congrats! \n",
              "3     1560887  ...                          @littlefluffycat  Indeed.\n",
              "4     1466295  ...  Completed Race 4 Life in 58mins with girlies f...\n",
              "\n",
              "[5 rows x 7 columns]"
            ]
          },
          "metadata": {
            "tags": []
          },
          "execution_count": 3
        }
      ]
    },
    {
      "cell_type": "markdown",
      "metadata": {
        "id": "gFooeAwdyEvP"
      },
      "source": [
        "Creating a new dataframe with only two columns, target and text.\n"
      ]
    },
    {
      "cell_type": "code",
      "metadata": {
        "colab": {
          "base_uri": "https://localhost:8080/",
          "height": 202
        },
        "id": "oiQYE49Z8lAC",
        "outputId": "c7d51489-0763-4469-9ec6-740f2e9317ec"
      },
      "source": [
        "df.drop(df.columns.difference(['text','target']), 1, inplace=True)\n",
        "df['target'].replace({4: 1}, inplace = True)\n",
        "df.head(5)"
      ],
      "execution_count": 4,
      "outputs": [
        {
          "output_type": "execute_result",
          "data": {
            "text/html": [
              "<div>\n",
              "<style scoped>\n",
              "    .dataframe tbody tr th:only-of-type {\n",
              "        vertical-align: middle;\n",
              "    }\n",
              "\n",
              "    .dataframe tbody tr th {\n",
              "        vertical-align: top;\n",
              "    }\n",
              "\n",
              "    .dataframe thead th {\n",
              "        text-align: right;\n",
              "    }\n",
              "</style>\n",
              "<table border=\"1\" class=\"dataframe\">\n",
              "  <thead>\n",
              "    <tr style=\"text-align: right;\">\n",
              "      <th></th>\n",
              "      <th>target</th>\n",
              "      <th>text</th>\n",
              "    </tr>\n",
              "  </thead>\n",
              "  <tbody>\n",
              "    <tr>\n",
              "      <th>0</th>\n",
              "      <td>0</td>\n",
              "      <td>#brokenpromises...</td>\n",
              "    </tr>\n",
              "    <tr>\n",
              "      <th>1</th>\n",
              "      <td>0</td>\n",
              "      <td>David Carradine  so sad. Thai's law not sure i...</td>\n",
              "    </tr>\n",
              "    <tr>\n",
              "      <th>2</th>\n",
              "      <td>1</td>\n",
              "      <td>A @ 415 B @ 425. Tell your bro i say congrats!</td>\n",
              "    </tr>\n",
              "    <tr>\n",
              "      <th>3</th>\n",
              "      <td>1</td>\n",
              "      <td>@littlefluffycat  Indeed.</td>\n",
              "    </tr>\n",
              "    <tr>\n",
              "      <th>4</th>\n",
              "      <td>1</td>\n",
              "      <td>Completed Race 4 Life in 58mins with girlies f...</td>\n",
              "    </tr>\n",
              "  </tbody>\n",
              "</table>\n",
              "</div>"
            ],
            "text/plain": [
              "   target                                               text\n",
              "0       0                                #brokenpromises... \n",
              "1       0  David Carradine  so sad. Thai's law not sure i...\n",
              "2       1    A @ 415 B @ 425. Tell your bro i say congrats! \n",
              "3       1                          @littlefluffycat  Indeed.\n",
              "4       1  Completed Race 4 Life in 58mins with girlies f..."
            ]
          },
          "metadata": {
            "tags": []
          },
          "execution_count": 4
        }
      ]
    },
    {
      "cell_type": "markdown",
      "metadata": {
        "id": "t0Zrsit-SUJm"
      },
      "source": [
        "## Data pre-processing"
      ]
    },
    {
      "cell_type": "markdown",
      "metadata": {
        "id": "pKM0_pS5SUJm"
      },
      "source": [
        "### Removing the scpecial characters"
      ]
    },
    {
      "cell_type": "code",
      "metadata": {
        "id": "nzcEiq8tSUJm"
      },
      "source": [
        "import re\n",
        "\n",
        "def RemoveSpecialCharacters(x):\n",
        "    x = re.sub(r'[^\\w]+', \" \", x)\n",
        "    return x"
      ],
      "execution_count": 5,
      "outputs": []
    },
    {
      "cell_type": "code",
      "metadata": {
        "id": "gzJ4Kd61SUJm"
      },
      "source": [
        "df['text'] = df['text'].apply(lambda x: RemoveSpecialCharacters(x) )"
      ],
      "execution_count": 6,
      "outputs": []
    },
    {
      "cell_type": "markdown",
      "metadata": {
        "id": "5P15gBnWSUJm"
      },
      "source": [
        "### Lemmatize"
      ]
    },
    {
      "cell_type": "code",
      "metadata": {
        "id": "zk9vMwm0SUJm",
        "colab": {
          "base_uri": "https://localhost:8080/"
        },
        "outputId": "f2b73c14-806a-48ab-b4ba-b0bb0f97de8e"
      },
      "source": [
        "import nltk\n",
        "nltk.download('wordnet')\n",
        "from nltk.stem import WordNetLemmatizer\n",
        "\n",
        "df['text'] = df['text'].apply(lambda x: WordNetLemmatizer().lemmatize(x))"
      ],
      "execution_count": 7,
      "outputs": [
        {
          "output_type": "stream",
          "text": [
            "[nltk_data] Downloading package wordnet to /root/nltk_data...\n",
            "[nltk_data]   Unzipping corpora/wordnet.zip.\n"
          ],
          "name": "stdout"
        }
      ]
    },
    {
      "cell_type": "markdown",
      "metadata": {
        "id": "vTzW08GKSUJm"
      },
      "source": [
        "### Removing the upercase"
      ]
    },
    {
      "cell_type": "code",
      "metadata": {
        "id": "DrBPOkWcSUJm"
      },
      "source": [
        "df['text'] = df['text'].apply(lambda x: x.lower())"
      ],
      "execution_count": 8,
      "outputs": []
    },
    {
      "cell_type": "code",
      "metadata": {
        "colab": {
          "base_uri": "https://localhost:8080/",
          "height": 202
        },
        "id": "Sdae8kuml0mh",
        "outputId": "a66e5fd7-a6f4-45b2-f79b-b72b7c1a2b52"
      },
      "source": [
        "df.head(5)"
      ],
      "execution_count": 9,
      "outputs": [
        {
          "output_type": "execute_result",
          "data": {
            "text/html": [
              "<div>\n",
              "<style scoped>\n",
              "    .dataframe tbody tr th:only-of-type {\n",
              "        vertical-align: middle;\n",
              "    }\n",
              "\n",
              "    .dataframe tbody tr th {\n",
              "        vertical-align: top;\n",
              "    }\n",
              "\n",
              "    .dataframe thead th {\n",
              "        text-align: right;\n",
              "    }\n",
              "</style>\n",
              "<table border=\"1\" class=\"dataframe\">\n",
              "  <thead>\n",
              "    <tr style=\"text-align: right;\">\n",
              "      <th></th>\n",
              "      <th>target</th>\n",
              "      <th>text</th>\n",
              "    </tr>\n",
              "  </thead>\n",
              "  <tbody>\n",
              "    <tr>\n",
              "      <th>0</th>\n",
              "      <td>0</td>\n",
              "      <td>brokenpromises</td>\n",
              "    </tr>\n",
              "    <tr>\n",
              "      <th>1</th>\n",
              "      <td>0</td>\n",
              "      <td>david carradine so sad thai s law not sure if ...</td>\n",
              "    </tr>\n",
              "    <tr>\n",
              "      <th>2</th>\n",
              "      <td>1</td>\n",
              "      <td>a 415 b 425 tell your bro i say congrats</td>\n",
              "    </tr>\n",
              "    <tr>\n",
              "      <th>3</th>\n",
              "      <td>1</td>\n",
              "      <td>littlefluffycat indeed</td>\n",
              "    </tr>\n",
              "    <tr>\n",
              "      <th>4</th>\n",
              "      <td>1</td>\n",
              "      <td>completed race 4 life in 58mins with girlies f...</td>\n",
              "    </tr>\n",
              "  </tbody>\n",
              "</table>\n",
              "</div>"
            ],
            "text/plain": [
              "   target                                               text\n",
              "0       0                                    brokenpromises \n",
              "1       0  david carradine so sad thai s law not sure if ...\n",
              "2       1          a 415 b 425 tell your bro i say congrats \n",
              "3       1                            littlefluffycat indeed \n",
              "4       1  completed race 4 life in 58mins with girlies f..."
            ]
          },
          "metadata": {
            "tags": []
          },
          "execution_count": 9
        }
      ]
    },
    {
      "cell_type": "markdown",
      "metadata": {
        "id": "jnmaBb9USUJm"
      },
      "source": [
        "## Word embedding - GloVe\n",
        "GloVe is an unsupervised learning algorithm for obtaining vector representations for words. Training is performed on aggregated global word-word co-occurrence statistics from a corpus, and the resulting representations showcase interesting linear substructures of the word vector space. "
      ]
    },
    {
      "cell_type": "code",
      "metadata": {
        "id": "Jmlwwy9ynWQ9",
        "colab": {
          "base_uri": "https://localhost:8080/"
        },
        "outputId": "840d90de-835a-447d-98a6-1410f41c29cc"
      },
      "source": [
        "from torchtext.vocab import GloVe\n",
        "glove = GloVe(name='twitter.27B', dim=25)"
      ],
      "execution_count": 10,
      "outputs": [
        {
          "output_type": "stream",
          "text": [
            ".vector_cache/glove.twitter.27B.zip: 1.52GB [12:03, 2.10MB/s]                            \n",
            "100%|█████████▉| 1190227/1193514 [00:35<00:00, 33874.78it/s]"
          ],
          "name": "stderr"
        }
      ]
    },
    {
      "cell_type": "code",
      "metadata": {
        "id": "5l1kQXuOjXtZ"
      },
      "source": [
        "from torchtext.data import Field\n",
        "text_field = Field(sequential=True,tokenize='spacy',fix_length=100)\n",
        "\n",
        "label_field = Field(sequential=False, use_vocab=False)\n",
        "preprocessed_text = df['text'].apply(lambda x: text_field.preprocess(x)) #apply preprocess manually\n",
        "text_field.build_vocab(preprocessed_text, vectors=glove)  # load embedding with 25d\n",
        "vocab = text_field.vocab  # get the vocab instance"
      ],
      "execution_count": 11,
      "outputs": []
    },
    {
      "cell_type": "markdown",
      "metadata": {
        "id": "GTdO_4EFmZIS"
      },
      "source": [
        "### Create the datasets\n",
        "\n",
        "We have train, validation and test datasets that contain text and label information. Train has 80%, validation 10% and test 10%."
      ]
    },
    {
      "cell_type": "code",
      "metadata": {
        "id": "Vev1gKGRxQ-o"
      },
      "source": [
        "from torchtext.data import Dataset, Example\n",
        "fields = (('target', label_field),('text', text_field))\n",
        "train_dataset, valid_dataset, test_dataset= Dataset(examples=[Example.fromlist(list(r), fields)\n",
        "                                               for i, r in df.iterrows()],\n",
        "                                               fields = fields).split(split_ratio = [0.8, 0.1, 0.1])"
      ],
      "execution_count": 12,
      "outputs": []
    },
    {
      "cell_type": "markdown",
      "metadata": {
        "id": "F9sqYkzgSUJm"
      },
      "source": [
        "## Batching sentences together \n",
        "Use *BucketIterator* to create the batches for the 3 datasets with batch size 64."
      ]
    },
    {
      "cell_type": "code",
      "metadata": {
        "id": "MugWDpHxSUJm"
      },
      "source": [
        "from torchtext.data import BucketIterator\n",
        "train_iter, valid_iter, test_iter = BucketIterator.splits(datasets=(train_dataset, valid_dataset, test_dataset),\n",
        "                                                          batch_sizes=(64,64,64), sort=False)"
      ],
      "execution_count": 13,
      "outputs": []
    },
    {
      "cell_type": "markdown",
      "metadata": {
        "id": "otwbCFB8ES6W"
      },
      "source": [
        "## Training on GPU"
      ]
    },
    {
      "cell_type": "code",
      "metadata": {
        "id": "txRB3MpqETMj",
        "outputId": "05dba9c8-fc22-4c4b-cea5-f5234882248f",
        "colab": {
          "base_uri": "https://localhost:8080/"
        }
      },
      "source": [
        "import torch\r\n",
        "# First checking if GPU is available\r\n",
        "train_on_gpu=torch.cuda.is_available()\r\n",
        "\r\n",
        "if(train_on_gpu):\r\n",
        "    print('Training on GPU.')\r\n",
        "else:\r\n",
        "    print('No GPU available, training on CPU.')"
      ],
      "execution_count": 14,
      "outputs": [
        {
          "output_type": "stream",
          "text": [
            "No GPU available, training on CPU.\n"
          ],
          "name": "stdout"
        }
      ]
    },
    {
      "cell_type": "markdown",
      "metadata": {
        "id": "jzGmJL_PSUJm"
      },
      "source": [
        "## Architecture of RNN"
      ]
    },
    {
      "cell_type": "code",
      "metadata": {
        "id": "KwEPmlI8yjK-"
      },
      "source": [
        "import torch.nn as nn\n",
        "import numpy as np\n",
        "from numpy import zeros"
      ],
      "execution_count": 15,
      "outputs": []
    },
    {
      "cell_type": "code",
      "metadata": {
        "id": "54r961vkSUJm"
      },
      "source": [
        "class RNNclassifier(nn.Module):\n",
        "    \"\"\"\n",
        "    Wrapper module for RNN, LSTM, GRU cells using pytorch api. \n",
        "    The output is fed to a FFN for classification.\n",
        "    \"\"\"\n",
        "    def __init__(self,embedding, cell_type, input_size, output_size,embedding_dim = 25, hidden_size=100, num_layers=1, bidirectional=False):\n",
        "        super(RNNclassifier, self).__init__()\n",
        "        \n",
        "        cells = {\n",
        "        \"RNN\" : nn.RNN,\n",
        "        \"LSTM\"    : nn.LSTM,\n",
        "        \"GRU\"     : nn.GRU\n",
        "    }\n",
        "        # Initializations\n",
        "        self.embedding = embedding\n",
        "        # dropout layer\n",
        "        self.dropout = nn.Dropout(0.2)\n",
        "        self.cell_type = cell_type\n",
        "        self.input_size, self.hidden_size, self.num_layers, self.output_size = input_size, hidden_size, num_layers, output_size\n",
        "        self.bidirectional = bidirectional\n",
        "        self.sigmoid = nn.Sigmoid()\n",
        "        self.rnn = cells[cell_type](         # Pick the specific model\n",
        "            input_size=embedding_dim,           # Number of features for each time step\n",
        "            hidden_size=hidden_size,         # Rnn hidden embedding representation\n",
        "            num_layers=num_layers,           # Number of layers (if >1 it is a stacked RNN)\n",
        "            dropout=0.2,\n",
        "            bidirectional=bidirectional, # If true it is a \n",
        "            batch_first=True,       # input & output will have batch size as 1st dimension. e.g. (batch, time_step, input_size)\n",
        "        )\n",
        "        \n",
        "        if bidirectional: # we'll have 2 more layers as the output to the final layer\n",
        "            self.out = nn.Linear(hidden_size * 2, output_size)\n",
        "        else:\n",
        "            self.out = nn.Linear(hidden_size, output_size)\n",
        "            \n",
        "    def forward(self, x, prints=False):\n",
        "\n",
        "        x = self.embedding[x]\n",
        "        # x = self.dropout(x)\n",
        "\n",
        "        if prints: \n",
        "            print('images shape:', x.shape)\n",
        "\n",
        "\n",
        "        # LSTM cells reutrn also the last cell states\n",
        "        if self.cell_type == 'LSTM':\n",
        "            r_out, (last_hidden_state, last_cell_state) = self.rnn(x.detach()) \n",
        "        else:\n",
        "            r_out, last_hidden_state = self.rnn(x.detach())\n",
        "      \n",
        "        r_out = r_out[:, -1, :]\n",
        "\n",
        "        out = self.out(r_out)\n",
        "\n",
        "        out = self.dropout(out)\n",
        "\n",
        "        return self.sigmoid(out)"
      ],
      "execution_count": 24,
      "outputs": []
    },
    {
      "cell_type": "code",
      "metadata": {
        "id": "UP2XqfdmSUJm"
      },
      "source": [
        "def train(model,X,y,optimizer,loss_fn):\n",
        "\n",
        "    if train_on_gpu:\n",
        "      X, y = X.cuda(), y.cuda()\n",
        "\n",
        "# step 1. Zero the gradients\n",
        "    optimizer.zero_grad()\n",
        "# step 2. Compute the output\n",
        "    y_pred = model(X)\n",
        "\n",
        "    if train_on_gpu:\n",
        "      y_pred = y_pred.squeeze().cuda()\n",
        "    else:\n",
        "      y_pred = y_pred.squeeze()\n",
        "# step 3. Compute the loss\n",
        "    loss = loss_fn(y_pred, y)\n",
        "# step 4. use loss to produce gradients\n",
        "    loss.backward()\n",
        "# step 5. use optimizer to take gradient step\n",
        "    optimizer.step()\n",
        "\n",
        "    return loss.item(),y_pred"
      ],
      "execution_count": 17,
      "outputs": []
    },
    {
      "cell_type": "code",
      "metadata": {
        "id": "_IePE6WPRvPL"
      },
      "source": [
        "def validate(classifier,X,y,loss_fn):\n",
        "  y_pred =  classifier(X)\n",
        "\n",
        "  if train_on_gpu:\n",
        "    y_pred = y_pred.squeeze().cuda()\n",
        "  else:\n",
        "    y_pred = y_pred.squeeze()\n",
        "\n",
        "  loss = loss_fn(y_pred, y)\n",
        "\n",
        "  return loss.item(),y_pred\n"
      ],
      "execution_count": 18,
      "outputs": []
    },
    {
      "cell_type": "code",
      "metadata": {
        "id": "Mw4BimL-SUJm"
      },
      "source": [
        "def predict(model,X):\n",
        "    outputs = model(X)\n",
        "    return torch.round(outputs)"
      ],
      "execution_count": 19,
      "outputs": []
    },
    {
      "cell_type": "markdown",
      "metadata": {
        "id": "i97djlJBSUJn"
      },
      "source": [
        "## Training\n",
        "\n"
      ]
    },
    {
      "cell_type": "code",
      "metadata": {
        "id": "wVbtKGSCE-RU",
        "colab": {
          "base_uri": "https://localhost:8080/"
        },
        "outputId": "de67b41b-1a9b-4779-f299-18feb4dc4f62"
      },
      "source": [
        "# ====== STATICS ======\r\n",
        "input_size = 100       # length is 100, given in Field\r\n",
        "hidden_size = 200     # number of hidden neurons\r\n",
        "num_layers = 2        # number of layers\r\n",
        "output_size = 1     \r\n",
        "bidirectional = True\r\n",
        "cell_type = 'GRU'\r\n",
        "embedding_dim = 25\r\n",
        "# =====================\r\n",
        "\r\n",
        "net = RNNclassifier(vocab.vectors,cell_type, input_size, output_size,embedding_dim, hidden_size, num_layers, bidirectional)\r\n",
        "print(net)"
      ],
      "execution_count": 26,
      "outputs": [
        {
          "output_type": "stream",
          "text": [
            "RNNclassifier(\n",
            "  (dropout): Dropout(p=0.2, inplace=False)\n",
            "  (sigmoid): Sigmoid()\n",
            "  (rnn): GRU(25, 200, num_layers=2, batch_first=True, dropout=0.2, bidirectional=True)\n",
            "  (out): Linear(in_features=400, out_features=1, bias=True)\n",
            ")\n"
          ],
          "name": "stdout"
        }
      ]
    },
    {
      "cell_type": "code",
      "metadata": {
        "id": "dDYBkHrgFfyJ"
      },
      "source": [
        "EPOCH = 10\r\n",
        "LR = 0.01\r\n",
        "\r\n",
        "optimizer = torch.optim.Adam(net.parameters(), lr=LR)   # optimize all net parameters\r\n",
        "loss_function = nn.BCELoss() "
      ],
      "execution_count": 27,
      "outputs": []
    },
    {
      "cell_type": "code",
      "metadata": {
        "id": "Z5GTda2hWbBY"
      },
      "source": [
        "train_on_gpu = False"
      ],
      "execution_count": 28,
      "outputs": []
    },
    {
      "cell_type": "code",
      "metadata": {
        "id": "QIgk8Zm_Gai4",
        "colab": {
          "base_uri": "https://localhost:8080/",
          "height": 554
        },
        "outputId": "0a18cdce-429d-4c80-bc4b-b2066a927ad7"
      },
      "source": [
        "from sklearn.metrics import accuracy_score, f1_score,recall_score,precision_score\r\n",
        "\r\n",
        "# move model to GPU, if available\r\n",
        "if train_on_gpu:\r\n",
        "    net.cuda()\r\n",
        "\r\n",
        "# Start train mode\r\n",
        "\r\n",
        "# Accumulate losses\r\n",
        "train_losses = []\r\n",
        "train_accuracy = []\r\n",
        "steps = []\r\n",
        "valid_accuracy = []\r\n",
        "\r\n",
        "# Evaluate the progress every # batches\r\n",
        "\r\n",
        "# Iterate over the whole dataset for one epoch\r\n",
        "\r\n",
        "for epoch in range(EPOCH):\r\n",
        "    net.train() \r\n",
        "    for batch in train_iter:\r\n",
        "\r\n",
        "      loss, pred = train(net, batch.text.T, batch.target.float(), optimizer, loss_function)\r\n",
        "      train_losses.append(loss)\r\n",
        "      \r\n",
        "      pred = torch.round(pred)\r\n",
        "      pred = pred.detach().numpy()\r\n",
        "      test = batch.target.float()\r\n",
        "      test = test.numpy()\r\n",
        "\r\n",
        "      train_accuracy.append(accuracy_score(test, pred))\r\n",
        "\r\n",
        "      # print(f'Epoch: {epoch}|  Train CE loss: {loss:4f} | Test accuracy: {100 * train_accuracy[-1]:.2f} %')\r\n",
        "      \r\n",
        "    #Clip gradients\r\n",
        "      for param in net.parameters():\r\n",
        "          if param.grad is None:\r\n",
        "              continue\r\n",
        "          grad_val = torch.clamp(param.grad, -5, 5)\r\n",
        "      # -----------------------------------\r\n",
        "    \r\n",
        "    net.eval()\r\n",
        "    print(\"\\n--------------------------------------------------------------------\\n\")\r\n",
        "    for step,batch in enumerate(valid_iter):\r\n",
        "        with torch.no_grad():\r\n",
        "          # Faster inference\r\n",
        "            if(train_on_gpu):\r\n",
        "                  inputs, labels = batch.text.cuda(), batch.target.float().cuda()\r\n",
        "            else:\r\n",
        "              inputs, labels = batch.text, batch.target.float()\r\n",
        "            \r\n",
        "            loss, pred = validate(net, inputs.T, labels,loss_function)\r\n",
        "\r\n",
        "            pred = torch.round(pred)\r\n",
        "            pred = pred.detach().numpy()\r\n",
        "            valid = labels\r\n",
        "            valid = valid.numpy()\r\n",
        "\r\n",
        "            valid_accuracy.append(accuracy_score(valid, pred))\r\n",
        "            # print(f'Epoch: {epoch}| Validation CE loss: {loss:4f} | Test accuracy: {100 * valid_accuracy[-1]:.2f} %')\r\n",
        "\r\n",
        "    print(f'Epoch: {epoch}| | Train accuracy: {100 * np.mean(train_accuracy):.2f} %')\r\n",
        "    print(f'Epoch: {epoch}| | Valid accuracy: {100 * np.mean(valid_accuracy):.2f} %')\r\n",
        "   \r\n",
        "\r\n",
        "# # Plot results\r\n",
        "# plt.figure(figsize=(12,5))\r\n",
        "# plt.plot(train_accuracy, label='Train acc.')\r\n",
        "# plt.plot(steps, valid_accuracy, label='Test acc.', marker='o')\r\n",
        "# plt.xlabel('# of batch steps', fontsize=12)\r\n",
        "# plt.ylabel('Performance', fontsize=12)\r\n",
        "# plt.legend()\r\n",
        "# plt.show()"
      ],
      "execution_count": 29,
      "outputs": [
        {
          "output_type": "stream",
          "text": [
            "\n",
            "--------------------------------------------------------------------\n",
            "\n",
            "Epoch: 0| | Train accuracy: 50.74 %\n",
            "Epoch: 0| | Valid accuracy: 57.37 %\n",
            "\n",
            "--------------------------------------------------------------------\n",
            "\n",
            "Epoch: 1| | Train accuracy: 52.06 %\n",
            "Epoch: 1| | Valid accuracy: 57.10 %\n"
          ],
          "name": "stdout"
        },
        {
          "output_type": "error",
          "ename": "KeyboardInterrupt",
          "evalue": "ignored",
          "traceback": [
            "\u001b[0;31m---------------------------------------------------------------------------\u001b[0m",
            "\u001b[0;31mKeyboardInterrupt\u001b[0m                         Traceback (most recent call last)",
            "\u001b[0;32m<ipython-input-29-43c4f8c89e5b>\u001b[0m in \u001b[0;36m<module>\u001b[0;34m()\u001b[0m\n\u001b[1;32m     21\u001b[0m     \u001b[0;32mfor\u001b[0m \u001b[0mbatch\u001b[0m \u001b[0;32min\u001b[0m \u001b[0mtrain_iter\u001b[0m\u001b[0;34m:\u001b[0m\u001b[0;34m\u001b[0m\u001b[0;34m\u001b[0m\u001b[0m\n\u001b[1;32m     22\u001b[0m \u001b[0;34m\u001b[0m\u001b[0m\n\u001b[0;32m---> 23\u001b[0;31m       \u001b[0mloss\u001b[0m\u001b[0;34m,\u001b[0m \u001b[0mpred\u001b[0m \u001b[0;34m=\u001b[0m \u001b[0mtrain\u001b[0m\u001b[0;34m(\u001b[0m\u001b[0mnet\u001b[0m\u001b[0;34m,\u001b[0m \u001b[0mbatch\u001b[0m\u001b[0;34m.\u001b[0m\u001b[0mtext\u001b[0m\u001b[0;34m.\u001b[0m\u001b[0mT\u001b[0m\u001b[0;34m,\u001b[0m \u001b[0mbatch\u001b[0m\u001b[0;34m.\u001b[0m\u001b[0mtarget\u001b[0m\u001b[0;34m.\u001b[0m\u001b[0mfloat\u001b[0m\u001b[0;34m(\u001b[0m\u001b[0;34m)\u001b[0m\u001b[0;34m,\u001b[0m \u001b[0moptimizer\u001b[0m\u001b[0;34m,\u001b[0m \u001b[0mloss_function\u001b[0m\u001b[0;34m)\u001b[0m\u001b[0;34m\u001b[0m\u001b[0;34m\u001b[0m\u001b[0m\n\u001b[0m\u001b[1;32m     24\u001b[0m       \u001b[0mtrain_losses\u001b[0m\u001b[0;34m.\u001b[0m\u001b[0mappend\u001b[0m\u001b[0;34m(\u001b[0m\u001b[0mloss\u001b[0m\u001b[0;34m)\u001b[0m\u001b[0;34m\u001b[0m\u001b[0;34m\u001b[0m\u001b[0m\n\u001b[1;32m     25\u001b[0m \u001b[0;34m\u001b[0m\u001b[0m\n",
            "\u001b[0;32m<ipython-input-17-ad4038db5d07>\u001b[0m in \u001b[0;36mtrain\u001b[0;34m(model, X, y, optimizer, loss_fn)\u001b[0m\n\u001b[1;32m     16\u001b[0m     \u001b[0mloss\u001b[0m \u001b[0;34m=\u001b[0m \u001b[0mloss_fn\u001b[0m\u001b[0;34m(\u001b[0m\u001b[0my_pred\u001b[0m\u001b[0;34m,\u001b[0m \u001b[0my\u001b[0m\u001b[0;34m)\u001b[0m\u001b[0;34m\u001b[0m\u001b[0;34m\u001b[0m\u001b[0m\n\u001b[1;32m     17\u001b[0m \u001b[0;31m# step 4. use loss to produce gradients\u001b[0m\u001b[0;34m\u001b[0m\u001b[0;34m\u001b[0m\u001b[0;34m\u001b[0m\u001b[0m\n\u001b[0;32m---> 18\u001b[0;31m     \u001b[0mloss\u001b[0m\u001b[0;34m.\u001b[0m\u001b[0mbackward\u001b[0m\u001b[0;34m(\u001b[0m\u001b[0;34m)\u001b[0m\u001b[0;34m\u001b[0m\u001b[0;34m\u001b[0m\u001b[0m\n\u001b[0m\u001b[1;32m     19\u001b[0m \u001b[0;31m# step 5. use optimizer to take gradient step\u001b[0m\u001b[0;34m\u001b[0m\u001b[0;34m\u001b[0m\u001b[0;34m\u001b[0m\u001b[0m\n\u001b[1;32m     20\u001b[0m     \u001b[0moptimizer\u001b[0m\u001b[0;34m.\u001b[0m\u001b[0mstep\u001b[0m\u001b[0;34m(\u001b[0m\u001b[0;34m)\u001b[0m\u001b[0;34m\u001b[0m\u001b[0;34m\u001b[0m\u001b[0m\n",
            "\u001b[0;32m/usr/local/lib/python3.6/dist-packages/torch/tensor.py\u001b[0m in \u001b[0;36mbackward\u001b[0;34m(self, gradient, retain_graph, create_graph)\u001b[0m\n\u001b[1;32m    219\u001b[0m                 \u001b[0mretain_graph\u001b[0m\u001b[0;34m=\u001b[0m\u001b[0mretain_graph\u001b[0m\u001b[0;34m,\u001b[0m\u001b[0;34m\u001b[0m\u001b[0;34m\u001b[0m\u001b[0m\n\u001b[1;32m    220\u001b[0m                 create_graph=create_graph)\n\u001b[0;32m--> 221\u001b[0;31m         \u001b[0mtorch\u001b[0m\u001b[0;34m.\u001b[0m\u001b[0mautograd\u001b[0m\u001b[0;34m.\u001b[0m\u001b[0mbackward\u001b[0m\u001b[0;34m(\u001b[0m\u001b[0mself\u001b[0m\u001b[0;34m,\u001b[0m \u001b[0mgradient\u001b[0m\u001b[0;34m,\u001b[0m \u001b[0mretain_graph\u001b[0m\u001b[0;34m,\u001b[0m \u001b[0mcreate_graph\u001b[0m\u001b[0;34m)\u001b[0m\u001b[0;34m\u001b[0m\u001b[0;34m\u001b[0m\u001b[0m\n\u001b[0m\u001b[1;32m    222\u001b[0m \u001b[0;34m\u001b[0m\u001b[0m\n\u001b[1;32m    223\u001b[0m     \u001b[0;32mdef\u001b[0m \u001b[0mregister_hook\u001b[0m\u001b[0;34m(\u001b[0m\u001b[0mself\u001b[0m\u001b[0;34m,\u001b[0m \u001b[0mhook\u001b[0m\u001b[0;34m)\u001b[0m\u001b[0;34m:\u001b[0m\u001b[0;34m\u001b[0m\u001b[0;34m\u001b[0m\u001b[0m\n",
            "\u001b[0;32m/usr/local/lib/python3.6/dist-packages/torch/autograd/__init__.py\u001b[0m in \u001b[0;36mbackward\u001b[0;34m(tensors, grad_tensors, retain_graph, create_graph, grad_variables)\u001b[0m\n\u001b[1;32m    130\u001b[0m     Variable._execution_engine.run_backward(\n\u001b[1;32m    131\u001b[0m         \u001b[0mtensors\u001b[0m\u001b[0;34m,\u001b[0m \u001b[0mgrad_tensors_\u001b[0m\u001b[0;34m,\u001b[0m \u001b[0mretain_graph\u001b[0m\u001b[0;34m,\u001b[0m \u001b[0mcreate_graph\u001b[0m\u001b[0;34m,\u001b[0m\u001b[0;34m\u001b[0m\u001b[0;34m\u001b[0m\u001b[0m\n\u001b[0;32m--> 132\u001b[0;31m         allow_unreachable=True)  # allow_unreachable flag\n\u001b[0m\u001b[1;32m    133\u001b[0m \u001b[0;34m\u001b[0m\u001b[0m\n\u001b[1;32m    134\u001b[0m \u001b[0;34m\u001b[0m\u001b[0m\n",
            "\u001b[0;31mKeyboardInterrupt\u001b[0m: "
          ]
        }
      ]
    },
    {
      "cell_type": "markdown",
      "metadata": {
        "id": "6DIHs2gdiZAm"
      },
      "source": [
        "## Check for Overfitting-Underfitting"
      ]
    },
    {
      "cell_type": "code",
      "metadata": {
        "id": "ntrRESB_VpGk"
      },
      "source": [
        "import matplotlib.pyplot as plt\n",
        "\n",
        "plt.figure(figsize=(8,5))\n",
        "\n",
        "plt.plot(valid_losses,'o-',color=\"r\")\n",
        "\n",
        "plt.plot(list_of_losses,'o-',color=\"g\")\n",
        "\n",
        "plt.grid()\n",
        "\n",
        "plt.plot(valid_losses, 'o-', color=\"r\",\n",
        "                label=\"Validation loss\")\n",
        "plt.plot(list_of_losses,  'o-', color=\"g\",\n",
        "                label=\"Training loss\")\n",
        "\n",
        "plt.legend(loc=\"best\")\n",
        "\n",
        "plt.xlabel(\"epochs\")\n",
        "plt.ylabel(\"losses\")\n",
        "plt.title(\"Scalability of the model\")\n",
        "\n",
        "plt.show()"
      ],
      "execution_count": null,
      "outputs": []
    },
    {
      "cell_type": "markdown",
      "metadata": {
        "id": "wy5AXsUrihYJ"
      },
      "source": [
        "## Testing"
      ]
    },
    {
      "cell_type": "code",
      "metadata": {
        "id": "RSq0OlyjSUJn"
      },
      "source": [
        "from sklearn.metrics import accuracy_score, f1_score,recall_score,precision_score\n",
        "\n",
        "accuracy = []\n",
        "f1 = []\n",
        "recall = []\n",
        "precision = []\n",
        "\n",
        "for batch in test_iter:\n",
        "      \n",
        "    y_pred = predict(net,batch.text.T)\n",
        "    y_pred = y_pred.detach().numpy()\n",
        "    y_test = batch.target.float()\n",
        "    y_test = y_test.numpy()\n",
        "\n",
        "    acc = accuracy_score(y_test, y_pred)\n",
        "    f1_sc = f1_score(y_test, y_pred, average='macro')\n",
        "    rec = recall_score(y_test, y_pred, average='macro')\n",
        "    prec = precision_score(y_test, y_pred, average='macro')\n",
        "    \n",
        "    accuracy.append(acc)\n",
        "    f1.append(f1_sc)\n",
        "    recall.append(rec)\n",
        "    precision.append(prec)\n",
        "    "
      ],
      "execution_count": null,
      "outputs": []
    },
    {
      "cell_type": "markdown",
      "metadata": {
        "id": "DCKcoFKcil_u"
      },
      "source": [
        "## Scores"
      ]
    },
    {
      "cell_type": "code",
      "metadata": {
        "id": "gHxrHpRUSUJn"
      },
      "source": [
        "print(\"Accuracy: \",np.mean(accuracy))\n",
        "print(\"F1-score: \",np.mean(f1))\n",
        "print(\"Recall-score: \",np.mean(recall))\n",
        "print(\"Precision: \",np.mean(precision))"
      ],
      "execution_count": null,
      "outputs": []
    },
    {
      "cell_type": "markdown",
      "metadata": {
        "id": "ILDXl02Rl9c0"
      },
      "source": [
        "# **Remarks**"
      ]
    },
    {
      "cell_type": "markdown",
      "metadata": {
        "id": "ICYMgJqXmDlE"
      },
      "source": [
        "\n",
        "\n",
        "*   For this model we used GloVe for the pre-process, with vector size 25. RMS was chosen as an optimizer and BCELoss as loss function, because of the binary classification.\n",
        "*   For neural network architecture:\n",
        "\n",
        "> * The first layer is an Embedding layer, which matches the input vectors to the vocabulary vectors.\n",
        "> * The second layer is a Linear hidden layer,which accepts as input size, the size of the features multiplied by the size of the GloVe vectors. It uses ReLU as activation function.\n",
        ">* The output layer is Linear with input dimension  200 and output 1 with sigmoid as activation function.\n",
        "\n",
        "\n",
        "\n",
        "\n",
        "\n",
        "\n",
        "\n"
      ]
    },
    {
      "cell_type": "markdown",
      "metadata": {
        "id": "ItgHWhmHOHNz"
      },
      "source": [
        "## References"
      ]
    },
    {
      "cell_type": "markdown",
      "metadata": {
        "id": "aFC-MQOGOKd8"
      },
      "source": [
        "\n",
        "\n",
        "*   https://towardsdatascience.com/deep-learning-for-nlp-with-pytorch-and-torchtext-4f92d69052f\n",
        "\n",
        "\n"
      ]
    }
  ]
}