{
  "nbformat": 4,
  "nbformat_minor": 0,
  "metadata": {
    "colab": {
      "name": "model4.ipynb",
      "provenance": [],
      "include_colab_link": true
    },
    "kernelspec": {
      "display_name": "Python 3.6.8 64-bit ('opencv-env': conda)",
      "language": "python",
      "name": "python36864bitopencvenvcondad263f100daf4493e8e73d9bd1ee965a1"
    },
    "language_info": {
      "codemirror_mode": {
        "name": "ipython",
        "version": 3
      },
      "file_extension": ".py",
      "mimetype": "text/x-python",
      "name": "python",
      "nbconvert_exporter": "python",
      "pygments_lexer": "ipython3",
      "version": "3.6.8"
    }
  },
  "cells": [
    {
      "cell_type": "markdown",
      "metadata": {
        "id": "view-in-github",
        "colab_type": "text"
      },
      "source": [
        "<a href=\"https://colab.research.google.com/github/Myrto-Iglezou/AI2-project2/blob/master/model4.ipynb\" target=\"_parent\"><img src=\"https://colab.research.google.com/assets/colab-badge.svg\" alt=\"Open In Colab\"/></a>"
      ]
    },
    {
      "cell_type": "markdown",
      "metadata": {
        "id": "eOoUR08ESUJj"
      },
      "source": [
        "## YΣ19 Artificial Intelligence II\n",
        "# Homework 2\n",
        "\n",
        "### Iglezou Myrto - 111520170038"
      ]
    },
    {
      "cell_type": "markdown",
      "metadata": {
        "id": "FF6rJUV7SUJk"
      },
      "source": [
        "# Model 4"
      ]
    },
    {
      "cell_type": "code",
      "metadata": {
        "id": "vqFzJfkjSUJk"
      },
      "source": [
        "import pandas as pd \n",
        "from pandas import DataFrame, read_csv"
      ],
      "execution_count": null,
      "outputs": []
    },
    {
      "cell_type": "markdown",
      "metadata": {
        "id": "eg6ZVC_nyPH0"
      },
      "source": [
        "Download the dataset."
      ]
    },
    {
      "cell_type": "code",
      "metadata": {
        "colab": {
          "base_uri": "https://localhost:8080/",
          "height": 202
        },
        "id": "wsFlMttISUJk",
        "outputId": "23d33e44-af24-47b5-a3d5-9d23891acf46"
      },
      "source": [
        "import gdown\n",
        "url = 'https://drive.google.com/file/d/1dTIWNpjlrnTQBIQtaGOh0jCRYZiAQO79/view?usp=sharing'\n",
        "path = 'https://drive.google.com/uc?export=download&id='+url.split('/')[-2]\n",
        "output = \"twitterData.csv\"\n",
        "gdown.download(path, output, quiet=True)\n",
        "twitterData = pd.read_csv(\"/content/twitterData.csv\")\n",
        "df = pd.DataFrame(data=twitterData)\n",
        "df.head(5)"
      ],
      "execution_count": null,
      "outputs": [
        {
          "output_type": "execute_result",
          "data": {
            "text/html": [
              "<div>\n",
              "<style scoped>\n",
              "    .dataframe tbody tr th:only-of-type {\n",
              "        vertical-align: middle;\n",
              "    }\n",
              "\n",
              "    .dataframe tbody tr th {\n",
              "        vertical-align: top;\n",
              "    }\n",
              "\n",
              "    .dataframe thead th {\n",
              "        text-align: right;\n",
              "    }\n",
              "</style>\n",
              "<table border=\"1\" class=\"dataframe\">\n",
              "  <thead>\n",
              "    <tr style=\"text-align: right;\">\n",
              "      <th></th>\n",
              "      <th>Unnamed: 0</th>\n",
              "      <th>target</th>\n",
              "      <th>id</th>\n",
              "      <th>date</th>\n",
              "      <th>flag</th>\n",
              "      <th>user</th>\n",
              "      <th>text</th>\n",
              "    </tr>\n",
              "  </thead>\n",
              "  <tbody>\n",
              "    <tr>\n",
              "      <th>0</th>\n",
              "      <td>680949</td>\n",
              "      <td>0</td>\n",
              "      <td>2249621587</td>\n",
              "      <td>Fri Jun 19 22:41:08 PDT 2009</td>\n",
              "      <td>NO_QUERY</td>\n",
              "      <td>sukumarpant</td>\n",
              "      <td>#brokenpromises...</td>\n",
              "    </tr>\n",
              "    <tr>\n",
              "      <th>1</th>\n",
              "      <td>406741</td>\n",
              "      <td>0</td>\n",
              "      <td>2059003515</td>\n",
              "      <td>Sat Jun 06 16:03:21 PDT 2009</td>\n",
              "      <td>NO_QUERY</td>\n",
              "      <td>MTMSparrow</td>\n",
              "      <td>David Carradine  so sad. Thai's law not sure i...</td>\n",
              "    </tr>\n",
              "    <tr>\n",
              "      <th>2</th>\n",
              "      <td>1337108</td>\n",
              "      <td>4</td>\n",
              "      <td>2017466467</td>\n",
              "      <td>Wed Jun 03 08:26:14 PDT 2009</td>\n",
              "      <td>NO_QUERY</td>\n",
              "      <td>itsmemcee</td>\n",
              "      <td>A @ 415 B @ 425. Tell your bro i say congrats!</td>\n",
              "    </tr>\n",
              "    <tr>\n",
              "      <th>3</th>\n",
              "      <td>1560887</td>\n",
              "      <td>4</td>\n",
              "      <td>2186457254</td>\n",
              "      <td>Mon Jun 15 18:52:04 PDT 2009</td>\n",
              "      <td>NO_QUERY</td>\n",
              "      <td>jdfreivald</td>\n",
              "      <td>@littlefluffycat  Indeed.</td>\n",
              "    </tr>\n",
              "    <tr>\n",
              "      <th>4</th>\n",
              "      <td>1466295</td>\n",
              "      <td>4</td>\n",
              "      <td>2064458395</td>\n",
              "      <td>Sun Jun 07 06:19:20 PDT 2009</td>\n",
              "      <td>NO_QUERY</td>\n",
              "      <td>CrazyHan</td>\n",
              "      <td>Completed Race 4 Life in 58mins with girlies f...</td>\n",
              "    </tr>\n",
              "  </tbody>\n",
              "</table>\n",
              "</div>"
            ],
            "text/plain": [
              "   Unnamed: 0  ...                                               text\n",
              "0      680949  ...                                #brokenpromises... \n",
              "1      406741  ...  David Carradine  so sad. Thai's law not sure i...\n",
              "2     1337108  ...    A @ 415 B @ 425. Tell your bro i say congrats! \n",
              "3     1560887  ...                          @littlefluffycat  Indeed.\n",
              "4     1466295  ...  Completed Race 4 Life in 58mins with girlies f...\n",
              "\n",
              "[5 rows x 7 columns]"
            ]
          },
          "metadata": {
            "tags": []
          },
          "execution_count": 107
        }
      ]
    },
    {
      "cell_type": "markdown",
      "metadata": {
        "id": "gFooeAwdyEvP"
      },
      "source": [
        "Creating a new dataframe with only two columns, target and text.\n"
      ]
    },
    {
      "cell_type": "code",
      "metadata": {
        "colab": {
          "base_uri": "https://localhost:8080/",
          "height": 202
        },
        "id": "oiQYE49Z8lAC",
        "outputId": "ed09fe5b-3cb6-4de4-b845-d9f7b8accf10"
      },
      "source": [
        "df.drop(df.columns.difference(['text','target']), 1, inplace=True)\n",
        "df['target'].replace({4: 1}, inplace = True)\n",
        "df.head(5)"
      ],
      "execution_count": null,
      "outputs": [
        {
          "output_type": "execute_result",
          "data": {
            "text/html": [
              "<div>\n",
              "<style scoped>\n",
              "    .dataframe tbody tr th:only-of-type {\n",
              "        vertical-align: middle;\n",
              "    }\n",
              "\n",
              "    .dataframe tbody tr th {\n",
              "        vertical-align: top;\n",
              "    }\n",
              "\n",
              "    .dataframe thead th {\n",
              "        text-align: right;\n",
              "    }\n",
              "</style>\n",
              "<table border=\"1\" class=\"dataframe\">\n",
              "  <thead>\n",
              "    <tr style=\"text-align: right;\">\n",
              "      <th></th>\n",
              "      <th>target</th>\n",
              "      <th>text</th>\n",
              "    </tr>\n",
              "  </thead>\n",
              "  <tbody>\n",
              "    <tr>\n",
              "      <th>0</th>\n",
              "      <td>0</td>\n",
              "      <td>#brokenpromises...</td>\n",
              "    </tr>\n",
              "    <tr>\n",
              "      <th>1</th>\n",
              "      <td>0</td>\n",
              "      <td>David Carradine  so sad. Thai's law not sure i...</td>\n",
              "    </tr>\n",
              "    <tr>\n",
              "      <th>2</th>\n",
              "      <td>1</td>\n",
              "      <td>A @ 415 B @ 425. Tell your bro i say congrats!</td>\n",
              "    </tr>\n",
              "    <tr>\n",
              "      <th>3</th>\n",
              "      <td>1</td>\n",
              "      <td>@littlefluffycat  Indeed.</td>\n",
              "    </tr>\n",
              "    <tr>\n",
              "      <th>4</th>\n",
              "      <td>1</td>\n",
              "      <td>Completed Race 4 Life in 58mins with girlies f...</td>\n",
              "    </tr>\n",
              "  </tbody>\n",
              "</table>\n",
              "</div>"
            ],
            "text/plain": [
              "   target                                               text\n",
              "0       0                                #brokenpromises... \n",
              "1       0  David Carradine  so sad. Thai's law not sure i...\n",
              "2       1    A @ 415 B @ 425. Tell your bro i say congrats! \n",
              "3       1                          @littlefluffycat  Indeed.\n",
              "4       1  Completed Race 4 Life in 58mins with girlies f..."
            ]
          },
          "metadata": {
            "tags": []
          },
          "execution_count": 108
        }
      ]
    },
    {
      "cell_type": "markdown",
      "metadata": {
        "id": "t0Zrsit-SUJm"
      },
      "source": [
        "## Data pre-processing"
      ]
    },
    {
      "cell_type": "markdown",
      "metadata": {
        "id": "pKM0_pS5SUJm"
      },
      "source": [
        "### Removing the scpecial characters"
      ]
    },
    {
      "cell_type": "code",
      "metadata": {
        "id": "nzcEiq8tSUJm"
      },
      "source": [
        "import re\n",
        "\n",
        "def RemoveSpecialCharacters(x):\n",
        "    x = re.sub(r'[^\\w]+', \" \", x)\n",
        "    return x"
      ],
      "execution_count": null,
      "outputs": []
    },
    {
      "cell_type": "code",
      "metadata": {
        "id": "gzJ4Kd61SUJm"
      },
      "source": [
        "df['text'] = df['text'].apply(lambda x: RemoveSpecialCharacters(x) )"
      ],
      "execution_count": null,
      "outputs": []
    },
    {
      "cell_type": "markdown",
      "metadata": {
        "id": "5P15gBnWSUJm"
      },
      "source": [
        "### Lemmatize"
      ]
    },
    {
      "cell_type": "code",
      "metadata": {
        "id": "zk9vMwm0SUJm"
      },
      "source": [
        "import nltk\n",
        "# nltk.download('wordnet')\n",
        "from nltk.stem import WordNetLemmatizer\n",
        "\n",
        "df['text'] = df['text'].apply(lambda x: WordNetLemmatizer().lemmatize(x))"
      ],
      "execution_count": null,
      "outputs": []
    },
    {
      "cell_type": "markdown",
      "metadata": {
        "id": "vTzW08GKSUJm"
      },
      "source": [
        "### Removing the upercase"
      ]
    },
    {
      "cell_type": "code",
      "metadata": {
        "id": "DrBPOkWcSUJm"
      },
      "source": [
        "df['text'] = df['text'].apply(lambda x: x.lower())"
      ],
      "execution_count": null,
      "outputs": []
    },
    {
      "cell_type": "code",
      "metadata": {
        "colab": {
          "base_uri": "https://localhost:8080/",
          "height": 202
        },
        "id": "Sdae8kuml0mh",
        "outputId": "59fc5786-5cc3-4693-ee09-a6e2d5dd90e0"
      },
      "source": [
        "df.head(5)"
      ],
      "execution_count": null,
      "outputs": [
        {
          "output_type": "execute_result",
          "data": {
            "text/html": [
              "<div>\n",
              "<style scoped>\n",
              "    .dataframe tbody tr th:only-of-type {\n",
              "        vertical-align: middle;\n",
              "    }\n",
              "\n",
              "    .dataframe tbody tr th {\n",
              "        vertical-align: top;\n",
              "    }\n",
              "\n",
              "    .dataframe thead th {\n",
              "        text-align: right;\n",
              "    }\n",
              "</style>\n",
              "<table border=\"1\" class=\"dataframe\">\n",
              "  <thead>\n",
              "    <tr style=\"text-align: right;\">\n",
              "      <th></th>\n",
              "      <th>target</th>\n",
              "      <th>text</th>\n",
              "    </tr>\n",
              "  </thead>\n",
              "  <tbody>\n",
              "    <tr>\n",
              "      <th>0</th>\n",
              "      <td>0</td>\n",
              "      <td>brokenpromises</td>\n",
              "    </tr>\n",
              "    <tr>\n",
              "      <th>1</th>\n",
              "      <td>0</td>\n",
              "      <td>david carradine so sad thai s law not sure if ...</td>\n",
              "    </tr>\n",
              "    <tr>\n",
              "      <th>2</th>\n",
              "      <td>1</td>\n",
              "      <td>a 415 b 425 tell your bro i say congrats</td>\n",
              "    </tr>\n",
              "    <tr>\n",
              "      <th>3</th>\n",
              "      <td>1</td>\n",
              "      <td>littlefluffycat indeed</td>\n",
              "    </tr>\n",
              "    <tr>\n",
              "      <th>4</th>\n",
              "      <td>1</td>\n",
              "      <td>completed race 4 life in 58mins with girlies f...</td>\n",
              "    </tr>\n",
              "  </tbody>\n",
              "</table>\n",
              "</div>"
            ],
            "text/plain": [
              "   target                                               text\n",
              "0       0                                    brokenpromises \n",
              "1       0  david carradine so sad thai s law not sure if ...\n",
              "2       1          a 415 b 425 tell your bro i say congrats \n",
              "3       1                            littlefluffycat indeed \n",
              "4       1  completed race 4 life in 58mins with girlies f..."
            ]
          },
          "metadata": {
            "tags": []
          },
          "execution_count": 113
        }
      ]
    },
    {
      "cell_type": "markdown",
      "metadata": {
        "id": "jnmaBb9USUJm"
      },
      "source": [
        "## Word embedding - GloVe\n",
        "GloVe is an unsupervised learning algorithm for obtaining vector representations for words. Training is performed on aggregated global word-word co-occurrence statistics from a corpus, and the resulting representations showcase interesting linear substructures of the word vector space. "
      ]
    },
    {
      "cell_type": "code",
      "metadata": {
        "id": "Jmlwwy9ynWQ9"
      },
      "source": [
        "from torchtext.vocab import GloVe\n",
        "glove = GloVe(name='twitter.27B', dim=25)"
      ],
      "execution_count": null,
      "outputs": []
    },
    {
      "cell_type": "code",
      "metadata": {
        "id": "5l1kQXuOjXtZ"
      },
      "source": [
        "from torchtext.data import Field\n",
        "text_field = Field(sequential=True,tokenize='spacy',fix_length=100)\n",
        "\n",
        "label_field = Field(sequential=False, use_vocab=False)\n",
        "preprocessed_text = df['text'].apply(lambda x: text_field.preprocess(x)) #apply preprocess manually\n",
        "text_field.build_vocab(preprocessed_text, vectors=glove)  # load embedding with 25d\n",
        "vocab = text_field.vocab  # get the vocab instance"
      ],
      "execution_count": null,
      "outputs": []
    },
    {
      "cell_type": "markdown",
      "metadata": {
        "id": "GTdO_4EFmZIS"
      },
      "source": [
        "### Create the datasets\n",
        "\n",
        "We have train, validation and test datasets that contain text and label information. Train has 80%, validation 10% and test 10%."
      ]
    },
    {
      "cell_type": "code",
      "metadata": {
        "id": "Vev1gKGRxQ-o"
      },
      "source": [
        "from torchtext.data import Dataset, Example\n",
        "fields = (('target', label_field),('text', text_field))\n",
        "train_dataset, valid_dataset, test_dataset= Dataset(examples=[Example.fromlist(list(r), fields)\n",
        "                                               for i, r in df.iterrows()],\n",
        "                                               fields = fields).split(split_ratio = [0.8, 0.1, 0.1])"
      ],
      "execution_count": null,
      "outputs": []
    },
    {
      "cell_type": "markdown",
      "metadata": {
        "id": "F9sqYkzgSUJm"
      },
      "source": [
        "## Batching sentences together \n",
        "Use *BucketIterator* to create the batches for the 3 datasets with batch size 64."
      ]
    },
    {
      "cell_type": "code",
      "metadata": {
        "id": "MugWDpHxSUJm"
      },
      "source": [
        "from torchtext.data import BucketIterator\n",
        "train_iter, valid_iter, test_iter = BucketIterator.splits(datasets=(train_dataset, valid_dataset, test_dataset),\n",
        "                                                          batch_sizes=(64,64,64), sort=False)"
      ],
      "execution_count": null,
      "outputs": []
    },
    {
      "cell_type": "markdown",
      "metadata": {
        "id": "jzGmJL_PSUJm"
      },
      "source": [
        "## Architecture of NN"
      ]
    },
    {
      "cell_type": "code",
      "metadata": {
        "id": "KwEPmlI8yjK-"
      },
      "source": [
        "import torch\n",
        "import torch.nn as nn\n",
        "import numpy as np"
      ],
      "execution_count": null,
      "outputs": []
    },
    {
      "cell_type": "code",
      "metadata": {
        "id": "54r961vkSUJm"
      },
      "source": [
        "class Model_4(nn.Module):\n",
        "    def __init__(self, input_size, embedding, num_classes = 1, embedding_dim = 25, hidden_size = 200):\n",
        "        super(Model_4, self).__init__()\n",
        "\n",
        "        self.embedding = embedding\n",
        "        self.fc1 = nn.Linear(input_size * embedding_dim, hidden_size)\n",
        "        self.relu1 = nn.ReLU()\n",
        "        self.fc2 = nn.Linear(hidden_size,num_classes)\n",
        "        self.sigmoid = nn.Sigmoid()\n",
        "\n",
        "    def forward(self,x):\n",
        "        x = self.embedding[x].reshape(x.size()[0], -1)\n",
        "        out = self.fc1(x)\n",
        "        out = self.relu1(out)\n",
        "        out = self.fc2(out)\n",
        "        out = self.sigmoid(out)\n",
        "        return out"
      ],
      "execution_count": null,
      "outputs": []
    },
    {
      "cell_type": "code",
      "metadata": {
        "id": "UP2XqfdmSUJm"
      },
      "source": [
        "def train(model,X,y,optimizer,loss_fn):\n",
        "\n",
        "    # step 1. Zero the gradients\n",
        "        optimizer.zero_grad()\n",
        "    # step 2. Compute the output\n",
        "        y_pred = model(X)\n",
        "    # step 3. Compute the loss\n",
        "        loss = loss_fn(y_pred.squeeze(), y)\n",
        "    # step 4. use loss to produce gradients\n",
        "        loss.backward()\n",
        "    # step 5. use optimizer to take gradient step\n",
        "        optimizer.step()\n",
        "   \n",
        "        return loss.item()"
      ],
      "execution_count": null,
      "outputs": []
    },
    {
      "cell_type": "code",
      "metadata": {
        "id": "_IePE6WPRvPL"
      },
      "source": [
        "def validate(classifier,X,y,loss_fn):\n",
        "  y_pred =  classifier(X)\n",
        "  loss = loss_fn(y_pred.squeeze(), y)\n",
        "\n",
        "  return loss.item()\n"
      ],
      "execution_count": null,
      "outputs": []
    },
    {
      "cell_type": "code",
      "metadata": {
        "id": "Mw4BimL-SUJm"
      },
      "source": [
        "def predict(model,X):\n",
        "    outputs = model(X)\n",
        "    return torch.round(outputs)"
      ],
      "execution_count": null,
      "outputs": []
    },
    {
      "cell_type": "markdown",
      "metadata": {
        "id": "i97djlJBSUJn"
      },
      "source": [
        "## Training\n",
        "\n"
      ]
    },
    {
      "cell_type": "code",
      "metadata": {
        "id": "NzVzgQkMSUJn"
      },
      "source": [
        "net = Model_4(100,vocab.vectors)  # length is 100, given in Field\n",
        "learning_rate = 0.0001\n",
        "loss_function=nn.BCELoss()\n",
        "optimizer = torch.optim.RMSprop(net.parameters(), lr=learning_rate)"
      ],
      "execution_count": null,
      "outputs": []
    },
    {
      "cell_type": "code",
      "metadata": {
        "id": "8IRlQkwESUJn"
      },
      "source": [
        "def training()\n",
        "num_epochs = 5\n",
        "\n",
        "list_of_losses = []\n",
        "valid_losses = []\n",
        "\n",
        "for epoch in range(num_epochs):\n",
        "    epoch_losses = []\n",
        "    # net.train()\n",
        "    for batch in train_iter:\n",
        "      loss = train(net, batch.text.T, batch.target.float(), optimizer, loss_function)\n",
        "      epoch_losses.append(loss)\n",
        "\n",
        "    #print('train loss on epoch {} : {:.3f}'.format(epoch, np.mean(epoch_losses)))\n",
        "    list_of_losses.append(np.mean(epoch_losses))\n",
        "\n",
        "    epoch_losses = []\n",
        "    for batch in valid_iter:\n",
        "        with torch.no_grad():\n",
        "            loss = validate(net, batch.text.T, batch.target.float(),loss_function)\n",
        "            epoch_losses.append(loss)\n",
        "    \n",
        "    #print('validation loss on epoch {}: {:.3f}'.format(epoch, np.mean(epoch_losses)))\n",
        "    valid_losses.append(np.mean(epoch_losses))\n",
        "       "
      ],
      "execution_count": null,
      "outputs": []
    },
    {
      "cell_type": "markdown",
      "metadata": {
        "id": "6DIHs2gdiZAm"
      },
      "source": [
        "## Check for Overfitting-Underfitting"
      ]
    },
    {
      "cell_type": "code",
      "metadata": {
        "id": "ntrRESB_VpGk",
        "colab": {
          "base_uri": "https://localhost:8080/",
          "height": 350
        },
        "outputId": "e298cd49-6fb4-436b-bfdd-b86295e3e246"
      },
      "source": [
        "import matplotlib.pyplot as plt\n",
        "\n",
        "plt.figure(figsize=(8,5))\n",
        "\n",
        "plt.plot(valid_losses,'o-',color=\"r\")\n",
        "\n",
        "plt.plot(list_of_losses,'o-',color=\"g\")\n",
        "\n",
        "plt.grid()\n",
        "\n",
        "plt.plot(valid_losses, 'o-', color=\"r\",\n",
        "                label=\"Validation loss\")\n",
        "plt.plot(list_of_losses,  'o-', color=\"g\",\n",
        "                label=\"Training loss\")\n",
        "\n",
        "plt.legend(loc=\"best\")\n",
        "\n",
        "plt.xlabel(\"epochs\")\n",
        "plt.ylabel(\"losses\")\n",
        "plt.title(\"Scalability of the model\")\n",
        "\n",
        "plt.show()"
      ],
      "execution_count": null,
      "outputs": [
        {
          "output_type": "display_data",
          "data": {
            "image/png": "[encoded data removed]",
            "text/plain": [
              "<Figure size 576x360 with 1 Axes>"
            ]
          },
          "metadata": {
            "tags": [],
            "needs_background": "light"
          }
        }
      ]
    },
    {
      "cell_type": "markdown",
      "metadata": {
        "id": "wy5AXsUrihYJ"
      },
      "source": [
        "## Testing"
      ]
    },
    {
      "cell_type": "code",
      "metadata": {
        "id": "RSq0OlyjSUJn"
      },
      "source": [
        "from sklearn.metrics import accuracy_score, f1_score,recall_score,precision_score\n",
        "\n",
        "accuracy = []\n",
        "f1 = []\n",
        "recall = []\n",
        "precision = []\n",
        "\n",
        "for batch in test_iter:\n",
        "      \n",
        "    y_pred = predict(net,batch.text.T)\n",
        "    y_pred = y_pred.detach().numpy()\n",
        "    y_test = batch.target.float()\n",
        "    y_test = y_test.numpy()\n",
        "\n",
        "    acc = accuracy_score(y_test, y_pred)\n",
        "    f1_sc = f1_score(y_test, y_pred, average='macro')\n",
        "    rec = recall_score(y_test, y_pred, average='macro')\n",
        "    prec = precision_score(y_test, y_pred, average='macro')\n",
        "    \n",
        "    accuracy.append(acc)\n",
        "    f1.append(f1_sc)\n",
        "    recall.append(rec)\n",
        "    precision.append(prec)\n",
        "    "
      ],
      "execution_count": null,
      "outputs": []
    },
    {
      "cell_type": "markdown",
      "metadata": {
        "id": "DCKcoFKcil_u"
      },
      "source": [
        "## Scores"
      ]
    },
    {
      "cell_type": "code",
      "metadata": {
        "colab": {
          "base_uri": "https://localhost:8080/"
        },
        "id": "gHxrHpRUSUJn",
        "outputId": "2bcbaabf-402f-4845-8b4b-20b1040ad7c4"
      },
      "source": [
        "print(\"Accuracy: \",np.mean(accuracy))\n",
        "print(\"F1-score: \",np.mean(f1))\n",
        "print(\"Recall-score: \",np.mean(recall))\n",
        "print(\"Precision: \",np.mean(precision))"
      ],
      "execution_count": null,
      "outputs": [
        {
          "output_type": "stream",
          "text": [
            "Accuracy:  0.73540625\n",
            "F1-score:  0.7322991844680825\n",
            "Recall-score:  0.735433846492168\n",
            "Precision:  0.7359207495333406\n"
          ],
          "name": "stdout"
        }
      ]
    },
    {
      "cell_type": "markdown",
      "metadata": {
        "id": "ILDXl02Rl9c0"
      },
      "source": [
        "# **Remarks**"
      ]
    },
    {
      "cell_type": "markdown",
      "metadata": {
        "id": "ICYMgJqXmDlE"
      },
      "source": [
        "\n",
        "\n",
        "*   For this model we used GloVe for the pre-process, with vector size 25. RMS was chosen as an optimizer and BCELoss as loss function, because of the binary classification.\n",
        "*   For neural network architecture:\n",
        "\n",
        "> * The first layer is an Embedding layer, which matches the input vectors to the vocabulary vectors.\n",
        "> * The second layer is a Linear hidden layer,which accepts as input size, the size of the features multiplied by the size of the GloVe vectors. It uses ReLU as activation function.\n",
        ">* The output layer is Linear with input dimension  200 and output 1 with sigmoid as activation function.\n",
        "\n",
        "\n",
        "\n",
        "\n",
        "\n",
        "\n",
        "\n"
      ]
    },
    {
      "cell_type": "markdown",
      "metadata": {
        "id": "ItgHWhmHOHNz"
      },
      "source": [
        "## References"
      ]
    },
    {
      "cell_type": "markdown",
      "metadata": {
        "id": "aFC-MQOGOKd8"
      },
      "source": [
        "\n",
        "\n",
        "*   https://towardsdatascience.com/deep-learning-for-nlp-with-pytorch-and-torchtext-4f92d69052f\n",
        "\n",
        "\n"
      ]
    }
  ]
}