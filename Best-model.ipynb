{
  "nbformat": 4,
  "nbformat_minor": 0,
  "metadata": {
    "colab": {
      "name": "model4.ipynb",
      "provenance": [],
      "include_colab_link": true
    },
    "kernelspec": {
      "name": "python3",
      "display_name": "Python 3"
    },
    "accelerator": "GPU"
  },
  "cells": [
    {
      "cell_type": "markdown",
      "metadata": {
        "id": "view-in-github",
        "colab_type": "text"
      },
      "source": [
        "<a href=\"https://colab.research.google.com/github/Myrto-Iglezou/AI2-project3/blob/master/Best-model.ipynb\" target=\"_parent\"><img src=\"https://colab.research.google.com/assets/colab-badge.svg\" alt=\"Open In Colab\"/></a>"
      ]
    },
    {
      "cell_type": "markdown",
      "metadata": {
        "id": "eOoUR08ESUJj"
      },
      "source": [
        "## YΣ19 Artificial Intelligence II\n",
        "# Homework 3\n",
        "\n",
        "### Iglezou Myrto - 111520170038"
      ]
    },
    {
      "cell_type": "markdown",
      "metadata": {
        "id": "FF6rJUV7SUJk"
      },
      "source": [
        "# Best Model"
      ]
    },
    {
      "cell_type": "code",
      "metadata": {
        "id": "vqFzJfkjSUJk"
      },
      "source": [
        "import pandas as pd \n",
        "from pandas import DataFrame, read_csv"
      ],
      "execution_count": 1,
      "outputs": []
    },
    {
      "cell_type": "markdown",
      "metadata": {
        "id": "eg6ZVC_nyPH0"
      },
      "source": [
        "Download the dataset."
      ]
    },
    {
      "cell_type": "code",
      "metadata": {
        "colab": {
          "base_uri": "https://localhost:8080/",
          "height": 202
        },
        "id": "wsFlMttISUJk",
        "outputId": "bc9f6d2e-1bb4-4f82-fe3f-b77a355b7e1d"
      },
      "source": [
        "import gdown\n",
        "url = 'https://drive.google.com/file/d/1dTIWNpjlrnTQBIQtaGOh0jCRYZiAQO79/view?usp=sharing'\n",
        "path = 'https://drive.google.com/uc?export=download&id='+url.split('/')[-2]\n",
        "output = \"twitterData.csv\"\n",
        "gdown.download(path, output, quiet=True)\n",
        "twitterData = pd.read_csv(\"/content/twitterData.csv\",nrows=50000)\n",
        "df = pd.DataFrame(data=twitterData)\n",
        "df.head(5)"
      ],
      "execution_count": 2,
      "outputs": [
        {
          "output_type": "execute_result",
          "data": {
            "text/html": [
              "<div>\n",
              "<style scoped>\n",
              "    .dataframe tbody tr th:only-of-type {\n",
              "        vertical-align: middle;\n",
              "    }\n",
              "\n",
              "    .dataframe tbody tr th {\n",
              "        vertical-align: top;\n",
              "    }\n",
              "\n",
              "    .dataframe thead th {\n",
              "        text-align: right;\n",
              "    }\n",
              "</style>\n",
              "<table border=\"1\" class=\"dataframe\">\n",
              "  <thead>\n",
              "    <tr style=\"text-align: right;\">\n",
              "      <th></th>\n",
              "      <th>Unnamed: 0</th>\n",
              "      <th>target</th>\n",
              "      <th>id</th>\n",
              "      <th>date</th>\n",
              "      <th>flag</th>\n",
              "      <th>user</th>\n",
              "      <th>text</th>\n",
              "    </tr>\n",
              "  </thead>\n",
              "  <tbody>\n",
              "    <tr>\n",
              "      <th>0</th>\n",
              "      <td>680949</td>\n",
              "      <td>0</td>\n",
              "      <td>2249621587</td>\n",
              "      <td>Fri Jun 19 22:41:08 PDT 2009</td>\n",
              "      <td>NO_QUERY</td>\n",
              "      <td>sukumarpant</td>\n",
              "      <td>#brokenpromises...</td>\n",
              "    </tr>\n",
              "    <tr>\n",
              "      <th>1</th>\n",
              "      <td>406741</td>\n",
              "      <td>0</td>\n",
              "      <td>2059003515</td>\n",
              "      <td>Sat Jun 06 16:03:21 PDT 2009</td>\n",
              "      <td>NO_QUERY</td>\n",
              "      <td>MTMSparrow</td>\n",
              "      <td>David Carradine  so sad. Thai's law not sure i...</td>\n",
              "    </tr>\n",
              "    <tr>\n",
              "      <th>2</th>\n",
              "      <td>1337108</td>\n",
              "      <td>4</td>\n",
              "      <td>2017466467</td>\n",
              "      <td>Wed Jun 03 08:26:14 PDT 2009</td>\n",
              "      <td>NO_QUERY</td>\n",
              "      <td>itsmemcee</td>\n",
              "      <td>A @ 415 B @ 425. Tell your bro i say congrats!</td>\n",
              "    </tr>\n",
              "    <tr>\n",
              "      <th>3</th>\n",
              "      <td>1560887</td>\n",
              "      <td>4</td>\n",
              "      <td>2186457254</td>\n",
              "      <td>Mon Jun 15 18:52:04 PDT 2009</td>\n",
              "      <td>NO_QUERY</td>\n",
              "      <td>jdfreivald</td>\n",
              "      <td>@littlefluffycat  Indeed.</td>\n",
              "    </tr>\n",
              "    <tr>\n",
              "      <th>4</th>\n",
              "      <td>1466295</td>\n",
              "      <td>4</td>\n",
              "      <td>2064458395</td>\n",
              "      <td>Sun Jun 07 06:19:20 PDT 2009</td>\n",
              "      <td>NO_QUERY</td>\n",
              "      <td>CrazyHan</td>\n",
              "      <td>Completed Race 4 Life in 58mins with girlies f...</td>\n",
              "    </tr>\n",
              "  </tbody>\n",
              "</table>\n",
              "</div>"
            ],
            "text/plain": [
              "   Unnamed: 0  ...                                               text\n",
              "0      680949  ...                                #brokenpromises... \n",
              "1      406741  ...  David Carradine  so sad. Thai's law not sure i...\n",
              "2     1337108  ...    A @ 415 B @ 425. Tell your bro i say congrats! \n",
              "3     1560887  ...                          @littlefluffycat  Indeed.\n",
              "4     1466295  ...  Completed Race 4 Life in 58mins with girlies f...\n",
              "\n",
              "[5 rows x 7 columns]"
            ]
          },
          "metadata": {
            "tags": []
          },
          "execution_count": 2
        }
      ]
    },
    {
      "cell_type": "markdown",
      "metadata": {
        "id": "gFooeAwdyEvP"
      },
      "source": [
        "Creating a new dataframe with only two columns, target and text.\n"
      ]
    },
    {
      "cell_type": "code",
      "metadata": {
        "colab": {
          "base_uri": "https://localhost:8080/",
          "height": 202
        },
        "id": "oiQYE49Z8lAC",
        "outputId": "5ba95510-43f6-46e5-d1eb-9a3d0a2f47a3"
      },
      "source": [
        "df.drop(df.columns.difference(['text','target']), 1, inplace=True)\n",
        "df['target'].replace({4: 1}, inplace = True)\n",
        "df.head(5)"
      ],
      "execution_count": 3,
      "outputs": [
        {
          "output_type": "execute_result",
          "data": {
            "text/html": [
              "<div>\n",
              "<style scoped>\n",
              "    .dataframe tbody tr th:only-of-type {\n",
              "        vertical-align: middle;\n",
              "    }\n",
              "\n",
              "    .dataframe tbody tr th {\n",
              "        vertical-align: top;\n",
              "    }\n",
              "\n",
              "    .dataframe thead th {\n",
              "        text-align: right;\n",
              "    }\n",
              "</style>\n",
              "<table border=\"1\" class=\"dataframe\">\n",
              "  <thead>\n",
              "    <tr style=\"text-align: right;\">\n",
              "      <th></th>\n",
              "      <th>target</th>\n",
              "      <th>text</th>\n",
              "    </tr>\n",
              "  </thead>\n",
              "  <tbody>\n",
              "    <tr>\n",
              "      <th>0</th>\n",
              "      <td>0</td>\n",
              "      <td>#brokenpromises...</td>\n",
              "    </tr>\n",
              "    <tr>\n",
              "      <th>1</th>\n",
              "      <td>0</td>\n",
              "      <td>David Carradine  so sad. Thai's law not sure i...</td>\n",
              "    </tr>\n",
              "    <tr>\n",
              "      <th>2</th>\n",
              "      <td>1</td>\n",
              "      <td>A @ 415 B @ 425. Tell your bro i say congrats!</td>\n",
              "    </tr>\n",
              "    <tr>\n",
              "      <th>3</th>\n",
              "      <td>1</td>\n",
              "      <td>@littlefluffycat  Indeed.</td>\n",
              "    </tr>\n",
              "    <tr>\n",
              "      <th>4</th>\n",
              "      <td>1</td>\n",
              "      <td>Completed Race 4 Life in 58mins with girlies f...</td>\n",
              "    </tr>\n",
              "  </tbody>\n",
              "</table>\n",
              "</div>"
            ],
            "text/plain": [
              "   target                                               text\n",
              "0       0                                #brokenpromises... \n",
              "1       0  David Carradine  so sad. Thai's law not sure i...\n",
              "2       1    A @ 415 B @ 425. Tell your bro i say congrats! \n",
              "3       1                          @littlefluffycat  Indeed.\n",
              "4       1  Completed Race 4 Life in 58mins with girlies f..."
            ]
          },
          "metadata": {
            "tags": []
          },
          "execution_count": 3
        }
      ]
    },
    {
      "cell_type": "markdown",
      "metadata": {
        "id": "t0Zrsit-SUJm"
      },
      "source": [
        "## Data pre-processing"
      ]
    },
    {
      "cell_type": "markdown",
      "metadata": {
        "id": "pKM0_pS5SUJm"
      },
      "source": [
        "### Removing the scpecial characters"
      ]
    },
    {
      "cell_type": "code",
      "metadata": {
        "id": "nzcEiq8tSUJm"
      },
      "source": [
        "import re\n",
        "\n",
        "def RemoveSpecialCharacters(x):\n",
        "    x = re.sub(r'[^\\w]+', \" \", x)\n",
        "    return x"
      ],
      "execution_count": 4,
      "outputs": []
    },
    {
      "cell_type": "code",
      "metadata": {
        "id": "gzJ4Kd61SUJm"
      },
      "source": [
        "df['text'] = df['text'].apply(lambda x: RemoveSpecialCharacters(x) )"
      ],
      "execution_count": 5,
      "outputs": []
    },
    {
      "cell_type": "markdown",
      "metadata": {
        "id": "5P15gBnWSUJm"
      },
      "source": [
        "### Lemmatize"
      ]
    },
    {
      "cell_type": "code",
      "metadata": {
        "id": "zk9vMwm0SUJm",
        "colab": {
          "base_uri": "https://localhost:8080/"
        },
        "outputId": "4e0fd1a4-3fb1-47da-d16f-04b4c51a7e20"
      },
      "source": [
        "import nltk\n",
        "nltk.download('wordnet')\n",
        "from nltk.stem import WordNetLemmatizer\n",
        "\n",
        "df['text'] = df['text'].apply(lambda x: WordNetLemmatizer().lemmatize(x))"
      ],
      "execution_count": 6,
      "outputs": [
        {
          "output_type": "stream",
          "text": [
            "[nltk_data] Downloading package wordnet to /root/nltk_data...\n",
            "[nltk_data]   Unzipping corpora/wordnet.zip.\n"
          ],
          "name": "stdout"
        }
      ]
    },
    {
      "cell_type": "markdown",
      "metadata": {
        "id": "vTzW08GKSUJm"
      },
      "source": [
        "### Removing the upercase"
      ]
    },
    {
      "cell_type": "code",
      "metadata": {
        "id": "DrBPOkWcSUJm"
      },
      "source": [
        "df['text'] = df['text'].apply(lambda x: x.lower())"
      ],
      "execution_count": 7,
      "outputs": []
    },
    {
      "cell_type": "code",
      "metadata": {
        "colab": {
          "base_uri": "https://localhost:8080/",
          "height": 202
        },
        "id": "Sdae8kuml0mh",
        "outputId": "92d164db-2969-4fb9-e08e-2327f3fe9747"
      },
      "source": [
        "df.head(5)"
      ],
      "execution_count": 8,
      "outputs": [
        {
          "output_type": "execute_result",
          "data": {
            "text/html": [
              "<div>\n",
              "<style scoped>\n",
              "    .dataframe tbody tr th:only-of-type {\n",
              "        vertical-align: middle;\n",
              "    }\n",
              "\n",
              "    .dataframe tbody tr th {\n",
              "        vertical-align: top;\n",
              "    }\n",
              "\n",
              "    .dataframe thead th {\n",
              "        text-align: right;\n",
              "    }\n",
              "</style>\n",
              "<table border=\"1\" class=\"dataframe\">\n",
              "  <thead>\n",
              "    <tr style=\"text-align: right;\">\n",
              "      <th></th>\n",
              "      <th>target</th>\n",
              "      <th>text</th>\n",
              "    </tr>\n",
              "  </thead>\n",
              "  <tbody>\n",
              "    <tr>\n",
              "      <th>0</th>\n",
              "      <td>0</td>\n",
              "      <td>brokenpromises</td>\n",
              "    </tr>\n",
              "    <tr>\n",
              "      <th>1</th>\n",
              "      <td>0</td>\n",
              "      <td>david carradine so sad thai s law not sure if ...</td>\n",
              "    </tr>\n",
              "    <tr>\n",
              "      <th>2</th>\n",
              "      <td>1</td>\n",
              "      <td>a 415 b 425 tell your bro i say congrats</td>\n",
              "    </tr>\n",
              "    <tr>\n",
              "      <th>3</th>\n",
              "      <td>1</td>\n",
              "      <td>littlefluffycat indeed</td>\n",
              "    </tr>\n",
              "    <tr>\n",
              "      <th>4</th>\n",
              "      <td>1</td>\n",
              "      <td>completed race 4 life in 58mins with girlies f...</td>\n",
              "    </tr>\n",
              "  </tbody>\n",
              "</table>\n",
              "</div>"
            ],
            "text/plain": [
              "   target                                               text\n",
              "0       0                                    brokenpromises \n",
              "1       0  david carradine so sad thai s law not sure if ...\n",
              "2       1          a 415 b 425 tell your bro i say congrats \n",
              "3       1                            littlefluffycat indeed \n",
              "4       1  completed race 4 life in 58mins with girlies f..."
            ]
          },
          "metadata": {
            "tags": []
          },
          "execution_count": 8
        }
      ]
    },
    {
      "cell_type": "markdown",
      "metadata": {
        "id": "otwbCFB8ES6W"
      },
      "source": [
        "## Training on GPU"
      ]
    },
    {
      "cell_type": "code",
      "metadata": {
        "id": "txRB3MpqETMj",
        "colab": {
          "base_uri": "https://localhost:8080/"
        },
        "outputId": "385dafe0-7b04-4672-affe-be02b2209071"
      },
      "source": [
        "import torch\r\n",
        "# First checking if GPU is available\r\n",
        "train_on_gpu=torch.cuda.is_available()\r\n",
        "\r\n",
        "if(train_on_gpu):\r\n",
        "    print('Training on GPU.')\r\n",
        "else:\r\n",
        "    print('No GPU available, training on CPU.')"
      ],
      "execution_count": 9,
      "outputs": [
        {
          "output_type": "stream",
          "text": [
            "Training on GPU.\n"
          ],
          "name": "stdout"
        }
      ]
    },
    {
      "cell_type": "markdown",
      "metadata": {
        "id": "jnmaBb9USUJm"
      },
      "source": [
        "## Word embedding - GloVe\n",
        "GloVe is an unsupervised learning algorithm for obtaining vector representations for words. Training is performed on aggregated global word-word co-occurrence statistics from a corpus, and the resulting representations showcase interesting linear substructures of the word vector space. "
      ]
    },
    {
      "cell_type": "code",
      "metadata": {
        "id": "Jmlwwy9ynWQ9",
        "outputId": "cab072ce-a7b6-4978-ccbd-6b6fa2d71135",
        "colab": {
          "base_uri": "https://localhost:8080/"
        }
      },
      "source": [
        "from torchtext.vocab import GloVe\n",
        "glove = GloVe(name='twitter.27B', dim=25)"
      ],
      "execution_count": 10,
      "outputs": [
        {
          "output_type": "stream",
          "text": [
            ".vector_cache/glove.twitter.27B.zip: 1.52GB [11:42, 2.16MB/s]                            \n",
            "100%|█████████▉| 1192716/1193514 [00:23<00:00, 53322.49it/s]"
          ],
          "name": "stderr"
        }
      ]
    },
    {
      "cell_type": "code",
      "metadata": {
        "id": "5l1kQXuOjXtZ"
      },
      "source": [
        "from torchtext.data import Field\n",
        "text_field = Field(sequential=True,tokenize='spacy',fix_length=100)\n",
        "\n",
        "label_field = Field(sequential=False, use_vocab=False)\n",
        "preprocessed_text = df['text'].apply(lambda x: text_field.preprocess(x)) #apply preprocess manually\n",
        "text_field.build_vocab(preprocessed_text, vectors=glove)  # load embedding with 25d\n",
        "vocab = text_field.vocab  # get the vocab instance"
      ],
      "execution_count": 11,
      "outputs": []
    },
    {
      "cell_type": "markdown",
      "metadata": {
        "id": "GTdO_4EFmZIS"
      },
      "source": [
        "### Create the datasets\n",
        "\n",
        "We have train, validation and test datasets that contain text and label information. Train has 80%, validation 10% and test 10%."
      ]
    },
    {
      "cell_type": "code",
      "metadata": {
        "id": "Vev1gKGRxQ-o",
        "outputId": "b8ed216d-a98c-4557-92d6-fc49314fce06",
        "colab": {
          "base_uri": "https://localhost:8080/"
        }
      },
      "source": [
        "from torchtext.data import Dataset, Example\n",
        "fields = (('target', label_field),('text', text_field))\n",
        "train_dataset, valid_dataset, test_dataset= Dataset(examples=[Example.fromlist(list(r), fields)\n",
        "                                               for i, r in df.iterrows()],\n",
        "                                               fields = fields).split(split_ratio = [0.8, 0.1, 0.1])"
      ],
      "execution_count": 12,
      "outputs": [
        {
          "output_type": "stream",
          "text": [
            "\r100%|█████████▉| 1192716/1193514 [00:40<00:00, 53322.49it/s]"
          ],
          "name": "stderr"
        }
      ]
    },
    {
      "cell_type": "markdown",
      "metadata": {
        "id": "F9sqYkzgSUJm"
      },
      "source": [
        "## Batching sentences together \n",
        "Use *BucketIterator* to create the batches for the 3 datasets with batch size 64."
      ]
    },
    {
      "cell_type": "code",
      "metadata": {
        "id": "MugWDpHxSUJm"
      },
      "source": [
        "from torchtext.data import BucketIterator\n",
        "train_iter, valid_iter, test_iter = BucketIterator.splits(datasets=(train_dataset, valid_dataset, test_dataset),\n",
        "                                                          batch_sizes=(64,64,64), sort=False,device = 'cuda' if train_on_gpu else 'cpu')"
      ],
      "execution_count": 13,
      "outputs": []
    },
    {
      "cell_type": "markdown",
      "metadata": {
        "id": "jzGmJL_PSUJm"
      },
      "source": [
        "## Architecture of RNN"
      ]
    },
    {
      "cell_type": "code",
      "metadata": {
        "id": "KwEPmlI8yjK-"
      },
      "source": [
        "import torch.nn as nn\n",
        "import numpy as np\n",
        "from numpy import zeros"
      ],
      "execution_count": 14,
      "outputs": []
    },
    {
      "cell_type": "code",
      "metadata": {
        "id": "54r961vkSUJm"
      },
      "source": [
        "class GRUclassifier(nn.Module):\n",
        "    \"\"\"\n",
        "    Wrapper module for RNN, LSTM, GRU cells using pytorch api. \n",
        "    The output is fed to a FFN for classification.\n",
        "    \"\"\"\n",
        "    def __init__(self,embedding, input_size, output_size,embedding_dim = 25, \\\n",
        "                 hidden_size=100, num_layers=1, bidirectional=False, dropout = 0):\n",
        "        super(GRUclassifier, self).__init__()\n",
        "        \n",
        "        # Initializations\n",
        "        self.embedding = embedding\n",
        "        # dropout layer\n",
        "        self.dropout = nn.Dropout(dropout)\n",
        "        self.input_size, self.hidden_size, self.num_layers, self.output_size = input_size, hidden_size, num_layers, output_size\n",
        "        self.bidirectional = bidirectional\n",
        "        self.sigmoid = nn.Sigmoid()\n",
        "        self.rnn = nn.GRU(         # Pick the specific model\n",
        "            input_size=embedding_dim,           # Number of features for each time step\n",
        "            hidden_size=hidden_size,         # Rnn hidden embedding representation\n",
        "            num_layers=num_layers,           # Number of layers (if >1 it is a stacked RNN)\n",
        "            dropout=dropout,\n",
        "            bidirectional=bidirectional, # If true it is a \n",
        "            batch_first=True,       # input & output will have batch size as 1st dimension. e.g. (batch, time_step, input_size)\n",
        "        )\n",
        "        \n",
        "        if bidirectional: # we'll have 2 more layers as the output to the final layer\n",
        "            self.out = nn.Linear(hidden_size * 2, output_size)\n",
        "        else:\n",
        "            self.out = nn.Linear(hidden_size, output_size)\n",
        "            \n",
        "    def forward(self, x, prints=False):\n",
        "\n",
        "        x = self.embedding[x]\n",
        "\n",
        "        if train_on_gpu:\n",
        "          x = x.cuda()\n",
        "\n",
        "        r_out, last_hidden_state = self.rnn(x.detach())\n",
        "      \n",
        "        r_out = r_out[:, -1, :]\n",
        "\n",
        "        out = self.out(r_out)\n",
        "\n",
        "        out = self.dropout(out)\n",
        "\n",
        "        return self.sigmoid(out)"
      ],
      "execution_count": 15,
      "outputs": []
    },
    {
      "cell_type": "code",
      "metadata": {
        "id": "UP2XqfdmSUJm"
      },
      "source": [
        "def train(model,X,y,optimizer,loss_fn):\n",
        "\n",
        "    if train_on_gpu:\n",
        "      X, y = X.cuda(), y.cuda()\n",
        "\n",
        "# step 1. Zero the gradients\n",
        "    optimizer.zero_grad()\n",
        "# step 2. Compute the output\n",
        "    y_pred = model(X)\n",
        "\n",
        "    if train_on_gpu:\n",
        "      y_pred = y_pred.squeeze().cuda()\n",
        "    else:\n",
        "      y_pred = y_pred.squeeze()\n",
        "# step 3. Compute the loss\n",
        "    loss = loss_fn(y_pred, y)\n",
        "# step 4. use loss to produce gradients\n",
        "    loss.backward()\n",
        "# step 5. use optimizer to take gradient step\n",
        "    optimizer.step()\n",
        "\n",
        "    return loss.item(),y_pred"
      ],
      "execution_count": 16,
      "outputs": []
    },
    {
      "cell_type": "code",
      "metadata": {
        "id": "_IePE6WPRvPL"
      },
      "source": [
        "def validate(classifier,X,y,loss_fn):\n",
        "  y_pred =  classifier(X)\n",
        "\n",
        "  if train_on_gpu:\n",
        "    y_pred = y_pred.squeeze().cuda()\n",
        "  else:\n",
        "    y_pred = y_pred.squeeze()\n",
        "\n",
        "  loss = loss_fn(y_pred, y)\n",
        "\n",
        "  return loss.item(),y_pred\n"
      ],
      "execution_count": 17,
      "outputs": []
    },
    {
      "cell_type": "code",
      "metadata": {
        "id": "Mw4BimL-SUJm"
      },
      "source": [
        "def predict(model,X):\n",
        "    outputs = model(X)\n",
        "    return torch.round(outputs)"
      ],
      "execution_count": 18,
      "outputs": []
    },
    {
      "cell_type": "markdown",
      "metadata": {
        "id": "i97djlJBSUJn"
      },
      "source": [
        "# Functions for training and testing net\n",
        "\n"
      ]
    },
    {
      "cell_type": "code",
      "metadata": {
        "id": "QIgk8Zm_Gai4"
      },
      "source": [
        "from sklearn.metrics import accuracy_score, f1_score,recall_score,precision_score\r\n",
        "\r\n",
        "def trainNet(net,train_iter,valid_iter,num_epochs,clip_param):\r\n",
        "  # move model to GPU, if available\r\n",
        "  if train_on_gpu:\r\n",
        "    net.cuda()\r\n",
        "\r\n",
        "  # Accumulate losses\r\n",
        "  train_losses = []\r\n",
        "  valid_losses = []\r\n",
        "  epoch_train_losses = []\r\n",
        "  epoch_valid_losses = []\r\n",
        "\r\n",
        "  train_accuracy = []\r\n",
        "  valid_accuracy = []\r\n",
        "\r\n",
        "  for epoch in range(num_epochs):\r\n",
        "\r\n",
        "      #change to train mode\r\n",
        "      net.train() \r\n",
        "\r\n",
        "      train_accuracy = []\r\n",
        "      valid_accuracy = []\r\n",
        "\r\n",
        "      epoch_train_losses = []\r\n",
        "      epoch_valid_losses = []\r\n",
        "      for batch in train_iter:\r\n",
        "\r\n",
        "        if(train_on_gpu):\r\n",
        "          batch.text, batch.target = batch.text.cuda(), batch.target.cuda()\r\n",
        "          target = batch.target.float().cuda()\r\n",
        "        else:\r\n",
        "          target = batch.target.float()\r\n",
        "\r\n",
        "\r\n",
        "        loss, pred = train(net, batch.text.T, target, optimizer, loss_function)\r\n",
        "        epoch_train_losses.append(loss)\r\n",
        "        \r\n",
        "        pred = torch.round(pred).cpu().detach().numpy()\r\n",
        "        test = batch.target.cpu().float()\r\n",
        "        test = test.cpu().numpy()\r\n",
        "\r\n",
        "        train_accuracy.append(accuracy_score(test, pred))\r\n",
        "\r\n",
        "        #Clip gradients\r\n",
        "        for param in net.parameters():\r\n",
        "            if param.grad is None:\r\n",
        "                continue\r\n",
        "            grad_val = torch.clamp(param.grad, -clip_param, clip_param)\r\n",
        "      \r\n",
        "      # change to evaluation mode\r\n",
        "      net.eval()\r\n",
        "\r\n",
        "      for batch in valid_iter:\r\n",
        "          with torch.no_grad():\r\n",
        "            # Faster inference\r\n",
        "              if(train_on_gpu):\r\n",
        "                    inputs, labels = batch.text.cuda(), batch.target.float().cuda()\r\n",
        "              else:\r\n",
        "                inputs, labels = batch.text, batch.target.float()\r\n",
        "              \r\n",
        "              loss, pred = validate(net, inputs.T, labels,loss_function)\r\n",
        "              epoch_valid_losses.append(loss)\r\n",
        "\r\n",
        "              pred = torch.round(pred).cpu().detach().numpy()\r\n",
        "              valid = labels.cpu()\r\n",
        "              valid = valid.cpu().numpy()\r\n",
        "\r\n",
        "              valid_accuracy.append(accuracy_score(valid, pred))\r\n",
        "              # print(f'Epoch: {epoch}| Validation CE loss: {loss:4f} | Test accuracy: {100 * valid_accuracy[-1]:.2f} %')\r\n",
        "\r\n",
        "      print(f'Epoch: {epoch}|| Train accuracy: {100 * np.mean(train_accuracy):.2f} | Valid accuracy: {100 * np.mean(valid_accuracy):.2f} %')\r\n",
        "      \r\n",
        "      train_losses.append(np.mean(epoch_train_losses))\r\n",
        "      valid_losses.append(np.mean(epoch_valid_losses))\r\n",
        "\r\n",
        "  return train_losses,valid_losses\r\n",
        "\r\n"
      ],
      "execution_count": 19,
      "outputs": []
    },
    {
      "cell_type": "code",
      "metadata": {
        "id": "ntrRESB_VpGk"
      },
      "source": [
        "import matplotlib.pyplot as plt\n",
        "\n",
        "def lossVSepoch(valid_losses,train_losses):\n",
        "\n",
        "    plt.figure(figsize=(8,5))\n",
        "\n",
        "    plt.plot(valid_losses,'o-',color=\"r\")\n",
        "\n",
        "    plt.plot(train_losses,'o-',color=\"g\")\n",
        "\n",
        "    plt.grid()\n",
        "\n",
        "    plt.plot(valid_losses, 'o-', color=\"r\",\n",
        "                    label=\"Validation loss\")\n",
        "    plt.plot(train_losses,  'o-', color=\"g\",\n",
        "                    label=\"Training loss\")\n",
        "\n",
        "    plt.legend(loc=\"best\")\n",
        "\n",
        "    plt.xlabel(\"epochs\")\n",
        "    plt.ylabel(\"losses\")\n",
        "    plt.title(\"Scalability of the model\")\n",
        "\n",
        "    plt.show()"
      ],
      "execution_count": 20,
      "outputs": []
    },
    {
      "cell_type": "code",
      "metadata": {
        "id": "RSq0OlyjSUJn"
      },
      "source": [
        "from sklearn.metrics import accuracy_score, f1_score,recall_score,precision_score\n",
        "from sklearn.metrics import classification_report\n",
        "\n",
        "def testNet(net, test_iter):\n",
        "\n",
        "  accuracy = []\n",
        "  f1 = []\n",
        "  recall = []\n",
        "  precision = []\n",
        "  report = []\n",
        "\n",
        "  for batch in test_iter:\n",
        "\n",
        "      if(train_on_gpu):\n",
        "        batch.text, batch.target = batch.text.cuda(), batch.target.cuda()\n",
        "        \n",
        "      y_pred = predict(net,batch.text.T)\n",
        "      y_pred = y_pred.cpu().detach().numpy()\n",
        "      y_test = batch.target.cpu().float()\n",
        "      y_test = y_test.cpu().numpy()\n",
        "\n",
        "      acc = accuracy_score(y_test, y_pred)\n",
        "      f1_sc = f1_score(y_test, y_pred, average='macro',labels=np.unique(y_pred))\n",
        "      rec = recall_score(y_test, y_pred, average='macro')\n",
        "      prec = precision_score(y_test, y_pred, average='macro',labels=np.unique(y_pred))\n",
        "      \n",
        "      accuracy.append(acc)\n",
        "      f1.append(f1_sc)\n",
        "      recall.append(rec)\n",
        "      precision.append(prec)\n",
        "\n",
        "  print('\\n------------------- Scores ----------------------\\n')\n",
        "  print(f'Accuracy: {100 * np.mean(accuracy):.2f} %')\n",
        "  print(f'F1-score: {100 * np.mean(f1):.2f} %')\n",
        "  print(f'Recall-score: {100 * np.mean(recall):.2f} %')\n",
        "  print(f'Precision: {100 * np.mean(precision):.2f} %')\n",
        "  \n",
        "  return np.mean(accuracy),np.mean(f1),np.mean(recall),np.mean(precision)"
      ],
      "execution_count": 21,
      "outputs": []
    },
    {
      "cell_type": "markdown",
      "metadata": {
        "id": "A7867YrjzqVZ"
      },
      "source": [
        "## Create dataframe to keep all experiments"
      ]
    },
    {
      "cell_type": "code",
      "metadata": {
        "id": "cK_cjXZKzpHJ"
      },
      "source": [
        "FinalDf = pd.DataFrame(columns=[['Cell type','Layers of stacked RNNs','Hidden size of layers','Skip connections',\\\r\n",
        "                                 'gradient clipping','Dropout prob','Accuracy','F1-score','Recall-score','Precision']])"
      ],
      "execution_count": 22,
      "outputs": []
    },
    {
      "cell_type": "markdown",
      "metadata": {
        "id": "DCKcoFKcil_u"
      },
      "source": [
        "## Neural Network - **GRU**"
      ]
    },
    {
      "cell_type": "markdown",
      "metadata": {
        "id": "lI1tCUCvlPIX"
      },
      "source": [
        "### Experiment with different number of hidden layers and their size\r\n"
      ]
    },
    {
      "cell_type": "code",
      "metadata": {
        "colab": {
          "base_uri": "https://localhost:8080/",
          "height": 679
        },
        "id": "4Ot5JfiklIXo",
        "outputId": "4e8da9e7-154f-499a-8376-e62f25a2cf4e"
      },
      "source": [
        "# ============\r\n",
        "input_size = 100       # length is 100, given in Field\r\n",
        "output_size = 1     \r\n",
        "bidirectional = True\r\n",
        "cell_type = 'GRU'\r\n",
        "embedding_dim = 25\r\n",
        "# =============================\r\n",
        "hidden_size = 256     # number of hidden neurons\r\n",
        "num_layers = 2        # number of layers\r\n",
        "dropout = 0.0\r\n",
        "clip_param = 1\r\n",
        "# =============================\r\n",
        "num_epochs = 5\r\n",
        "LR = 0.01\r\n",
        "loss_function = nn.BCELoss()\r\n",
        "# ==============================\r\n",
        "\r\n",
        "net = GRUclassifier(vocab.vectors, input_size, output_size,embedding_dim, hidden_size, num_layers, bidirectional,dropout)\r\n",
        "optimizer = torch.optim.Adam(net.parameters(), lr=LR)   # optimize all net parameters\r\n",
        "\r\n",
        "print(f\"\\nGRU model\")\r\n",
        "print(\"-----------------------------------------------------------------\\n\")\r\n",
        "valid_losses,train_losses = trainNet(net,train_iter,valid_iter,num_epochs,clip_param)\r\n",
        "acc, f1,recall,precision = testNet(net, test_iter)\r\n",
        "FinalDf.loc[len(FinalDf)] = [cell_type,num_layers,hidden_size,'-',clip_param,dropout,acc,f1,recall,precision]\r\n",
        "print(\"\\n------------- Loss vs Epochs plot ---------------\\n\")\r\n",
        "lossVSepoch(valid_losses,train_losses)"
      ],
      "execution_count": 23,
      "outputs": [
        {
          "output_type": "stream",
          "text": [
            "\n",
            "GRU model\n",
            "-----------------------------------------------------------------\n",
            "\n",
            "Epoch: 0|| Train accuracy: 63.47 | Valid accuracy: 69.24 %\n",
            "Epoch: 1|| Train accuracy: 71.97 | Valid accuracy: 73.54 %\n",
            "Epoch: 2|| Train accuracy: 74.29 | Valid accuracy: 74.84 %\n",
            "Epoch: 3|| Train accuracy: 75.36 | Valid accuracy: 73.00 %\n",
            "Epoch: 4|| Train accuracy: 76.64 | Valid accuracy: 76.07 %\n",
            "\n",
            "------------------- Scores ----------------------\n",
            "\n",
            "Accuracy: 76.60 %\n",
            "F1-score: 76.23 %\n",
            "Recall-score: 76.56 %\n",
            "Precision: 76.68 %\n",
            "\n",
            "------------- Loss vs Epochs plot ---------------\n",
            "\n"
          ],
          "name": "stdout"
        },
        {
          "output_type": "display_data",
          "data": {
            "image/png": "[encoded data removed]",
            "text/plain": [
              "<Figure size 576x360 with 1 Axes>"
            ]
          },
          "metadata": {
            "tags": [],
            "needs_background": "light"
          }
        }
      ]
    },
    {
      "cell_type": "code",
      "metadata": {
        "id": "Ef213uA9hWIt",
        "colab": {
          "base_uri": "https://localhost:8080/",
          "height": 97
        },
        "outputId": "a15654a7-812b-48da-b0b7-eb205da984fa"
      },
      "source": [
        "FinalDf"
      ],
      "execution_count": 24,
      "outputs": [
        {
          "output_type": "execute_result",
          "data": {
            "text/html": [
              "<div>\n",
              "<style scoped>\n",
              "    .dataframe tbody tr th:only-of-type {\n",
              "        vertical-align: middle;\n",
              "    }\n",
              "\n",
              "    .dataframe tbody tr th {\n",
              "        vertical-align: top;\n",
              "    }\n",
              "\n",
              "    .dataframe thead tr th {\n",
              "        text-align: left;\n",
              "    }\n",
              "</style>\n",
              "<table border=\"1\" class=\"dataframe\">\n",
              "  <thead>\n",
              "    <tr>\n",
              "      <th></th>\n",
              "      <th>Cell type</th>\n",
              "      <th>Layers of stacked RNNs</th>\n",
              "      <th>Hidden size of layers</th>\n",
              "      <th>Skip connections</th>\n",
              "      <th>gradient clipping</th>\n",
              "      <th>Dropout prob</th>\n",
              "      <th>Accuracy</th>\n",
              "      <th>F1-score</th>\n",
              "      <th>Recall-score</th>\n",
              "      <th>Precision</th>\n",
              "    </tr>\n",
              "  </thead>\n",
              "  <tbody>\n",
              "    <tr>\n",
              "      <th>0</th>\n",
              "      <td>GRU</td>\n",
              "      <td>2</td>\n",
              "      <td>256</td>\n",
              "      <td>-</td>\n",
              "      <td>1</td>\n",
              "      <td>0.0</td>\n",
              "      <td>0.766021</td>\n",
              "      <td>0.762267</td>\n",
              "      <td>0.765629</td>\n",
              "      <td>0.766802</td>\n",
              "    </tr>\n",
              "  </tbody>\n",
              "</table>\n",
              "</div>"
            ],
            "text/plain": [
              "  Cell type Layers of stacked RNNs  ... Recall-score Precision\n",
              "0       GRU                      2  ...     0.765629  0.766802\n",
              "\n",
              "[1 rows x 10 columns]"
            ]
          },
          "metadata": {
            "tags": []
          },
          "execution_count": 24
        }
      ]
    },
    {
      "cell_type": "markdown",
      "metadata": {
        "id": "NvDpaqot_wt0"
      },
      "source": [
        "## **ROC-Curve** \n",
        "*This function is taken from a previous work done with a partner*"
      ]
    },
    {
      "cell_type": "code",
      "metadata": {
        "id": "99OxeQBB_wt0"
      },
      "source": [
        "from sklearn import datasets\n",
        "from sklearn.metrics import roc_curve,auc\n",
        "from numpy import interp\n",
        "from itertools import cycle\n",
        "\n",
        "def create_ROCplot(n_classes,predictions,y_test,title):\n",
        "\n",
        "    fpr = dict()\n",
        "    tpr = dict()\n",
        "    roc_auc = dict()\n",
        "\n",
        "    classes = [0,1]\n",
        "\n",
        "    plt.figure(figsize=(8,5))\n",
        "    plt.grid()\n",
        "    \n",
        "\n",
        "    for i in range(n_classes):\n",
        "        fpr[i], tpr[i], _ = roc_curve(np.array(pd.get_dummies(y_test))[:, i], np.array(pd.get_dummies(predictions))[:, i])\n",
        "        roc_auc[i] = auc(fpr[i], tpr[i])\n",
        "\n",
        "\n",
        "    all_fpr = np.unique(np.concatenate([fpr[i] for i in range(n_classes)]))\n",
        "\n",
        "    mean_tpr = np.zeros_like(all_fpr)\n",
        "    for i in range(n_classes):\n",
        "        mean_tpr += interp(all_fpr, fpr[i], tpr[i])\n",
        "\n",
        "    mean_tpr /= n_classes\n",
        "\n",
        "    fpr[\"macro\"] = all_fpr\n",
        "    tpr[\"macro\"] = mean_tpr\n",
        "    roc_auc[\"macro\"] = auc(fpr[\"macro\"], tpr[\"macro\"])\n",
        "\n",
        "    lw=2\n",
        "\n",
        "    plt.plot(fpr[\"macro\"],tpr[\"macro\"],label='macro-average ROC curve ',\n",
        "             color='green', linestyle=':', linewidth=4)\n",
        "\n",
        "    colors = cycle(['aqua', 'darkorange'])\n",
        "    for i, color in zip(range(n_classes), colors):\n",
        "        plt.plot(fpr[i], tpr[i], color=color,lw=lw,label='Class - {0} '.format(classes[i]))\n",
        "\n",
        "   \n",
        "    plt.plot([0, 1], [0, 1], 'k--',color='red', lw=lw)\n",
        "   \n",
        "    plt.annotate('Random Guess',(.5,.48),color='red')\n",
        "    plt.xlabel('False Positive Rate')\n",
        "    plt.ylabel('True Positive Rate')\n",
        "    plt.title(title,fontsize=20,fontweight='bold')\n",
        "    plt.legend(loc=\"lower right\")\n",
        "    plt.show()"
      ],
      "execution_count": 25,
      "outputs": []
    },
    {
      "cell_type": "code",
      "metadata": {
        "id": "-nT-60rp_wt0"
      },
      "source": [
        "import torch\n",
        "import torch.nn as nn\n",
        "from torch.utils.data import TensorDataset, DataLoader\n",
        "\n",
        "batch_size = len(test_dataset)\n",
        "rain_iter, valid_iter, test_iter = BucketIterator.splits(datasets=(train_dataset, valid_dataset, test_dataset),\n",
        "                                                          batch_sizes=(64,64,batch_size), sort=False,device = 'cuda' if train_on_gpu else 'cpu')"
      ],
      "execution_count": 26,
      "outputs": []
    },
    {
      "cell_type": "code",
      "metadata": {
        "id": "iQTgtTj3_wt0",
        "outputId": "075d7ad8-cb7d-434d-f7e8-6b8862d5977c",
        "colab": {
          "base_uri": "https://localhost:8080/",
          "height": 355
        }
      },
      "source": [
        "for batch in test_iter:\n",
        "\n",
        "  if(train_on_gpu):\n",
        "    batch.text, batch.target = batch.text.cuda(), batch.target.cuda()\n",
        "    \n",
        "  y_pred = predict(net,batch.text.T)\n",
        "  y_pred = y_pred.cpu().detach().numpy().reshape(-1)\n",
        "  y_test = batch.target.cpu().float()\n",
        "  y_test = y_test.cpu().numpy()\n",
        "\n",
        "  create_ROCplot(2,y_pred,y_test,'Roc-Plot')   "
      ],
      "execution_count": 27,
      "outputs": [
        {
          "output_type": "display_data",
          "data": {
            "image/png": "[encoded data removed]",
            "text/plain": [
              "<Figure size 576x360 with 1 Axes>"
            ]
          },
          "metadata": {
            "tags": [],
            "needs_background": "light"
          }
        }
      ]
    },
    {
      "cell_type": "code",
      "metadata": {
        "id": "7S2SDupSneH5",
        "outputId": "11739759-581b-4819-b3c3-3a8df1d10bcc",
        "colab": {
          "base_uri": "https://localhost:8080/"
        }
      },
      "source": [
        "print(classification_report(y_test, y_pred,labels=np.unique(y_pred)))"
      ],
      "execution_count": 28,
      "outputs": [
        {
          "output_type": "stream",
          "text": [
            "              precision    recall  f1-score   support\n",
            "\n",
            "         0.0       0.78      0.74      0.76      2479\n",
            "         1.0       0.75      0.79      0.77      2521\n",
            "\n",
            "    accuracy                           0.77      5000\n",
            "   macro avg       0.77      0.77      0.77      5000\n",
            "weighted avg       0.77      0.77      0.77      5000\n",
            "\n"
          ],
          "name": "stdout"
        }
      ]
    },
    {
      "cell_type": "markdown",
      "metadata": {
        "id": "GKb9Y-dA0-ad"
      },
      "source": [
        "# Confusion Matrix"
      ]
    },
    {
      "cell_type": "code",
      "metadata": {
        "id": "IMZILyyza9pm"
      },
      "source": [
        "import matplotlib.pyplot as plt\r\n",
        "import numpy as np\r\n",
        "import itertools\r\n",
        "\r\n",
        "def plot_confusion_matrix(cm, classes, normalize=False, title='Confusion matrix', cmap=plt.cm.Oranges):\r\n",
        "\r\n",
        "    plt.imshow(cm, interpolation='nearest', cmap=cmap)\r\n",
        "    plt.title(title)\r\n",
        "    plt.colorbar()\r\n",
        "    tick_marks = np.arange(len(classes))\r\n",
        "    plt.xticks(tick_marks, classes, rotation=45)\r\n",
        "    plt.yticks(tick_marks, classes)\r\n",
        "\r\n",
        "    thresh = cm.max() / 2.\r\n",
        "    for i, j in itertools.product(range(cm.shape[0]), range(cm.shape[1])):\r\n",
        "        plt.text(j, i, cm[i, j],\r\n",
        "                 horizontalalignment=\"center\",\r\n",
        "                 color=\"black\" if cm[i, j] > thresh else \"red\")\r\n",
        "\r\n",
        "    plt.tight_layout()\r\n",
        "    plt.ylabel('True label')\r\n",
        "    plt.xlabel('Predicted label')\r\n",
        "    plt.tight_layout()\r\n",
        "    plt.ylim([1.5, -.5])\r\n",
        "    plt.show()"
      ],
      "execution_count": 30,
      "outputs": []
    },
    {
      "cell_type": "code",
      "metadata": {
        "id": "SC6_5A4R0-tH",
        "outputId": "f512101f-8f0e-459a-b6d0-4ac9c57c7f48",
        "colab": {
          "base_uri": "https://localhost:8080/",
          "height": 297
        }
      },
      "source": [
        "from sklearn.metrics import confusion_matrix\r\n",
        "\r\n",
        "cm = confusion_matrix(y_test, y_pred, labels=[0, 1])\r\n",
        "plot_confusion_matrix(cm, classes=['0', '1'])"
      ],
      "execution_count": 31,
      "outputs": [
        {
          "output_type": "display_data",
          "data": {
            "image/png": "[encoded data removed]",
            "text/plain": [
              "<Figure size 432x288 with 2 Axes>"
            ]
          },
          "metadata": {
            "tags": [],
            "needs_background": "light"
          }
        }
      ]
    },
    {
      "cell_type": "markdown",
      "metadata": {
        "id": "ILDXl02Rl9c0"
      },
      "source": [
        "# **Remarks**"
      ]
    },
    {
      "cell_type": "markdown",
      "metadata": {
        "id": "ICYMgJqXmDlE"
      },
      "source": [
        "\n",
        "\n",
        "*   For this model we used GloVe for the pre-process, with vector size 25. RMS was chosen as an optimizer and BCELoss as loss function, because of the binary classification.\n",
        "*   For neural network architecture:\n",
        "\n",
        "> * The first layer is an Embedding layer, which matches the input vectors to the vocabulary vectors.\n",
        "> * The second layer is a Linear hidden layer,which accepts as input size, the size of the features multiplied by the size of the GloVe vectors. It uses ReLU as activation function.\n",
        ">* The output layer is Linear with input dimension  200 and output 1 with sigmoid as activation function.\n",
        "\n",
        "\n",
        "\n",
        "\n",
        "\n",
        "\n",
        "\n"
      ]
    },
    {
      "cell_type": "markdown",
      "metadata": {
        "id": "ItgHWhmHOHNz"
      },
      "source": [
        "## References"
      ]
    },
    {
      "cell_type": "markdown",
      "metadata": {
        "id": "aFC-MQOGOKd8"
      },
      "source": [
        "\n",
        "\n",
        "*   https://towardsdatascience.com/deep-learning-for-nlp-with-pytorch-and-torchtext-4f92d69052f\n",
        "\n",
        "\n"
      ]
    }
  ]
}