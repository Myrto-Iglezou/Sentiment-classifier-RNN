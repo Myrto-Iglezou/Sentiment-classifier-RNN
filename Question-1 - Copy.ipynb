{
  "nbformat": 4,
  "nbformat_minor": 0,
  "metadata": {
    "colab": {
      "name": "model4.ipynb",
      "provenance": [],
      "include_colab_link": true
    },
    "kernelspec": {
      "name": "python3",
      "display_name": "Python 3"
    },
    "accelerator": "GPU"
  },
  "cells": [
    {
      "cell_type": "markdown",
      "metadata": {
        "id": "view-in-github",
        "colab_type": "text"
      },
      "source": [
        "<a href=\"https://colab.research.google.com/github/Myrto-Iglezou/AI2-project3/blob/master/Question-1.ipynb\" target=\"_parent\"><img src=\"https://colab.research.google.com/assets/colab-badge.svg\" alt=\"Open In Colab\"/></a>"
      ]
    },
    {
      "cell_type": "markdown",
      "metadata": {
        "id": "eOoUR08ESUJj"
      },
      "source": [
        "## YΣ19 Artificial Intelligence II\n",
        "# Homework 3\n",
        "\n",
        "### Iglezou Myrto - 111520170038"
      ]
    },
    {
      "cell_type": "markdown",
      "metadata": {
        "id": "FF6rJUV7SUJk"
      },
      "source": [
        "# Question 1"
      ]
    },
    {
      "cell_type": "code",
      "metadata": {
        "id": "vqFzJfkjSUJk"
      },
      "source": [
        "import pandas as pd \n",
        "from pandas import DataFrame, read_csv"
      ],
      "execution_count": 2,
      "outputs": []
    },
    {
      "cell_type": "markdown",
      "metadata": {
        "id": "eg6ZVC_nyPH0"
      },
      "source": [
        "Download the dataset."
      ]
    },
    {
      "cell_type": "code",
      "metadata": {
        "colab": {
          "base_uri": "https://localhost:8080/",
          "height": 202
        },
        "id": "wsFlMttISUJk",
        "outputId": "8772d795-04af-4480-c973-1f225b58d102"
      },
      "source": [
        "import gdown\n",
        "url = 'https://drive.google.com/file/d/1dTIWNpjlrnTQBIQtaGOh0jCRYZiAQO79/view?usp=sharing'\n",
        "path = 'https://drive.google.com/uc?export=download&id='+url.split('/')[-2]\n",
        "output = \"twitterData.csv\"\n",
        "gdown.download(path, output, quiet=True)\n",
        "twitterData = pd.read_csv(\"/content/twitterData.csv\",nrows=20000)\n",
        "df = pd.DataFrame(data=twitterData)\n",
        "df.head(5)"
      ],
      "execution_count": 3,
      "outputs": [
        {
          "output_type": "execute_result",
          "data": {
            "text/html": [
              "<div>\n",
              "<style scoped>\n",
              "    .dataframe tbody tr th:only-of-type {\n",
              "        vertical-align: middle;\n",
              "    }\n",
              "\n",
              "    .dataframe tbody tr th {\n",
              "        vertical-align: top;\n",
              "    }\n",
              "\n",
              "    .dataframe thead th {\n",
              "        text-align: right;\n",
              "    }\n",
              "</style>\n",
              "<table border=\"1\" class=\"dataframe\">\n",
              "  <thead>\n",
              "    <tr style=\"text-align: right;\">\n",
              "      <th></th>\n",
              "      <th>Unnamed: 0</th>\n",
              "      <th>target</th>\n",
              "      <th>id</th>\n",
              "      <th>date</th>\n",
              "      <th>flag</th>\n",
              "      <th>user</th>\n",
              "      <th>text</th>\n",
              "    </tr>\n",
              "  </thead>\n",
              "  <tbody>\n",
              "    <tr>\n",
              "      <th>0</th>\n",
              "      <td>680949</td>\n",
              "      <td>0</td>\n",
              "      <td>2249621587</td>\n",
              "      <td>Fri Jun 19 22:41:08 PDT 2009</td>\n",
              "      <td>NO_QUERY</td>\n",
              "      <td>sukumarpant</td>\n",
              "      <td>#brokenpromises...</td>\n",
              "    </tr>\n",
              "    <tr>\n",
              "      <th>1</th>\n",
              "      <td>406741</td>\n",
              "      <td>0</td>\n",
              "      <td>2059003515</td>\n",
              "      <td>Sat Jun 06 16:03:21 PDT 2009</td>\n",
              "      <td>NO_QUERY</td>\n",
              "      <td>MTMSparrow</td>\n",
              "      <td>David Carradine  so sad. Thai's law not sure i...</td>\n",
              "    </tr>\n",
              "    <tr>\n",
              "      <th>2</th>\n",
              "      <td>1337108</td>\n",
              "      <td>4</td>\n",
              "      <td>2017466467</td>\n",
              "      <td>Wed Jun 03 08:26:14 PDT 2009</td>\n",
              "      <td>NO_QUERY</td>\n",
              "      <td>itsmemcee</td>\n",
              "      <td>A @ 415 B @ 425. Tell your bro i say congrats!</td>\n",
              "    </tr>\n",
              "    <tr>\n",
              "      <th>3</th>\n",
              "      <td>1560887</td>\n",
              "      <td>4</td>\n",
              "      <td>2186457254</td>\n",
              "      <td>Mon Jun 15 18:52:04 PDT 2009</td>\n",
              "      <td>NO_QUERY</td>\n",
              "      <td>jdfreivald</td>\n",
              "      <td>@littlefluffycat  Indeed.</td>\n",
              "    </tr>\n",
              "    <tr>\n",
              "      <th>4</th>\n",
              "      <td>1466295</td>\n",
              "      <td>4</td>\n",
              "      <td>2064458395</td>\n",
              "      <td>Sun Jun 07 06:19:20 PDT 2009</td>\n",
              "      <td>NO_QUERY</td>\n",
              "      <td>CrazyHan</td>\n",
              "      <td>Completed Race 4 Life in 58mins with girlies f...</td>\n",
              "    </tr>\n",
              "  </tbody>\n",
              "</table>\n",
              "</div>"
            ],
            "text/plain": [
              "   Unnamed: 0  ...                                               text\n",
              "0      680949  ...                                #brokenpromises... \n",
              "1      406741  ...  David Carradine  so sad. Thai's law not sure i...\n",
              "2     1337108  ...    A @ 415 B @ 425. Tell your bro i say congrats! \n",
              "3     1560887  ...                          @littlefluffycat  Indeed.\n",
              "4     1466295  ...  Completed Race 4 Life in 58mins with girlies f...\n",
              "\n",
              "[5 rows x 7 columns]"
            ]
          },
          "metadata": {
            "tags": []
          },
          "execution_count": 3
        }
      ]
    },
    {
      "cell_type": "markdown",
      "metadata": {
        "id": "gFooeAwdyEvP"
      },
      "source": [
        "Creating a new dataframe with only two columns, target and text.\n"
      ]
    },
    {
      "cell_type": "code",
      "metadata": {
        "colab": {
          "base_uri": "https://localhost:8080/",
          "height": 202
        },
        "id": "oiQYE49Z8lAC",
        "outputId": "c289186a-cf59-4066-8ee5-0c3aaec4e0eb"
      },
      "source": [
        "df.drop(df.columns.difference(['text','target']), 1, inplace=True)\n",
        "df['target'].replace({4: 1}, inplace = True)\n",
        "df.head(5)"
      ],
      "execution_count": 4,
      "outputs": [
        {
          "output_type": "execute_result",
          "data": {
            "text/html": [
              "<div>\n",
              "<style scoped>\n",
              "    .dataframe tbody tr th:only-of-type {\n",
              "        vertical-align: middle;\n",
              "    }\n",
              "\n",
              "    .dataframe tbody tr th {\n",
              "        vertical-align: top;\n",
              "    }\n",
              "\n",
              "    .dataframe thead th {\n",
              "        text-align: right;\n",
              "    }\n",
              "</style>\n",
              "<table border=\"1\" class=\"dataframe\">\n",
              "  <thead>\n",
              "    <tr style=\"text-align: right;\">\n",
              "      <th></th>\n",
              "      <th>target</th>\n",
              "      <th>text</th>\n",
              "    </tr>\n",
              "  </thead>\n",
              "  <tbody>\n",
              "    <tr>\n",
              "      <th>0</th>\n",
              "      <td>0</td>\n",
              "      <td>#brokenpromises...</td>\n",
              "    </tr>\n",
              "    <tr>\n",
              "      <th>1</th>\n",
              "      <td>0</td>\n",
              "      <td>David Carradine  so sad. Thai's law not sure i...</td>\n",
              "    </tr>\n",
              "    <tr>\n",
              "      <th>2</th>\n",
              "      <td>1</td>\n",
              "      <td>A @ 415 B @ 425. Tell your bro i say congrats!</td>\n",
              "    </tr>\n",
              "    <tr>\n",
              "      <th>3</th>\n",
              "      <td>1</td>\n",
              "      <td>@littlefluffycat  Indeed.</td>\n",
              "    </tr>\n",
              "    <tr>\n",
              "      <th>4</th>\n",
              "      <td>1</td>\n",
              "      <td>Completed Race 4 Life in 58mins with girlies f...</td>\n",
              "    </tr>\n",
              "  </tbody>\n",
              "</table>\n",
              "</div>"
            ],
            "text/plain": [
              "   target                                               text\n",
              "0       0                                #brokenpromises... \n",
              "1       0  David Carradine  so sad. Thai's law not sure i...\n",
              "2       1    A @ 415 B @ 425. Tell your bro i say congrats! \n",
              "3       1                          @littlefluffycat  Indeed.\n",
              "4       1  Completed Race 4 Life in 58mins with girlies f..."
            ]
          },
          "metadata": {
            "tags": []
          },
          "execution_count": 4
        }
      ]
    },
    {
      "cell_type": "markdown",
      "metadata": {
        "id": "t0Zrsit-SUJm"
      },
      "source": [
        "## Data pre-processing"
      ]
    },
    {
      "cell_type": "markdown",
      "metadata": {
        "id": "pKM0_pS5SUJm"
      },
      "source": [
        "### Removing the scpecial characters"
      ]
    },
    {
      "cell_type": "code",
      "metadata": {
        "id": "nzcEiq8tSUJm"
      },
      "source": [
        "import re\n",
        "\n",
        "def RemoveSpecialCharacters(x):\n",
        "    x = re.sub(r'[^\\w]+', \" \", x)\n",
        "    return x"
      ],
      "execution_count": 5,
      "outputs": []
    },
    {
      "cell_type": "code",
      "metadata": {
        "id": "gzJ4Kd61SUJm"
      },
      "source": [
        "df['text'] = df['text'].apply(lambda x: RemoveSpecialCharacters(x) )"
      ],
      "execution_count": 6,
      "outputs": []
    },
    {
      "cell_type": "markdown",
      "metadata": {
        "id": "5P15gBnWSUJm"
      },
      "source": [
        "### Lemmatize"
      ]
    },
    {
      "cell_type": "code",
      "metadata": {
        "id": "zk9vMwm0SUJm",
        "colab": {
          "base_uri": "https://localhost:8080/"
        },
        "outputId": "163bf441-4367-4698-f57b-11188b012dc7"
      },
      "source": [
        "import nltk\n",
        "nltk.download('wordnet')\n",
        "from nltk.stem import WordNetLemmatizer\n",
        "\n",
        "df['text'] = df['text'].apply(lambda x: WordNetLemmatizer().lemmatize(x))"
      ],
      "execution_count": 7,
      "outputs": [
        {
          "output_type": "stream",
          "text": [
            "[nltk_data] Downloading package wordnet to /root/nltk_data...\n",
            "[nltk_data]   Package wordnet is already up-to-date!\n"
          ],
          "name": "stdout"
        }
      ]
    },
    {
      "cell_type": "markdown",
      "metadata": {
        "id": "vTzW08GKSUJm"
      },
      "source": [
        "### Removing the upercase"
      ]
    },
    {
      "cell_type": "code",
      "metadata": {
        "id": "DrBPOkWcSUJm"
      },
      "source": [
        "df['text'] = df['text'].apply(lambda x: x.lower())"
      ],
      "execution_count": 8,
      "outputs": []
    },
    {
      "cell_type": "code",
      "metadata": {
        "colab": {
          "base_uri": "https://localhost:8080/",
          "height": 202
        },
        "id": "Sdae8kuml0mh",
        "outputId": "e56e6de7-3f3b-4ebe-9bba-2306909d9cfd"
      },
      "source": [
        "df.head(5)"
      ],
      "execution_count": 9,
      "outputs": [
        {
          "output_type": "execute_result",
          "data": {
            "text/html": [
              "<div>\n",
              "<style scoped>\n",
              "    .dataframe tbody tr th:only-of-type {\n",
              "        vertical-align: middle;\n",
              "    }\n",
              "\n",
              "    .dataframe tbody tr th {\n",
              "        vertical-align: top;\n",
              "    }\n",
              "\n",
              "    .dataframe thead th {\n",
              "        text-align: right;\n",
              "    }\n",
              "</style>\n",
              "<table border=\"1\" class=\"dataframe\">\n",
              "  <thead>\n",
              "    <tr style=\"text-align: right;\">\n",
              "      <th></th>\n",
              "      <th>target</th>\n",
              "      <th>text</th>\n",
              "    </tr>\n",
              "  </thead>\n",
              "  <tbody>\n",
              "    <tr>\n",
              "      <th>0</th>\n",
              "      <td>0</td>\n",
              "      <td>brokenpromises</td>\n",
              "    </tr>\n",
              "    <tr>\n",
              "      <th>1</th>\n",
              "      <td>0</td>\n",
              "      <td>david carradine so sad thai s law not sure if ...</td>\n",
              "    </tr>\n",
              "    <tr>\n",
              "      <th>2</th>\n",
              "      <td>1</td>\n",
              "      <td>a 415 b 425 tell your bro i say congrats</td>\n",
              "    </tr>\n",
              "    <tr>\n",
              "      <th>3</th>\n",
              "      <td>1</td>\n",
              "      <td>littlefluffycat indeed</td>\n",
              "    </tr>\n",
              "    <tr>\n",
              "      <th>4</th>\n",
              "      <td>1</td>\n",
              "      <td>completed race 4 life in 58mins with girlies f...</td>\n",
              "    </tr>\n",
              "  </tbody>\n",
              "</table>\n",
              "</div>"
            ],
            "text/plain": [
              "   target                                               text\n",
              "0       0                                    brokenpromises \n",
              "1       0  david carradine so sad thai s law not sure if ...\n",
              "2       1          a 415 b 425 tell your bro i say congrats \n",
              "3       1                            littlefluffycat indeed \n",
              "4       1  completed race 4 life in 58mins with girlies f..."
            ]
          },
          "metadata": {
            "tags": []
          },
          "execution_count": 9
        }
      ]
    },
    {
      "cell_type": "markdown",
      "metadata": {
        "id": "jnmaBb9USUJm"
      },
      "source": [
        "## Word embedding - GloVe\n",
        "GloVe is an unsupervised learning algorithm for obtaining vector representations for words. Training is performed on aggregated global word-word co-occurrence statistics from a corpus, and the resulting representations showcase interesting linear substructures of the word vector space. "
      ]
    },
    {
      "cell_type": "code",
      "metadata": {
        "id": "Jmlwwy9ynWQ9"
      },
      "source": [
        "from torchtext.vocab import GloVe\n",
        "glove = GloVe(name='twitter.27B', dim=25)"
      ],
      "execution_count": 10,
      "outputs": []
    },
    {
      "cell_type": "code",
      "metadata": {
        "id": "5l1kQXuOjXtZ"
      },
      "source": [
        "from torchtext.data import Field\n",
        "text_field = Field(sequential=True,tokenize='spacy',fix_length=100)\n",
        "\n",
        "label_field = Field(sequential=False, use_vocab=False)\n",
        "preprocessed_text = df['text'].apply(lambda x: text_field.preprocess(x)) #apply preprocess manually\n",
        "text_field.build_vocab(preprocessed_text, vectors=glove)  # load embedding with 25d\n",
        "vocab = text_field.vocab  # get the vocab instance"
      ],
      "execution_count": 11,
      "outputs": []
    },
    {
      "cell_type": "markdown",
      "metadata": {
        "id": "GTdO_4EFmZIS"
      },
      "source": [
        "### Create the datasets\n",
        "\n",
        "We have train, validation and test datasets that contain text and label information. Train has 80%, validation 10% and test 10%."
      ]
    },
    {
      "cell_type": "code",
      "metadata": {
        "id": "Vev1gKGRxQ-o"
      },
      "source": [
        "from torchtext.data import Dataset, Example\n",
        "fields = (('target', label_field),('text', text_field))\n",
        "train_dataset, valid_dataset, test_dataset= Dataset(examples=[Example.fromlist(list(r), fields)\n",
        "                                               for i, r in df.iterrows()],\n",
        "                                               fields = fields).split(split_ratio = [0.8, 0.1, 0.1])"
      ],
      "execution_count": 12,
      "outputs": []
    },
    {
      "cell_type": "markdown",
      "metadata": {
        "id": "F9sqYkzgSUJm"
      },
      "source": [
        "## Batching sentences together \n",
        "Use *BucketIterator* to create the batches for the 3 datasets with batch size 64."
      ]
    },
    {
      "cell_type": "code",
      "metadata": {
        "id": "MugWDpHxSUJm"
      },
      "source": [
        "from torchtext.data import BucketIterator\n",
        "train_iter, valid_iter, test_iter = BucketIterator.splits(datasets=(train_dataset, valid_dataset, test_dataset),\n",
        "                                                          batch_sizes=(64,64,64), sort=False)"
      ],
      "execution_count": 13,
      "outputs": []
    },
    {
      "cell_type": "markdown",
      "metadata": {
        "id": "otwbCFB8ES6W"
      },
      "source": [
        "## Training on GPU"
      ]
    },
    {
      "cell_type": "code",
      "metadata": {
        "id": "txRB3MpqETMj",
        "colab": {
          "base_uri": "https://localhost:8080/"
        },
        "outputId": "db513c91-6b16-4899-cfb3-c0c3659a40a9"
      },
      "source": [
        "import torch\r\n",
        "# First checking if GPU is available\r\n",
        "train_on_gpu=torch.cuda.is_available()\r\n",
        "\r\n",
        "if(train_on_gpu):\r\n",
        "    print('Training on GPU.')\r\n",
        "else:\r\n",
        "    print('No GPU available, training on CPU.')"
      ],
      "execution_count": 14,
      "outputs": [
        {
          "output_type": "stream",
          "text": [
            "No GPU available, training on CPU.\n"
          ],
          "name": "stdout"
        }
      ]
    },
    {
      "cell_type": "markdown",
      "metadata": {
        "id": "jzGmJL_PSUJm"
      },
      "source": [
        "## Architecture of RNN"
      ]
    },
    {
      "cell_type": "code",
      "metadata": {
        "id": "KwEPmlI8yjK-"
      },
      "source": [
        "import torch.nn as nn\n",
        "import numpy as np\n",
        "from numpy import zeros"
      ],
      "execution_count": 48,
      "outputs": []
    },
    {
      "cell_type": "code",
      "metadata": {
        "id": "54r961vkSUJm"
      },
      "source": [
        "class RNNclassifier(nn.Module):\n",
        "    \"\"\"\n",
        "    Wrapper module for RNN, LSTM, GRU cells using pytorch api. \n",
        "    The output is fed to a FFN for classification.\n",
        "    \"\"\"\n",
        "    def __init__(self,embedding, cell_type, input_size, output_size,embedding_dim = 25, \\\n",
        "                 hidden_size=100, num_layers=1, bidirectional=False, dropout = 0):\n",
        "        super(RNNclassifier, self).__init__()\n",
        "        \n",
        "        cells = {\n",
        "        \"RNN\" : nn.RNN,\n",
        "        \"LSTM\"    : nn.LSTM,\n",
        "        \"GRU\"     : nn.GRU\n",
        "    }\n",
        "        # Initializations\n",
        "        self.embedding = embedding\n",
        "        # dropout layer\n",
        "        self.dropout = nn.Dropout(dropout)\n",
        "        self.cell_type = cell_type\n",
        "        self.input_size, self.hidden_size, self.num_layers, self.output_size = input_size, hidden_size, num_layers, output_size\n",
        "        self.bidirectional = bidirectional\n",
        "        self.sigmoid = nn.Sigmoid()\n",
        "        self.rnn = cells[cell_type](         # Pick the specific model\n",
        "            input_size=embedding_dim,           # Number of features for each time step\n",
        "            hidden_size=hidden_size,         # Rnn hidden embedding representation\n",
        "            num_layers=num_layers,           # Number of layers (if >1 it is a stacked RNN)\n",
        "            dropout=dropout,\n",
        "            bidirectional=bidirectional, # If true it is a \n",
        "            batch_first=True,       # input & output will have batch size as 1st dimension. e.g. (batch, time_step, input_size)\n",
        "        )\n",
        "        \n",
        "        if bidirectional: # we'll have 2 more layers as the output to the final layer\n",
        "            self.out = nn.Linear(hidden_size * 2, output_size)\n",
        "        else:\n",
        "            self.out = nn.Linear(hidden_size, output_size)\n",
        "            \n",
        "    def forward(self, x, prints=False):\n",
        "\n",
        "        x = self.embedding[x]\n",
        "        # x = self.dropout(x)\n",
        "\n",
        "        if prints: \n",
        "            print('images shape:', x.shape)\n",
        "\n",
        "\n",
        "        # LSTM cells reutrn also the last cell states\n",
        "        if self.cell_type == 'LSTM':\n",
        "            r_out, (last_hidden_state, last_cell_state) = self.rnn(x.detach()) \n",
        "        else:\n",
        "            r_out, last_hidden_state = self.rnn(x.detach())\n",
        "      \n",
        "        r_out = r_out[:, -1, :]\n",
        "\n",
        "        out = self.out(r_out)\n",
        "\n",
        "        out = self.dropout(out)\n",
        "\n",
        "        return self.sigmoid(out)"
      ],
      "execution_count": 49,
      "outputs": []
    },
    {
      "cell_type": "code",
      "metadata": {
        "id": "UP2XqfdmSUJm"
      },
      "source": [
        "def train(model,X,y,optimizer,loss_fn):\n",
        "\n",
        "    if train_on_gpu:\n",
        "      X, y = X.cuda(), y.cuda()\n",
        "\n",
        "# step 1. Zero the gradients\n",
        "    optimizer.zero_grad()\n",
        "# step 2. Compute the output\n",
        "    y_pred = model(X)\n",
        "\n",
        "    if train_on_gpu:\n",
        "      y_pred = y_pred.squeeze().cuda()\n",
        "    else:\n",
        "      y_pred = y_pred.squeeze()\n",
        "# step 3. Compute the loss\n",
        "    loss = loss_fn(y_pred, y)\n",
        "# step 4. use loss to produce gradients\n",
        "    loss.backward()\n",
        "# step 5. use optimizer to take gradient step\n",
        "    optimizer.step()\n",
        "\n",
        "    return loss.item(),y_pred"
      ],
      "execution_count": 50,
      "outputs": []
    },
    {
      "cell_type": "code",
      "metadata": {
        "id": "_IePE6WPRvPL"
      },
      "source": [
        "def validate(classifier,X,y,loss_fn):\n",
        "  y_pred =  classifier(X)\n",
        "\n",
        "  if train_on_gpu:\n",
        "    y_pred = y_pred.squeeze().cuda()\n",
        "  else:\n",
        "    y_pred = y_pred.squeeze()\n",
        "\n",
        "  loss = loss_fn(y_pred, y)\n",
        "\n",
        "  return loss.item(),y_pred\n"
      ],
      "execution_count": 51,
      "outputs": []
    },
    {
      "cell_type": "code",
      "metadata": {
        "id": "Mw4BimL-SUJm"
      },
      "source": [
        "def predict(model,X):\n",
        "    outputs = model(X)\n",
        "    return torch.round(outputs)"
      ],
      "execution_count": 52,
      "outputs": []
    },
    {
      "cell_type": "markdown",
      "metadata": {
        "id": "i97djlJBSUJn"
      },
      "source": [
        "# Functions for training and testing net\n",
        "\n"
      ]
    },
    {
      "cell_type": "code",
      "metadata": {
        "id": "QIgk8Zm_Gai4"
      },
      "source": [
        "from sklearn.metrics import accuracy_score, f1_score,recall_score,precision_score\r\n",
        "\r\n",
        "def trainNet(net,train_iter,valid_iter,num_epochs):\r\n",
        "  # move model to GPU, if available\r\n",
        "  if train_on_gpu:\r\n",
        "      net.cuda()\r\n",
        "\r\n",
        "  # Accumulate losses\r\n",
        "  train_losses = []\r\n",
        "  valid_losses = []\r\n",
        "  epoch_train_losses = []\r\n",
        "  epoch_valid_losses = []\r\n",
        "\r\n",
        "  train_accuracy = []\r\n",
        "  valid_accuracy = []\r\n",
        "\r\n",
        "  for epoch in range(num_epochs):\r\n",
        "\r\n",
        "      #change to train mode\r\n",
        "      net.train() \r\n",
        "\r\n",
        "      train_accuracy = []\r\n",
        "      valid_accuracy = []\r\n",
        "\r\n",
        "      epoch_train_losses = []\r\n",
        "      epoch_valid_losses = []\r\n",
        "      for batch in train_iter:\r\n",
        "\r\n",
        "        loss, pred = train(net, batch.text.T, batch.target.float(), optimizer, loss_function)\r\n",
        "        epoch_train_losses.append(loss)\r\n",
        "        \r\n",
        "        pred = torch.round(pred)\r\n",
        "        pred = pred.detach().numpy()\r\n",
        "        test = batch.target.float()\r\n",
        "        test = test.numpy()\r\n",
        "\r\n",
        "        train_accuracy.append(accuracy_score(test, pred))\r\n",
        "\r\n",
        "        #Clip gradients\r\n",
        "        for param in net.parameters():\r\n",
        "            if param.grad is None:\r\n",
        "                continue\r\n",
        "            grad_val = torch.clamp(param.grad, -5, 5)\r\n",
        "      \r\n",
        "      # change to evaluation mode\r\n",
        "      net.eval()\r\n",
        "      print(\"\\n--------------------------------------------------------------------\\n\")\r\n",
        "      for step,batch in enumerate(valid_iter):\r\n",
        "          with torch.no_grad():\r\n",
        "            # Faster inference\r\n",
        "              if(train_on_gpu):\r\n",
        "                    inputs, labels = batch.text.cuda(), batch.target.float().cuda()\r\n",
        "              else:\r\n",
        "                inputs, labels = batch.text, batch.target.float()\r\n",
        "              \r\n",
        "              loss, pred = validate(net, inputs.T, labels,loss_function)\r\n",
        "              epoch_valid_losses.append(loss)\r\n",
        "\r\n",
        "              pred = torch.round(pred)\r\n",
        "              pred = pred.detach().numpy()\r\n",
        "              valid = labels\r\n",
        "              valid = valid.numpy()\r\n",
        "\r\n",
        "              valid_accuracy.append(accuracy_score(valid, pred))\r\n",
        "              # print(f'Epoch: {epoch}| Validation CE loss: {loss:4f} | Test accuracy: {100 * valid_accuracy[-1]:.2f} %')\r\n",
        "\r\n",
        "      print(f'Epoch: {epoch}|| Train accuracy: {100 * np.mean(train_accuracy):.2f} %')\r\n",
        "      print(f'Epoch: {epoch}|| Valid accuracy: {100 * np.mean(valid_accuracy):.2f} %')\r\n",
        "      \r\n",
        "      train_losses.append(np.mean(epoch_train_losses))\r\n",
        "      valid_losses.append(np.mean(epoch_valid_losses))\r\n",
        "\r\n",
        "  return train_losses,valid_losses\r\n",
        "\r\n"
      ],
      "execution_count": 53,
      "outputs": []
    },
    {
      "cell_type": "code",
      "metadata": {
        "id": "ntrRESB_VpGk"
      },
      "source": [
        "import matplotlib.pyplot as plt\n",
        "\n",
        "def lossVSepoch(valid_losses,train_losses):\n",
        "\n",
        "    plt.figure(figsize=(8,5))\n",
        "\n",
        "    plt.plot(valid_losses,'o-',color=\"r\")\n",
        "\n",
        "    plt.plot(train_losses,'o-',color=\"g\")\n",
        "\n",
        "    plt.grid()\n",
        "\n",
        "    plt.plot(valid_losses, 'o-', color=\"r\",\n",
        "                    label=\"Validation loss\")\n",
        "    plt.plot(train_losses,  'o-', color=\"g\",\n",
        "                    label=\"Training loss\")\n",
        "\n",
        "    plt.legend(loc=\"best\")\n",
        "\n",
        "    plt.xlabel(\"epochs\")\n",
        "    plt.ylabel(\"losses\")\n",
        "    plt.title(\"Scalability of the model\")\n",
        "\n",
        "    plt.show()"
      ],
      "execution_count": 54,
      "outputs": []
    },
    {
      "cell_type": "code",
      "metadata": {
        "id": "RSq0OlyjSUJn"
      },
      "source": [
        "from sklearn.metrics import accuracy_score, f1_score,recall_score,precision_score\n",
        "from sklearn.metrics import classification_report\n",
        "\n",
        "def testNet(net, test_iter):\n",
        "\n",
        "  accuracy = []\n",
        "  f1 = []\n",
        "  recall = []\n",
        "  precision = []\n",
        "  report = []\n",
        "\n",
        "  for batch in test_iter:\n",
        "        \n",
        "      y_pred = predict(net,batch.text.T)\n",
        "      y_pred = y_pred.detach().numpy()\n",
        "      y_test = batch.target.float()\n",
        "      y_test = y_test.numpy()\n",
        "\n",
        "      acc = accuracy_score(y_test, y_pred)\n",
        "      f1_sc = f1_score(y_test, y_pred, average='macro')\n",
        "      rec = recall_score(y_test, y_pred, average='macro')\n",
        "      prec = precision_score(y_test, y_pred, average='macro')\n",
        "      \n",
        "      accuracy.append(acc)\n",
        "      f1.append(f1_sc)\n",
        "      recall.append(rec)\n",
        "      precision.append(prec)\n",
        "      \n",
        "\n",
        "      report.append(classification_report(y_test, y_pred))\n",
        "    \n",
        "  print(\"Accuracy: \",np.mean(accuracy))\n",
        "  print(\"F1-score: \",np.mean(f1))\n",
        "  print(\"Recall-score: \",np.mean(recall))\n",
        "  print(\"Precision: \",np.mean(precision))\n",
        "  \n",
        "  return report"
      ],
      "execution_count": 55,
      "outputs": []
    },
    {
      "cell_type": "markdown",
      "metadata": {
        "id": "DCKcoFKcil_u"
      },
      "source": [
        "## Neural Network - **GRU**"
      ]
    },
    {
      "cell_type": "code",
      "metadata": {
        "id": "gHxrHpRUSUJn",
        "colab": {
          "base_uri": "https://localhost:8080/"
        },
        "outputId": "a0d455b0-8c65-4a74-897d-b63a0ac59fc4"
      },
      "source": [
        "# ====== STATICS ======\n",
        "input_size = 100       # length is 100, given in Field\n",
        "hidden_size = 200     # number of hidden neurons\n",
        "num_layers = 2        # number of layers\n",
        "output_size = 1     \n",
        "bidirectional = True\n",
        "cell_type = 'GRU'\n",
        "embedding_dim = 25\n",
        "dropout = 0.2\n",
        "# =====================\n",
        "\n",
        "net = RNNclassifier(vocab.vectors,cell_type, input_size, output_size,embedding_dim, hidden_size, num_layers, bidirectional,dropout)\n",
        "print(net)"
      ],
      "execution_count": 56,
      "outputs": [
        {
          "output_type": "stream",
          "text": [
            "RNNclassifier(\n",
            "  (dropout): Dropout(p=0.2, inplace=False)\n",
            "  (sigmoid): Sigmoid()\n",
            "  (rnn): GRU(25, 200, num_layers=2, batch_first=True, dropout=0.2, bidirectional=True)\n",
            "  (out): Linear(in_features=400, out_features=1, bias=True)\n",
            ")\n"
          ],
          "name": "stdout"
        }
      ]
    },
    {
      "cell_type": "code",
      "metadata": {
        "id": "6dcCnnLslEcm"
      },
      "source": [
        "num_epochs = 4\r\n",
        "LR = 0.01\r\n",
        "optimizer = torch.optim.Adam(net.parameters(), lr=LR)   # optimize all net parameters\r\n",
        "loss_function = nn.BCELoss() "
      ],
      "execution_count": 57,
      "outputs": []
    },
    {
      "cell_type": "markdown",
      "metadata": {
        "id": "lI1tCUCvlPIX"
      },
      "source": [
        "## Training"
      ]
    },
    {
      "cell_type": "code",
      "metadata": {
        "colab": {
          "base_uri": "https://localhost:8080/"
        },
        "id": "4Ot5JfiklIXo",
        "outputId": "a0c59951-e4b0-4720-d911-9d603998f680"
      },
      "source": [
        "valid_losses,train_losses = trainNet(net,train_iter,valid_iter,num_epochs)\r\n"
      ],
      "execution_count": 58,
      "outputs": [
        {
          "output_type": "stream",
          "text": [
            "\n",
            "--------------------------------------------------------------------\n",
            "\n",
            "Epoch: 0|| Train accuracy: 51.14 %\n",
            "Epoch: 0|| Valid accuracy: 49.41 %\n",
            "\n",
            "--------------------------------------------------------------------\n",
            "\n",
            "Epoch: 1|| Train accuracy: 54.67 %\n",
            "Epoch: 1|| Valid accuracy: 62.06 %\n",
            "\n",
            "--------------------------------------------------------------------\n",
            "\n",
            "Epoch: 2|| Train accuracy: 61.46 %\n",
            "Epoch: 2|| Valid accuracy: 68.41 %\n",
            "\n",
            "--------------------------------------------------------------------\n",
            "\n",
            "Epoch: 3|| Train accuracy: 64.49 %\n",
            "Epoch: 3|| Valid accuracy: 73.19 %\n"
          ],
          "name": "stdout"
        }
      ]
    },
    {
      "cell_type": "markdown",
      "metadata": {
        "id": "9djerouklSMW"
      },
      "source": [
        "## Testing"
      ]
    },
    {
      "cell_type": "code",
      "metadata": {
        "colab": {
          "base_uri": "https://localhost:8080/"
        },
        "id": "9P-2_1ejlu6O",
        "outputId": "2f9d771a-2844-4ead-de14-a397234153a7"
      },
      "source": [
        "reports = testNet(net, test_iter)\r\n"
      ],
      "execution_count": 59,
      "outputs": [
        {
          "output_type": "stream",
          "text": [
            "Accuracy:  0.72265625\n",
            "F1-score:  0.7192974964238934\n",
            "Recall-score:  0.7242409565476337\n",
            "Precision:  0.7261955565698741\n"
          ],
          "name": "stdout"
        }
      ]
    },
    {
      "cell_type": "markdown",
      "metadata": {
        "id": "ZySjB8sClveZ"
      },
      "source": [
        "## Loss vs epoch plot"
      ]
    },
    {
      "cell_type": "code",
      "metadata": {
        "colab": {
          "base_uri": "https://localhost:8080/",
          "height": 350
        },
        "id": "U178kENYlv0Z",
        "outputId": "cb1b15f3-7290-4845-f9f3-b6d84b2448ba"
      },
      "source": [
        "lossVSepoch(valid_losses,train_losses)"
      ],
      "execution_count": 60,
      "outputs": [
        {
          "output_type": "display_data",
          "data": {
            "image/png": "[encoded data removed]",
            "text/plain": [
              "<Figure size 576x360 with 1 Axes>"
            ]
          },
          "metadata": {
            "tags": [],
            "needs_background": "light"
          }
        }
      ]
    },
    {
      "cell_type": "markdown",
      "metadata": {
        "id": "dBm5Mp4voHtO"
      },
      "source": [
        "## Neural Network - **RNN**"
      ]
    },
    {
      "cell_type": "code",
      "metadata": {
        "colab": {
          "base_uri": "https://localhost:8080/"
        },
        "id": "rYSy6eWzoHtX",
        "outputId": "389fa2cf-a55a-404d-f37f-8272fbd3c4cf"
      },
      "source": [
        "# ====== STATICS ======\n",
        "input_size = 100       # length is 100, given in Field\n",
        "hidden_size = 200     # number of hidden neurons\n",
        "num_layers = 2        # number of layers\n",
        "output_size = 1     \n",
        "bidirectional = True\n",
        "cell_type = 'RNN'\n",
        "embedding_dim = 25\n",
        "dropout = 0.2\n",
        "# =====================\n",
        "\n",
        "net = RNNclassifier(vocab.vectors,cell_type, input_size, output_size,embedding_dim, hidden_size, num_layers, bidirectional,dropout)\n",
        "print(net)"
      ],
      "execution_count": 61,
      "outputs": [
        {
          "output_type": "stream",
          "text": [
            "RNNclassifier(\n",
            "  (dropout): Dropout(p=0.2, inplace=False)\n",
            "  (sigmoid): Sigmoid()\n",
            "  (rnn): RNN(25, 200, num_layers=2, batch_first=True, dropout=0.2, bidirectional=True)\n",
            "  (out): Linear(in_features=400, out_features=1, bias=True)\n",
            ")\n"
          ],
          "name": "stdout"
        }
      ]
    },
    {
      "cell_type": "code",
      "metadata": {
        "id": "A349Q8MvoHtY"
      },
      "source": [
        "num_epochs = 5\r\n",
        "LR = 0.01\r\n",
        "optimizer = torch.optim.Adam(net.parameters(), lr=LR)   # optimize all net parameters\r\n",
        "loss_function = nn.BCELoss() "
      ],
      "execution_count": 62,
      "outputs": []
    },
    {
      "cell_type": "markdown",
      "metadata": {
        "id": "rldM-i-noHtY"
      },
      "source": [
        "## Training"
      ]
    },
    {
      "cell_type": "code",
      "metadata": {
        "colab": {
          "base_uri": "https://localhost:8080/"
        },
        "id": "LuXyoUx-oHtZ",
        "outputId": "85010ef5-f0b0-4ee0-f4ee-05af43a27ccb"
      },
      "source": [
        "valid_losses,train_losses = trainNet(net,train_iter,valid_iter,num_epochs)\r\n"
      ],
      "execution_count": 63,
      "outputs": [
        {
          "output_type": "stream",
          "text": [
            "\n",
            "--------------------------------------------------------------------\n",
            "\n",
            "Epoch: 0|| Train accuracy: 50.14 %\n",
            "Epoch: 0|| Valid accuracy: 50.24 %\n",
            "\n",
            "--------------------------------------------------------------------\n",
            "\n",
            "Epoch: 1|| Train accuracy: 50.31 %\n",
            "Epoch: 1|| Valid accuracy: 49.56 %\n",
            "\n",
            "--------------------------------------------------------------------\n",
            "\n",
            "Epoch: 2|| Train accuracy: 50.26 %\n",
            "Epoch: 2|| Valid accuracy: 54.20 %\n",
            "\n",
            "--------------------------------------------------------------------\n",
            "\n",
            "Epoch: 3|| Train accuracy: 50.08 %\n",
            "Epoch: 3|| Valid accuracy: 53.86 %\n",
            "\n",
            "--------------------------------------------------------------------\n",
            "\n",
            "Epoch: 4|| Train accuracy: 50.74 %\n",
            "Epoch: 4|| Valid accuracy: 54.15 %\n"
          ],
          "name": "stdout"
        }
      ]
    },
    {
      "cell_type": "markdown",
      "metadata": {
        "id": "iMq7NLC0oHtZ"
      },
      "source": [
        "## Testing"
      ]
    },
    {
      "cell_type": "code",
      "metadata": {
        "id": "arpVF3DboHtZ",
        "outputId": "2da7d8de-c59b-4725-f9aa-42b271a8b205",
        "colab": {
          "base_uri": "https://localhost:8080/"
        }
      },
      "source": [
        "reports = testNet(net, test_iter)\r\n"
      ],
      "execution_count": 64,
      "outputs": [
        {
          "output_type": "stream",
          "text": [
            "Accuracy:  0.52880859375\n",
            "F1-score:  0.46161885808142183\n",
            "Recall-score:  0.5257479942799603\n",
            "Precision:  0.5471753029294762\n"
          ],
          "name": "stdout"
        }
      ]
    },
    {
      "cell_type": "markdown",
      "metadata": {
        "id": "se6MTriZoHtZ"
      },
      "source": [
        "## Loss vs epoch plot"
      ]
    },
    {
      "cell_type": "code",
      "metadata": {
        "id": "HKVAq_FjoHtZ",
        "outputId": "aad5c75a-6eb4-4aa8-d1f3-d6a5b8672635",
        "colab": {
          "base_uri": "https://localhost:8080/",
          "height": 350
        }
      },
      "source": [
        "lossVSepoch(valid_losses,train_losses)"
      ],
      "execution_count": 65,
      "outputs": [
        {
          "output_type": "display_data",
          "data": {
            "image/png": "[encoded data removed]",
            "text/plain": [
              "<Figure size 576x360 with 1 Axes>"
            ]
          },
          "metadata": {
            "tags": [],
            "needs_background": "light"
          }
        }
      ]
    },
    {
      "cell_type": "markdown",
      "metadata": {
        "id": "jF_wxktspKtT"
      },
      "source": [
        "## Neural Network - **LSTM**"
      ]
    },
    {
      "cell_type": "code",
      "metadata": {
        "colab": {
          "base_uri": "https://localhost:8080/"
        },
        "id": "2QGBVWT9pKtU",
        "outputId": "75bfbb54-8c72-44e2-c09c-b3b65e29b4c5"
      },
      "source": [
        "# ====== STATICS ======\n",
        "input_size = 100       # length is 100, given in Field\n",
        "hidden_size = 200     # number of hidden neurons\n",
        "num_layers = 2        # number of layers\n",
        "output_size = 1     \n",
        "bidirectional = True\n",
        "cell_type = 'LSTM'\n",
        "embedding_dim = 25\n",
        "dropout = 0.2\n",
        "# =====================\n",
        "\n",
        "net = RNNclassifier(vocab.vectors,cell_type, input_size, output_size,embedding_dim, hidden_size, num_layers, bidirectional,dropout)\n",
        "print(net)"
      ],
      "execution_count": 66,
      "outputs": [
        {
          "output_type": "stream",
          "text": [
            "RNNclassifier(\n",
            "  (dropout): Dropout(p=0.2, inplace=False)\n",
            "  (sigmoid): Sigmoid()\n",
            "  (rnn): LSTM(25, 200, num_layers=2, batch_first=True, dropout=0.2, bidirectional=True)\n",
            "  (out): Linear(in_features=400, out_features=1, bias=True)\n",
            ")\n"
          ],
          "name": "stdout"
        }
      ]
    },
    {
      "cell_type": "code",
      "metadata": {
        "id": "xzGeMz6EpKtU"
      },
      "source": [
        "num_epochs = 5\r\n",
        "LR = 0.01\r\n",
        "optimizer = torch.optim.Adam(net.parameters(), lr=LR)   # optimize all net parameters\r\n",
        "loss_function = nn.BCELoss() "
      ],
      "execution_count": 67,
      "outputs": []
    },
    {
      "cell_type": "markdown",
      "metadata": {
        "id": "CjWCJd9xpKtV"
      },
      "source": [
        "## Training"
      ]
    },
    {
      "cell_type": "code",
      "metadata": {
        "colab": {
          "base_uri": "https://localhost:8080/"
        },
        "id": "bO8m5xEZpKtV",
        "outputId": "13f47293-e0e3-41c5-997f-73cb1f052f7e"
      },
      "source": [
        "valid_losses,train_losses = trainNet(net,train_iter,valid_iter,num_epochs)\r\n"
      ],
      "execution_count": 68,
      "outputs": [
        {
          "output_type": "stream",
          "text": [
            "\n",
            "--------------------------------------------------------------------\n",
            "\n",
            "Epoch: 0|| Train accuracy: 48.89 %\n",
            "Epoch: 0|| Valid accuracy: 50.59 %\n",
            "\n",
            "--------------------------------------------------------------------\n",
            "\n",
            "Epoch: 1|| Train accuracy: 50.17 %\n",
            "Epoch: 1|| Valid accuracy: 50.54 %\n",
            "\n",
            "--------------------------------------------------------------------\n",
            "\n",
            "Epoch: 2|| Train accuracy: 49.82 %\n",
            "Epoch: 2|| Valid accuracy: 50.54 %\n",
            "\n",
            "--------------------------------------------------------------------\n",
            "\n",
            "Epoch: 3|| Train accuracy: 49.93 %\n",
            "Epoch: 3|| Valid accuracy: 49.46 %\n",
            "\n",
            "--------------------------------------------------------------------\n",
            "\n",
            "Epoch: 4|| Train accuracy: 49.71 %\n",
            "Epoch: 4|| Valid accuracy: 49.46 %\n"
          ],
          "name": "stdout"
        }
      ]
    },
    {
      "cell_type": "markdown",
      "metadata": {
        "id": "HbrAKv0zpKtV"
      },
      "source": [
        "## Testing"
      ]
    },
    {
      "cell_type": "code",
      "metadata": {
        "id": "Gpc9157spKtV",
        "outputId": "518430cb-23fd-4578-b1d7-567e133e25eb",
        "colab": {
          "base_uri": "https://localhost:8080/"
        }
      },
      "source": [
        "reports = testNet(net, test_iter)\r\n"
      ],
      "execution_count": 69,
      "outputs": [
        {
          "output_type": "stream",
          "text": [
            "/usr/local/lib/python3.6/dist-packages/sklearn/metrics/_classification.py:1272: UndefinedMetricWarning: Precision is ill-defined and being set to 0.0 in labels with no predicted samples. Use `zero_division` parameter to control this behavior.\n",
            "  _warn_prf(average, modifier, msg_start, len(result))\n",
            "/usr/local/lib/python3.6/dist-packages/sklearn/metrics/_classification.py:1272: UndefinedMetricWarning: Precision and F-score are ill-defined and being set to 0.0 in labels with no predicted samples. Use `zero_division` parameter to control this behavior.\n",
            "  _warn_prf(average, modifier, msg_start, len(result))\n"
          ],
          "name": "stderr"
        },
        {
          "output_type": "stream",
          "text": [
            "Accuracy:  0.49560546875\n",
            "F1-score:  0.3301807773049898\n",
            "Recall-score:  0.5\n",
            "Precision:  0.247802734375\n"
          ],
          "name": "stdout"
        }
      ]
    },
    {
      "cell_type": "markdown",
      "metadata": {
        "id": "1SvmdTPBpKtV"
      },
      "source": [
        "## Loss vs epoch plot"
      ]
    },
    {
      "cell_type": "code",
      "metadata": {
        "id": "qQmVR6aYpKtW",
        "outputId": "5f61719a-b730-4b03-9a0c-f4d1054594aa",
        "colab": {
          "base_uri": "https://localhost:8080/",
          "height": 350
        }
      },
      "source": [
        "lossVSepoch(valid_losses,train_losses)"
      ],
      "execution_count": 70,
      "outputs": [
        {
          "output_type": "display_data",
          "data": {
            "image/png": "[encoded data removed]",
            "text/plain": [
              "<Figure size 576x360 with 1 Axes>"
            ]
          },
          "metadata": {
            "tags": [],
            "needs_background": "light"
          }
        }
      ]
    },
    {
      "cell_type": "markdown",
      "metadata": {
        "id": "ILDXl02Rl9c0"
      },
      "source": [
        "# **Remarks**"
      ]
    },
    {
      "cell_type": "markdown",
      "metadata": {
        "id": "ICYMgJqXmDlE"
      },
      "source": [
        "\n",
        "\n",
        "*   For this model we used GloVe for the pre-process, with vector size 25. RMS was chosen as an optimizer and BCELoss as loss function, because of the binary classification.\n",
        "*   For neural network architecture:\n",
        "\n",
        "> * The first layer is an Embedding layer, which matches the input vectors to the vocabulary vectors.\n",
        "> * The second layer is a Linear hidden layer,which accepts as input size, the size of the features multiplied by the size of the GloVe vectors. It uses ReLU as activation function.\n",
        ">* The output layer is Linear with input dimension  200 and output 1 with sigmoid as activation function.\n",
        "\n",
        "\n",
        "\n",
        "\n",
        "\n",
        "\n",
        "\n"
      ]
    },
    {
      "cell_type": "markdown",
      "metadata": {
        "id": "ItgHWhmHOHNz"
      },
      "source": [
        "## References"
      ]
    },
    {
      "cell_type": "markdown",
      "metadata": {
        "id": "aFC-MQOGOKd8"
      },
      "source": [
        "\n",
        "\n",
        "*   https://towardsdatascience.com/deep-learning-for-nlp-with-pytorch-and-torchtext-4f92d69052f\n",
        "\n",
        "\n"
      ]
    }
  ]
}